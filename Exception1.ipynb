{
 "cells": [
  {
   "cell_type": "markdown",
   "id": "754a3d73",
   "metadata": {},
   "source": [
    "###### Q1. What is an Exception in python? Write the difference between Exceptions and syntax errors"
   ]
  },
  {
   "cell_type": "markdown",
   "id": "b386b088",
   "metadata": {},
   "source": [
    "A1. In programming, exception handling is the process of responding to errors. \n",
    "In Python, exceptions are handled using the try/except/finally statement."
   ]
  },
  {
   "cell_type": "markdown",
   "id": "945a1bf0",
   "metadata": {},
   "source": [
    "A syntax error occurs when the structure of a program does not conform to the rules of the programming language. Syntax errors are usually detected by the compiler or interpreter when the program is being compiled or executed, and they prevent the program from running. Syntax errors are usually caused by mistakes in the source code, such as typos, omissions, or incorrect use of syntax.\n",
    "\n",
    "An exception is an abnormal event that occurs during the execution of a program. Exceptions are usually caused by runtime errors, such as dividing by zero, trying to access an element in an array with an out-of-bounds index, or trying to access a file that does not exist. Exceptions are not syntax errors, but they can still prevent the program from running if they are not handled properly."
   ]
  },
  {
   "cell_type": "markdown",
   "id": "ec3440fb",
   "metadata": {},
   "source": [
    "###### Q2. What happens when an exception is not handled? Explain withan example"
   ]
  },
  {
   "cell_type": "markdown",
   "id": "86c55b90",
   "metadata": {},
   "source": [
    "A2. When an exception is raised during the execution of code, it disrupts the normal flow of the program and can lead to a halt state or even a crash. To avoid this, it's important to do Exception handling in Python in a way that allows the program to continue running even if an error occurs."
   ]
  },
  {
   "cell_type": "code",
   "execution_count": 1,
   "id": "754a323f",
   "metadata": {},
   "outputs": [
    {
     "ename": "ZeroDivisionError",
     "evalue": "division by zero",
     "output_type": "error",
     "traceback": [
      "\u001b[1;31m---------------------------------------------------------------------------\u001b[0m",
      "\u001b[1;31mZeroDivisionError\u001b[0m                         Traceback (most recent call last)",
      "Cell \u001b[1;32mIn[1], line 1\u001b[0m\n\u001b[1;32m----> 1\u001b[0m \u001b[38;5;28mprint\u001b[39m(\u001b[38;5;241;43m4\u001b[39;49m\u001b[38;5;241;43m/\u001b[39;49m\u001b[38;5;241;43m0\u001b[39;49m)\n\u001b[0;32m      2\u001b[0m \u001b[38;5;28mprint\u001b[39m(\u001b[38;5;124m\"\u001b[39m\u001b[38;5;124mError\u001b[39m\u001b[38;5;124m\"\u001b[39m)\n",
      "\u001b[1;31mZeroDivisionError\u001b[0m: division by zero"
     ]
    }
   ],
   "source": [
    "print(4/0)\n",
    "print(\"Error\")"
   ]
  },
  {
   "cell_type": "markdown",
   "id": "802d644f",
   "metadata": {},
   "source": [
    "Q3. Which Python statements are used to catch and handle exceptions? Explain with an example"
   ]
  },
  {
   "cell_type": "markdown",
   "id": "fd1e4bc3",
   "metadata": {},
   "source": [
    "A3. try and catch statement are used to catch and handle exceptions."
   ]
  },
  {
   "cell_type": "code",
   "execution_count": 2,
   "id": "58750c07",
   "metadata": {},
   "outputs": [
    {
     "name": "stdout",
     "output_type": "stream",
     "text": [
      "division by zero\n"
     ]
    }
   ],
   "source": [
    "try:\n",
    "    print(4/0)\n",
    "except Exception as e:\n",
    "    print(e)"
   ]
  },
  {
   "cell_type": "markdown",
   "id": "feb11135",
   "metadata": {},
   "source": [
    "###### Q4. Explain withan example: a. try and else b. finally c. raise"
   ]
  },
  {
   "cell_type": "markdown",
   "id": "281615ce",
   "metadata": {},
   "source": [
    "A4. \n",
    "\n",
    "a.try : The try block lets you test a block of code for errors.\n",
    "  else : The else block lets you execute code when there is no error.\n",
    "\n",
    "b.finally : The finally block lets you execute code, regardless of the result of the try- and except blocks.\n",
    "\n",
    "c.raise : To throw (or raise) an exception, we use the raise keyword."
   ]
  },
  {
   "cell_type": "code",
   "execution_count": 3,
   "id": "0234cc29",
   "metadata": {},
   "outputs": [
    {
     "name": "stdout",
     "output_type": "stream",
     "text": [
      "0.5\n",
      "I happen as try is successful\n",
      "I don't care\n"
     ]
    }
   ],
   "source": [
    "try:\n",
    "    print(1/2)\n",
    "except Exception as e:\n",
    "    print(\"There is a problem!\")\n",
    "else:\n",
    "    print(\"I happen as try is successful\")\n",
    "finally:\n",
    "    print(\"I don't care\")"
   ]
  },
  {
   "cell_type": "code",
   "execution_count": 4,
   "id": "b8df7563",
   "metadata": {},
   "outputs": [
    {
     "name": "stdout",
     "output_type": "stream",
     "text": [
      "There is a problem!\n",
      "I don't care\n"
     ]
    }
   ],
   "source": [
    "try:\n",
    "    print(1/0)\n",
    "except Exception as e:\n",
    "    print(\"There is a problem!\")\n",
    "else:\n",
    "    print(\"I happen as try is successful\")\n",
    "finally:\n",
    "    print(\"I don't care\")"
   ]
  },
  {
   "cell_type": "code",
   "execution_count": 5,
   "id": "ba55037b",
   "metadata": {},
   "outputs": [
    {
     "ename": "Exception",
     "evalue": "Sorry, no numbers below zero",
     "output_type": "error",
     "traceback": [
      "\u001b[1;31m---------------------------------------------------------------------------\u001b[0m",
      "\u001b[1;31mException\u001b[0m                                 Traceback (most recent call last)",
      "Cell \u001b[1;32mIn[5], line 4\u001b[0m\n\u001b[0;32m      1\u001b[0m x \u001b[38;5;241m=\u001b[39m \u001b[38;5;241m-\u001b[39m\u001b[38;5;241m1\u001b[39m\n\u001b[0;32m      3\u001b[0m \u001b[38;5;28;01mif\u001b[39;00m x \u001b[38;5;241m<\u001b[39m \u001b[38;5;241m0\u001b[39m:\n\u001b[1;32m----> 4\u001b[0m     \u001b[38;5;28;01mraise\u001b[39;00m \u001b[38;5;167;01mException\u001b[39;00m(\u001b[38;5;124m\"\u001b[39m\u001b[38;5;124mSorry, no numbers below zero\u001b[39m\u001b[38;5;124m\"\u001b[39m)\n",
      "\u001b[1;31mException\u001b[0m: Sorry, no numbers below zero"
     ]
    }
   ],
   "source": [
    "x = -1\n",
    "\n",
    "if x < 0:\n",
    "    raise Exception(\"Sorry, no numbers below zero\") "
   ]
  },
  {
   "cell_type": "markdown",
   "id": "4e1cb364",
   "metadata": {},
   "source": [
    "###### Q5. What are Custom Exceptions in python? Why do we need Custom Exxeptions? Explain with an example.\n"
   ]
  },
  {
   "cell_type": "markdown",
   "id": "0f7672db",
   "metadata": {},
   "source": [
    "A5. Custom exception in Python is a regular classes that inherit from the Exception class. Custom exceptions will add information about project-related problems."
   ]
  },
  {
   "cell_type": "markdown",
   "id": "b6e15370",
   "metadata": {},
   "source": [
    "Built-in exceptions offer information about Python-related problems, and custom exceptions will add information about project-related problems. That way, you can design your code (and traceback, if an exception is raised) in a way that combines Python code with the language of the project."
   ]
  },
  {
   "cell_type": "markdown",
   "id": "94382ab7",
   "metadata": {},
   "source": [
    "###### Q6. Create custom exception class. Use this class to handle an exception."
   ]
  },
  {
   "cell_type": "code",
   "execution_count": 6,
   "id": "d011ec37",
   "metadata": {},
   "outputs": [],
   "source": [
    "class validate(Exception):\n",
    "    def __init__(self,msg):\n",
    "        self.msg = msg"
   ]
  },
  {
   "cell_type": "code",
   "execution_count": 7,
   "id": "2cecb875",
   "metadata": {},
   "outputs": [],
   "source": [
    "def valid_age(age):\n",
    "    try:\n",
    "        age = int(age)\n",
    "    except Exception as e:\n",
    "        raise validate(\"Age always should be a positive integer!\")\n",
    "    \n",
    "    else: \n",
    "        \n",
    "        if age < 0:\n",
    "            raise validate(\"Age always should be a positive integer!\")\n",
    "        elif age > 200:\n",
    "            raise validate(\"Too old!\")\n",
    "        else: print(\"valid age\")"
   ]
  },
  {
   "cell_type": "code",
   "execution_count": 8,
   "id": "e4dae3df",
   "metadata": {},
   "outputs": [
    {
     "name": "stdout",
     "output_type": "stream",
     "text": [
      "Enter Your age : qwerty\n",
      "Age always should be a positive integer!\n"
     ]
    }
   ],
   "source": [
    "try:\n",
    "    a = valid_age(input(\"Enter Your age : \"))\n",
    "except validate as v:\n",
    "    print(v)"
   ]
  },
  {
   "cell_type": "code",
   "execution_count": null,
   "id": "3cad905e",
   "metadata": {},
   "outputs": [],
   "source": []
  }
 ],
 "metadata": {
  "kernelspec": {
   "display_name": "Python 3 (ipykernel)",
   "language": "python",
   "name": "python3"
  },
  "language_info": {
   "codemirror_mode": {
    "name": "ipython",
    "version": 3
   },
   "file_extension": ".py",
   "mimetype": "text/x-python",
   "name": "python",
   "nbconvert_exporter": "python",
   "pygments_lexer": "ipython3",
   "version": "3.8.18"
  }
 },
 "nbformat": 4,
 "nbformat_minor": 5
}
