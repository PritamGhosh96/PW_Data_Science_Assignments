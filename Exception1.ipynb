{
 "cells": [
  {
   "cell_type": "markdown",
   "id": "03e4e1c8",
   "metadata": {},
   "source": [
    "Q1. What is an Exception in python? Write the difference between Exceptions and syntax errors"
   ]
  },
  {
   "cell_type": "markdown",
   "id": "73a4ea5f",
   "metadata": {},
   "source": [
    "A1. In programming, exception handling is the process of responding to errors. \n",
    "In Python, exceptions are handled using the try/except/finally statement."
   ]
  },
  {
   "cell_type": "markdown",
   "id": "721c6ffb",
   "metadata": {},
   "source": [
    "Errors mostly happen at compile-time like syntax error; however it can happen at runtime as well. \n",
    "Whereas an Exception occurs at runtime"
   ]
  },
  {
   "cell_type": "markdown",
   "id": "753bc84b",
   "metadata": {},
   "source": [
    "Q2. What happens when an exception is not handled? Explain withan example"
   ]
  },
  {
   "cell_type": "markdown",
   "id": "1920c67d",
   "metadata": {},
   "source": [
    "A2. If an Exception is not handled properly then the code will stop running at the error point."
   ]
  },
  {
   "cell_type": "code",
   "execution_count": 1,
   "id": "a9e82577",
   "metadata": {},
   "outputs": [
    {
     "ename": "ZeroDivisionError",
     "evalue": "division by zero",
     "output_type": "error",
     "traceback": [
      "\u001b[1;31m---------------------------------------------------------------------------\u001b[0m",
      "\u001b[1;31mZeroDivisionError\u001b[0m                         Traceback (most recent call last)",
      "\u001b[1;32m<ipython-input-1-14424ab8ddf0>\u001b[0m in \u001b[0;36m<module>\u001b[1;34m\u001b[0m\n\u001b[1;32m----> 1\u001b[1;33m \u001b[0mprint\u001b[0m\u001b[1;33m(\u001b[0m\u001b[1;36m4\u001b[0m\u001b[1;33m/\u001b[0m\u001b[1;36m0\u001b[0m\u001b[1;33m)\u001b[0m\u001b[1;33m\u001b[0m\u001b[1;33m\u001b[0m\u001b[0m\n\u001b[0m\u001b[0;32m      2\u001b[0m \u001b[0mprint\u001b[0m\u001b[1;33m(\u001b[0m\u001b[1;34m\"Error\"\u001b[0m\u001b[1;33m)\u001b[0m\u001b[1;33m\u001b[0m\u001b[1;33m\u001b[0m\u001b[0m\n",
      "\u001b[1;31mZeroDivisionError\u001b[0m: division by zero"
     ]
    }
   ],
   "source": [
    "print(4/0)\n",
    "print(\"Error\")"
   ]
  },
  {
   "cell_type": "markdown",
   "id": "cecaea11",
   "metadata": {},
   "source": [
    "Q3. Which Python statements are used to catch and handle exceptions? Explain with an example"
   ]
  },
  {
   "cell_type": "markdown",
   "id": "c0f2e590",
   "metadata": {},
   "source": [
    "A3. try and catch statement are used to catch and handle exceptions."
   ]
  },
  {
   "cell_type": "code",
   "execution_count": 2,
   "id": "f30b0d62",
   "metadata": {},
   "outputs": [
    {
     "name": "stdout",
     "output_type": "stream",
     "text": [
      "division by zero\n"
     ]
    }
   ],
   "source": [
    "try:\n",
    "    print(4/0)\n",
    "except Exception as e:\n",
    "    print(e)"
   ]
  },
  {
   "cell_type": "markdown",
   "id": "30c2f7fb",
   "metadata": {},
   "source": [
    "Q4. Explain withan example:\n",
    "    \n",
    "    a.try and else\n",
    "    \n",
    "    b.finally\n",
    "    \n",
    "    c.raise"
   ]
  },
  {
   "cell_type": "markdown",
   "id": "bcef58ad",
   "metadata": {},
   "source": [
    "A1. \n",
    "\n",
    "a.try and else : try to catch an error. If no error else part will run. \n",
    "\n",
    "b.finally : will alawys run\n",
    "\n",
    "c.raise : will raise an exception  "
   ]
  },
  {
   "cell_type": "code",
   "execution_count": 3,
   "id": "6f84be1c",
   "metadata": {},
   "outputs": [
    {
     "name": "stdout",
     "output_type": "stream",
     "text": [
      "0.5\n",
      "I happen as try is successful\n",
      "I don't care\n"
     ]
    }
   ],
   "source": [
    "try:\n",
    "    print(1/2)\n",
    "except Exception as e:\n",
    "    print(\"Raising exception\")\n",
    "else:\n",
    "    print(\"I happen as try is successful\")\n",
    "finally:\n",
    "    print(\"I don't care\")"
   ]
  },
  {
   "cell_type": "code",
   "execution_count": 6,
   "id": "120a32d6",
   "metadata": {},
   "outputs": [
    {
     "name": "stdout",
     "output_type": "stream",
     "text": [
      "Raising exception\n",
      "I don't care\n"
     ]
    }
   ],
   "source": [
    "try:\n",
    "    print(1/0)\n",
    "except Exception as e:\n",
    "    print(\"Raising exception\")\n",
    "else:\n",
    "    print(\"I happen as try is successful\")\n",
    "finally:\n",
    "    print(\"I don't care\")"
   ]
  },
  {
   "cell_type": "code",
   "execution_count": 7,
   "id": "fdc866ed",
   "metadata": {},
   "outputs": [
    {
     "ename": "Exception",
     "evalue": "The number shouldn't be an odd integer",
     "output_type": "error",
     "traceback": [
      "\u001b[1;31m---------------------------------------------------------------------------\u001b[0m",
      "\u001b[1;31mException\u001b[0m                                 Traceback (most recent call last)",
      "\u001b[1;32m<ipython-input-7-971210b8679b>\u001b[0m in \u001b[0;36m<module>\u001b[1;34m\u001b[0m\n\u001b[0;32m      2\u001b[0m \u001b[1;33m\u001b[0m\u001b[0m\n\u001b[0;32m      3\u001b[0m \u001b[1;32mif\u001b[0m \u001b[0ma\u001b[0m \u001b[1;33m%\u001b[0m \u001b[1;36m2\u001b[0m \u001b[1;33m!=\u001b[0m \u001b[1;36m0\u001b[0m\u001b[1;33m:\u001b[0m\u001b[1;33m\u001b[0m\u001b[1;33m\u001b[0m\u001b[0m\n\u001b[1;32m----> 4\u001b[1;33m     \u001b[1;32mraise\u001b[0m \u001b[0mException\u001b[0m\u001b[1;33m(\u001b[0m\u001b[1;34m\"The number shouldn't be an odd integer\"\u001b[0m\u001b[1;33m)\u001b[0m\u001b[1;33m\u001b[0m\u001b[1;33m\u001b[0m\u001b[0m\n\u001b[0m",
      "\u001b[1;31mException\u001b[0m: The number shouldn't be an odd integer"
     ]
    }
   ],
   "source": [
    "a = 5\n",
    "  \n",
    "if a % 2 != 0: \n",
    "    raise Exception(\"The number shouldn't be an odd integer\") "
   ]
  },
  {
   "cell_type": "markdown",
   "id": "144eea4c",
   "metadata": {},
   "source": [
    "Q5. What are Custom Exceptions in python? Why do we need Custom Exxeptions? Explain with an example.\n",
    "Q6. Create custom exception class. Use this class to handlean ex,eption."
   ]
  },
  {
   "cell_type": "markdown",
   "id": "fc81f610",
   "metadata": {},
   "source": [
    "A5. Custom exception in Python is a regular classes that inherit from the Exception class."
   ]
  },
  {
   "cell_type": "markdown",
   "id": "28c7836e",
   "metadata": {},
   "source": [
    "Custom exceptions will add information about project-related problems."
   ]
  },
  {
   "cell_type": "code",
   "execution_count": 12,
   "id": "bb4394ee",
   "metadata": {},
   "outputs": [],
   "source": [
    "class validate(Exception):\n",
    "    def __init__(self,msg):\n",
    "        self.msg = msg"
   ]
  },
  {
   "cell_type": "code",
   "execution_count": 13,
   "id": "3e0245ef",
   "metadata": {},
   "outputs": [],
   "source": [
    "def valid_age(age):\n",
    "    try:\n",
    "        age = int(age)\n",
    "    except Exception as e:\n",
    "        raise validate(\"Age always should be a positive integer!\")\n",
    "    \n",
    "    else: \n",
    "        \n",
    "        if age < 0:\n",
    "            raise validate(\"Age always should be a positive integer!\")\n",
    "        elif age > 200:\n",
    "            raise validate(\"Too old, Dude!\")\n",
    "        else: print(\"valid age\")"
   ]
  },
  {
   "cell_type": "code",
   "execution_count": 14,
   "id": "d2dbc35d",
   "metadata": {},
   "outputs": [
    {
     "name": "stdout",
     "output_type": "stream",
     "text": [
      "Enter Your age : qwefvb\n",
      "Age always should be a positive integer!\n"
     ]
    }
   ],
   "source": [
    "try:\n",
    "    a = valid_age(input(\"Enter Your age : \"))\n",
    "except validate as v:\n",
    "    print(v)"
   ]
  },
  {
   "cell_type": "code",
   "execution_count": null,
   "id": "5bc12c60",
   "metadata": {},
   "outputs": [],
   "source": []
  }
 ],
 "metadata": {
  "kernelspec": {
   "display_name": "Python 3",
   "language": "python",
   "name": "python3"
  },
  "language_info": {
   "codemirror_mode": {
    "name": "ipython",
    "version": 3
   },
   "file_extension": ".py",
   "mimetype": "text/x-python",
   "name": "python",
   "nbconvert_exporter": "python",
   "pygments_lexer": "ipython3",
   "version": "3.8.8"
  }
 },
 "nbformat": 4,
 "nbformat_minor": 5
}
