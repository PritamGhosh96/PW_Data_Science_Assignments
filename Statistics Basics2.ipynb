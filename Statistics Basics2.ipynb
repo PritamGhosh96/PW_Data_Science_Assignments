{
 "cells": [
  {
   "cell_type": "markdown",
   "id": "05d9fd3d",
   "metadata": {},
   "source": [
    "###### Q1. What are the three measures of central tendency?"
   ]
  },
  {
   "cell_type": "markdown",
   "id": "e3d8ede0",
   "metadata": {},
   "source": [
    "Mean\n",
    "\n",
    "Median\n",
    "\n",
    "Mode"
   ]
  },
  {
   "cell_type": "markdown",
   "id": "f03282e7",
   "metadata": {},
   "source": [
    "###### Q2. What is the difference between the mean, median, and mode? How are they used to measure the central tendency of a dataset?"
   ]
  },
  {
   "cell_type": "markdown",
   "id": "c26905ba",
   "metadata": {},
   "source": [
    "Mean is the average value of the whole dataset.\n",
    "<br>Median is the middle value of the ascendingly sorted dataset.\n",
    "<br>Mode is the value with highest frequency in the dataset"
   ]
  },
  {
   "cell_type": "markdown",
   "id": "44943ddb",
   "metadata": {},
   "source": [
    "For a Normal Distribution dataset, Mean = Median = Mode\n",
    "<br>For a Right skewed Distribution dataset, Mean < Median < Mode\n",
    "<br>For a Left skewed Distribution dataset, Mean > Median > Mode"
   ]
  },
  {
   "cell_type": "markdown",
   "id": "21406ff4",
   "metadata": {},
   "source": [
    "###### Q3. Measure the three measures of central tendency for the given height data:\n",
    "[178,177,176,177,178.2,178,175,179,180,175,178.9,176.2,177,172.5,178,176.5]"
   ]
  },
  {
   "cell_type": "code",
   "execution_count": 1,
   "id": "ba28a9cb",
   "metadata": {},
   "outputs": [],
   "source": [
    "import numpy as np\n",
    "from scipy import stats\n",
    "\n",
    "data = np.array([178,177,176,177,178.2,178,175,179,180,175,178.9,176.2,177,172.5,178,176.5])"
   ]
  },
  {
   "cell_type": "code",
   "execution_count": 2,
   "id": "64b8f2d3",
   "metadata": {},
   "outputs": [
    {
     "data": {
      "text/plain": [
       "177.01875"
      ]
     },
     "execution_count": 2,
     "metadata": {},
     "output_type": "execute_result"
    }
   ],
   "source": [
    "data.mean()"
   ]
  },
  {
   "cell_type": "code",
   "execution_count": 3,
   "id": "61079a41",
   "metadata": {},
   "outputs": [
    {
     "data": {
      "text/plain": [
       "177.0"
      ]
     },
     "execution_count": 3,
     "metadata": {},
     "output_type": "execute_result"
    }
   ],
   "source": [
    "np.median(data)"
   ]
  },
  {
   "cell_type": "code",
   "execution_count": 4,
   "id": "3d3aa175",
   "metadata": {},
   "outputs": [
    {
     "name": "stderr",
     "output_type": "stream",
     "text": [
      "C:\\Users\\prita\\AppData\\Local\\Temp\\ipykernel_4648\\3992244840.py:1: FutureWarning: Unlike other reduction functions (e.g. `skew`, `kurtosis`), the default behavior of `mode` typically preserves the axis it acts along. In SciPy 1.11.0, this behavior will change: the default value of `keepdims` will become False, the `axis` over which the statistic is taken will be eliminated, and the value None will no longer be accepted. Set `keepdims` to True or False to avoid this warning.\n",
      "  stats.mode(data)[0]\n"
     ]
    },
    {
     "data": {
      "text/plain": [
       "array([177.])"
      ]
     },
     "execution_count": 4,
     "metadata": {},
     "output_type": "execute_result"
    }
   ],
   "source": [
    "stats.mode(data)[0]"
   ]
  },
  {
   "cell_type": "markdown",
   "id": "3a638b81",
   "metadata": {},
   "source": [
    "###### Q4. Find the standard deviation for the given data:\n",
    "[178,177,176,177,178.2,178,175,179,180,175,178.9,176.2,177,172.5,178,176.5]"
   ]
  },
  {
   "cell_type": "code",
   "execution_count": 5,
   "id": "ef13d729",
   "metadata": {},
   "outputs": [
    {
     "data": {
      "text/plain": [
       "1.7885814036548633"
      ]
     },
     "execution_count": 5,
     "metadata": {},
     "output_type": "execute_result"
    }
   ],
   "source": [
    "np.std(data)"
   ]
  },
  {
   "cell_type": "markdown",
   "id": "eb78b7c3",
   "metadata": {},
   "source": [
    "###### Q5. How are measures of dispersion such as range, variance, and standard deviation used to describe the spread of a dataset? Provide an example."
   ]
  },
  {
   "cell_type": "markdown",
   "id": "1875afe2",
   "metadata": {},
   "source": [
    "Range\n",
    "\n",
    "The range of the data is given as the difference between the maximum and the minimum values of the observations in the data. For example, let’s say we have data on the number of customers walking in the store in a week. \n",
    "\n",
    "10, 14, 8, 10, 15, 4, 7\n",
    "\n",
    "Minimum value in data = 7 \n",
    "\n",
    "Maximum Value in the data = 15\n",
    "\n",
    "Range = Maximum Value in the data – Minimum value in the data  \n",
    "\n",
    "           = 15 – 7 \n",
    "\n",
    "           = 8 \n",
    "\n",
    "Now we can say that the range of the data is 8. This gives us an idea about the spread of the data but doesn’t tell how the data is distributed. "
   ]
  },
  {
   "cell_type": "markdown",
   "id": "0f0cb475",
   "metadata": {},
   "source": [
    "Variance \n",
    "\n",
    "The variance of the data is given by measuring the distance of the observed values from the mean of the distribution. Here we are not concerned with the sign of the distance of the point, we are more interested in the magnitude. So, we take squares of the distance from the mean. \n",
    "\n",
    "For Example, For the data [10, 14, 8, 10, 15, 4, 7] the mean is :"
   ]
  },
  {
   "cell_type": "code",
   "execution_count": 6,
   "id": "cdfc6248",
   "metadata": {},
   "outputs": [
    {
     "data": {
      "text/plain": [
       "9.714285714285714"
      ]
     },
     "execution_count": 6,
     "metadata": {},
     "output_type": "execute_result"
    }
   ],
   "source": [
    "mean = np.mean([10, 14, 8, 10, 15, 4, 7])\n",
    "mean"
   ]
  },
  {
   "cell_type": "markdown",
   "id": "b361f563",
   "metadata": {},
   "source": [
    "So the Variance is  = ((10-mean)^2+(14-mean)^2+(8-mean)^2+(10-mean)^2+(15-mean)^2+(4-mean)^2+(7-mean)^2)/(len([10, 14, 8, 10, 15, 4, 7] -1))"
   ]
  },
  {
   "cell_type": "code",
   "execution_count": 7,
   "id": "26e7c535",
   "metadata": {},
   "outputs": [
    {
     "data": {
      "text/plain": [
       "12.775510204081632"
      ]
     },
     "execution_count": 7,
     "metadata": {},
     "output_type": "execute_result"
    }
   ],
   "source": [
    "np.var([10, 14, 8, 10, 15, 4, 7])"
   ]
  },
  {
   "cell_type": "markdown",
   "id": "25cda86a",
   "metadata": {},
   "source": [
    "Standard Deviation\n",
    "\n",
    "In the calculation of variance, notice that the units of the variance and the unit of the observations are not the same. So, to remove this problem, we define standard deviation. \n",
    "\n",
    "We define it as var^0.5"
   ]
  },
  {
   "cell_type": "code",
   "execution_count": 8,
   "id": "e231073e",
   "metadata": {},
   "outputs": [
    {
     "data": {
      "text/plain": [
       "3.5742845723419436"
      ]
     },
     "execution_count": 8,
     "metadata": {},
     "output_type": "execute_result"
    }
   ],
   "source": [
    "np.std([10, 14, 8, 10, 15, 4, 7])"
   ]
  },
  {
   "cell_type": "markdown",
   "id": "6745790e",
   "metadata": {},
   "source": [
    "###### Q6. What is a Venn diagram?"
   ]
  },
  {
   "cell_type": "markdown",
   "id": "a85fe840",
   "metadata": {},
   "source": [
    "a diagram representing mathematical or logical sets pictorially as circles or closed curves within an enclosing rectangle (the universal set), common elements of the sets being represented by intersections of the circles."
   ]
  },
  {
   "cell_type": "markdown",
   "id": "0f9184fa",
   "metadata": {},
   "source": [
    "###### Q7. For the two given sets A = (2,3,4,5,6,7) & B = (0,2,6,8,10). Find:"
   ]
  },
  {
   "cell_type": "markdown",
   "id": "5dd48205",
   "metadata": {},
   "source": [
    "(i) A n B = (2,6)\n",
    "<br>(ii) A ⋃ B = (0,2,3,4,5,6,7,8,10)"
   ]
  },
  {
   "cell_type": "markdown",
   "id": "d2da3ef4",
   "metadata": {},
   "source": [
    "###### Q8. What do you understand about skewness in data?"
   ]
  },
  {
   "cell_type": "markdown",
   "id": "2326c36e",
   "metadata": {},
   "source": [
    "Skewness is a measurement of the distortion of symmetrical distribution or asymmetry in a data set. Skewness is demonstrated on a bell curve when data points are not distributed symmetrically to the left and right sides of the median on a bell curve."
   ]
  },
  {
   "cell_type": "markdown",
   "id": "37c73e05",
   "metadata": {},
   "source": [
    "###### Q9. If a data is right skewed then what will be the position of median with respect to mean?"
   ]
  },
  {
   "cell_type": "markdown",
   "id": "e8a72f55",
   "metadata": {},
   "source": [
    "median < mean"
   ]
  },
  {
   "cell_type": "markdown",
   "id": "65fd5004",
   "metadata": {},
   "source": [
    "###### Q10. Explain the difference between covariance and correlation. How are these measures used in statistical analysis?"
   ]
  },
  {
   "cell_type": "markdown",
   "id": "119fe002",
   "metadata": {},
   "source": [
    "Covariance reveals how two variables change together while correlation determines how closely two variables are related to each other.\n",
    "\n",
    "    Both covariance and correlation measure the relationship and the dependency between two variables.\n",
    "    Covariance indicates the direction of the linear relationship between variables.\n",
    "    Correlation measures both the strength and direction of the linear relationship between two variables.\n",
    "    Correlation values are standardized.\n",
    "    Covariance values are not standardized."
   ]
  },
  {
   "cell_type": "markdown",
   "id": "b1133a02",
   "metadata": {},
   "source": [
    "###### Q11. What is the formula for calculating the sample mean? Provide an example calculation for a dataset."
   ]
  },
  {
   "cell_type": "markdown",
   "id": "1545933f",
   "metadata": {},
   "source": [
    "sample mean = sum of the data in the sample dataset/ number of data in a sample dataset"
   ]
  },
  {
   "cell_type": "markdown",
   "id": "62c08051",
   "metadata": {},
   "source": [
    "for example in the dataset [1,2,3,4,5] the mean = (1+2+3+4+5)/5 = 3"
   ]
  },
  {
   "cell_type": "markdown",
   "id": "f2beee22",
   "metadata": {},
   "source": [
    "###### Q12. For a normal distribution data what is the relationship between its measure of central tendency?"
   ]
  },
  {
   "cell_type": "markdown",
   "id": "8d47e0db",
   "metadata": {},
   "source": [
    "mean = median = mode"
   ]
  },
  {
   "cell_type": "markdown",
   "id": "79352697",
   "metadata": {},
   "source": [
    "###### Q13. How is covariance different from correlation?"
   ]
  },
  {
   "cell_type": "markdown",
   "id": "a1d4966b",
   "metadata": {},
   "source": [
    "Covariance indicates the direction of the linear relationship between variables while correlation measures both the strength and direction of the linear relationship between two variables. Correlation is a function of the covariance."
   ]
  },
  {
   "cell_type": "markdown",
   "id": "cf344a0f",
   "metadata": {},
   "source": [
    "###### Q14. How do outliers affect measures of central tendency and dispersion? Provide an example."
   ]
  },
  {
   "cell_type": "markdown",
   "id": "99339397",
   "metadata": {},
   "source": [
    "Mean: Outliers can pull the mean towards their extreme values. If there are outliers with large values, the mean can be inflated, while outliers with small values can lower the mean."
   ]
  },
  {
   "cell_type": "markdown",
   "id": "3b9f8ea0",
   "metadata": {},
   "source": [
    "mode and median doesn't get affeted that much. For Example,"
   ]
  },
  {
   "cell_type": "code",
   "execution_count": 10,
   "id": "e047b720",
   "metadata": {},
   "outputs": [],
   "source": [
    "data = [1,2,3,4,5,6,2,3,2,4,3,4,2,5,5,3,6,4]"
   ]
  },
  {
   "cell_type": "code",
   "execution_count": 11,
   "id": "2311565a",
   "metadata": {},
   "outputs": [
    {
     "data": {
      "text/plain": [
       "3.5555555555555554"
      ]
     },
     "execution_count": 11,
     "metadata": {},
     "output_type": "execute_result"
    }
   ],
   "source": [
    "np.mean(data)"
   ]
  },
  {
   "cell_type": "code",
   "execution_count": 12,
   "id": "2de64a30",
   "metadata": {},
   "outputs": [
    {
     "data": {
      "text/plain": [
       "3.5"
      ]
     },
     "execution_count": 12,
     "metadata": {},
     "output_type": "execute_result"
    }
   ],
   "source": [
    "np.median(data)"
   ]
  },
  {
   "cell_type": "code",
   "execution_count": 13,
   "id": "a26bbffe",
   "metadata": {},
   "outputs": [
    {
     "name": "stderr",
     "output_type": "stream",
     "text": [
      "C:\\Users\\prita\\AppData\\Local\\Temp\\ipykernel_4648\\3267261142.py:1: FutureWarning: Unlike other reduction functions (e.g. `skew`, `kurtosis`), the default behavior of `mode` typically preserves the axis it acts along. In SciPy 1.11.0, this behavior will change: the default value of `keepdims` will become False, the `axis` over which the statistic is taken will be eliminated, and the value None will no longer be accepted. Set `keepdims` to True or False to avoid this warning.\n",
      "  stats.mode(data)\n"
     ]
    },
    {
     "data": {
      "text/plain": [
       "ModeResult(mode=array([2]), count=array([4]))"
      ]
     },
     "execution_count": 13,
     "metadata": {},
     "output_type": "execute_result"
    }
   ],
   "source": [
    "stats.mode(data)"
   ]
  },
  {
   "cell_type": "code",
   "execution_count": 15,
   "id": "52e6dd23",
   "metadata": {},
   "outputs": [
    {
     "data": {
      "text/plain": [
       "[1, 2, 3, 4, 5, 6, 2, 3, 2, 4, 3, 4, 2, 5, 5, 3, 6, 4, 100, 1000]"
      ]
     },
     "execution_count": 15,
     "metadata": {},
     "output_type": "execute_result"
    }
   ],
   "source": [
    "data.append(1000)\n",
    "data"
   ]
  },
  {
   "cell_type": "code",
   "execution_count": 16,
   "id": "b7645cad",
   "metadata": {},
   "outputs": [
    {
     "data": {
      "text/plain": [
       "58.2"
      ]
     },
     "execution_count": 16,
     "metadata": {},
     "output_type": "execute_result"
    }
   ],
   "source": [
    "np.mean(data)"
   ]
  },
  {
   "cell_type": "code",
   "execution_count": 17,
   "id": "2ee3d5a3",
   "metadata": {},
   "outputs": [
    {
     "data": {
      "text/plain": [
       "4.0"
      ]
     },
     "execution_count": 17,
     "metadata": {},
     "output_type": "execute_result"
    }
   ],
   "source": [
    "np.median(data)"
   ]
  },
  {
   "cell_type": "code",
   "execution_count": 18,
   "id": "c5d17d90",
   "metadata": {},
   "outputs": [
    {
     "name": "stderr",
     "output_type": "stream",
     "text": [
      "C:\\Users\\prita\\AppData\\Local\\Temp\\ipykernel_4648\\3267261142.py:1: FutureWarning: Unlike other reduction functions (e.g. `skew`, `kurtosis`), the default behavior of `mode` typically preserves the axis it acts along. In SciPy 1.11.0, this behavior will change: the default value of `keepdims` will become False, the `axis` over which the statistic is taken will be eliminated, and the value None will no longer be accepted. Set `keepdims` to True or False to avoid this warning.\n",
      "  stats.mode(data)\n"
     ]
    },
    {
     "data": {
      "text/plain": [
       "ModeResult(mode=array([2]), count=array([4]))"
      ]
     },
     "execution_count": 18,
     "metadata": {},
     "output_type": "execute_result"
    }
   ],
   "source": [
    "stats.mode(data)"
   ]
  },
  {
   "cell_type": "code",
   "execution_count": null,
   "id": "6c1513b9",
   "metadata": {},
   "outputs": [],
   "source": []
  }
 ],
 "metadata": {
  "kernelspec": {
   "display_name": "Python 3 (ipykernel)",
   "language": "python",
   "name": "python3"
  },
  "language_info": {
   "codemirror_mode": {
    "name": "ipython",
    "version": 3
   },
   "file_extension": ".py",
   "mimetype": "text/x-python",
   "name": "python",
   "nbconvert_exporter": "python",
   "pygments_lexer": "ipython3",
   "version": "3.8.18"
  }
 },
 "nbformat": 4,
 "nbformat_minor": 5
}
