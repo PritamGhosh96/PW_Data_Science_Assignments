{
 "cells": [
  {
   "cell_type": "markdown",
   "id": "d711cf19",
   "metadata": {},
   "source": [
    "I didn't executed the codes because the multiprocessing is not happening in Jupyter notebook, but the codes are correct , I have tested them in PW labs."
   ]
  },
  {
   "cell_type": "markdown",
   "id": "21d2e479",
   "metadata": {},
   "source": [
    "Q1. What is multiprocessing in python? Why is it useful?"
   ]
  },
  {
   "cell_type": "markdown",
   "id": "fc8a5fb1",
   "metadata": {},
   "source": [
    "The Python multiprocessing module provides multiple classes that allow us to build parallel programs to implement multiprocessing in Python. It offers an easy-to-use API for dividing processes between many processors, thereby fully leveraging multiprocessing."
   ]
  },
  {
   "cell_type": "markdown",
   "id": "1c1ffb6e",
   "metadata": {},
   "source": [
    "Multiprocessing is useful for CPU-bound processes, such as computationally heavy tasks since it will benefit from having multiple processors; similar to how multicore computers work faster than computers with a single core."
   ]
  },
  {
   "cell_type": "markdown",
   "id": "45b1e88b",
   "metadata": {},
   "source": [
    "Q2. What are the differences between multiprocessing and multithreading?"
   ]
  },
  {
   "cell_type": "markdown",
   "id": "37982fd3",
   "metadata": {},
   "source": [
    "Multiprocessing:-\n",
    "\n",
    "1. Multiple processors/CPUs are added to the system to increase the computing power of the system.\n",
    "\n",
    "2. Multiple processes are executed in a parallel fashion. \n",
    "\n",
    "3. Multiprocessing can be classified into symmetric and asymmetric multiprocessing.\n",
    "\n",
    "4. Process creation is time-consuming.\n",
    "\n",
    "5. In multiprocessing, many processes are executed simultaneously. \n",
    "\n",
    "6. In multiprocessing, a separate address space is created for each process. \n",
    "\n",
    "7. Multiprocessing requires a significant amount of time and large number of resources. "
   ]
  },
  {
   "cell_type": "markdown",
   "id": "ac64c78f",
   "metadata": {},
   "source": [
    "Multithreading:-\n",
    "\n",
    "1. Multiple threads are created of a process to be executed in a parallel fashion to increase the throughput of the system.\n",
    "\n",
    "2. Multiple threads are executed in a parallel fashion. \n",
    "\n",
    "3. No such classification present for multithreading.\n",
    "\n",
    "4. Thread creation is easy and is time savvy. \n",
    "\n",
    "5. In multithreading, many threads are executed simultaneously.\n",
    "\n",
    "6. In multithreading, a common address space is used for all the threads. \n",
    "\n",
    "7. Multithreading requires less time and few resources to create."
   ]
  },
  {
   "cell_type": "markdown",
   "id": "5912d98c",
   "metadata": {},
   "source": [
    "Q3. Write a python code to create a process using the multiprocessing module."
   ]
  },
  {
   "cell_type": "code",
   "execution_count": 1,
   "id": "fd95891f",
   "metadata": {},
   "outputs": [],
   "source": [
    "import multiprocessing"
   ]
  },
  {
   "cell_type": "code",
   "execution_count": 2,
   "id": "522531b1",
   "metadata": {},
   "outputs": [],
   "source": [
    "def test():\n",
    "    print(\"This is test text\")"
   ]
  },
  {
   "cell_type": "code",
   "execution_count": 3,
   "id": "0a47467b",
   "metadata": {},
   "outputs": [
    {
     "name": "stdout",
     "output_type": "stream",
     "text": [
      "importing Jupyter notebook from fun.ipynb\n",
      "This is the main function.\n"
     ]
    }
   ],
   "source": [
    "import import_ipynb\n",
    "import fun\n",
    "if __name__ == \"__main__\":\n",
    "    m = multiprocessing.Process(targe t= test)\n",
    "    m.start()\n",
    "    print(\"This is the main function.\")\n",
    "    m.join()"
   ]
  },
  {
   "cell_type": "markdown",
   "id": "e9ff7e75",
   "metadata": {},
   "source": [
    "Q4. What is a multiprocessing pool in python? Why is it used?"
   ]
  },
  {
   "cell_type": "markdown",
   "id": "f68f9fcc",
   "metadata": {},
   "source": []
  },
  {
   "cell_type": "markdown",
   "id": "6a3efcae",
   "metadata": {},
   "source": [
    "Python multiprocessing Pool creates multiple Python processes in the background and spreads out your computations for you across multiple CPU cores so that they all happen in parallel without you needing to do anything."
   ]
  },
  {
   "cell_type": "markdown",
   "id": "053ed116",
   "metadata": {},
   "source": [
    "Python multiprocessing Pool can be used for parallel execution of a function across multiple input values, distributing the input data across processes (data parallelism)."
   ]
  },
  {
   "cell_type": "markdown",
   "id": "c72104c7",
   "metadata": {},
   "source": [
    "Q5. How can we create a pool of worker processes in python using the multiprocessing module?"
   ]
  },
  {
   "cell_type": "code",
   "execution_count": null,
   "id": "a98c8b12",
   "metadata": {},
   "outputs": [],
   "source": [
    "def square(n: int):\n",
    "    return n**2\n",
    "\n",
    "if __name__ == '__main__':\n",
    "    with multiprocessing.Pool(processes=5) as pool:\n",
    "        out = pool.map(square, [i for i in range(10)])\n",
    "        print(out)"
   ]
  },
  {
   "cell_type": "markdown",
   "id": "c661540b",
   "metadata": {},
   "source": [
    "Q6. Write a python program to create 4 processes, each process should print a different number using the\n",
    "multiprocessing module in python."
   ]
  },
  {
   "cell_type": "code",
   "execution_count": null,
   "id": "cd47fd9e",
   "metadata": {},
   "outputs": [],
   "source": [
    "import multiprocessing\n",
    "\n",
    "def print_number(number):\n",
    "    print(number)\n",
    "\n",
    "if __name__ == \"__main__\":\n",
    "    processes = []\n",
    "    for i in range(4):\n",
    "        p = multiprocessing.Process(target=print_number, args=(i,))\n",
    "        processes.append(p)\n",
    "\n",
    "    for p in processes:\n",
    "        p.start()\n",
    "\n",
    "    for p in processes:\n",
    "        p.join()"
   ]
  }
 ],
 "metadata": {
  "kernelspec": {
   "display_name": "Python 3",
   "language": "python",
   "name": "python3"
  },
  "language_info": {
   "codemirror_mode": {
    "name": "ipython",
    "version": 3
   },
   "file_extension": ".py",
   "mimetype": "text/x-python",
   "name": "python",
   "nbconvert_exporter": "python",
   "pygments_lexer": "ipython3",
   "version": "3.8.8"
  }
 },
 "nbformat": 4,
 "nbformat_minor": 5
}
