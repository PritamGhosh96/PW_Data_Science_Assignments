{
 "cells": [
  {
   "cell_type": "markdown",
   "id": "e0dc86a3",
   "metadata": {},
   "source": [
    "###### Q1. What is the Probability density function?"
   ]
  },
  {
   "cell_type": "markdown",
   "id": "0f5679b7",
   "metadata": {},
   "source": [
    "A function that defines the relationship between a random variable and its probability, such that you can find the probability of the variable using the function, is called a Probability Density Function (PDF) in statistics."
   ]
  },
  {
   "cell_type": "markdown",
   "id": "290c0de3",
   "metadata": {},
   "source": [
    "###### Q2. What are the types of Probability distribution?"
   ]
  },
  {
   "cell_type": "markdown",
   "id": "1ef1bc7c",
   "metadata": {},
   "source": [
    "A probability distribution is a statistical function that describes all the possible values and probabilities for a random variable within a given range. This range will be bound by the minimum and maximum possible values, but where the possible value would be plotted on the probability distribution will be determined by a number of factors. The mean (average), standard deviation, skewness, and kurtosis of the distribution are among these factors."
   ]
  },
  {
   "cell_type": "markdown",
   "id": "1e3d6087",
   "metadata": {},
   "source": [
    "###### Q3. Write a Python function to calculate the probability density function of a normal distribution with given mean and standard deviation at a given point."
   ]
  },
  {
   "cell_type": "code",
   "execution_count": 1,
   "id": "a09f32c0",
   "metadata": {},
   "outputs": [],
   "source": [
    "import numpy as np\n",
    "from scipy import stats"
   ]
  },
  {
   "cell_type": "code",
   "execution_count": 2,
   "id": "4ec1f052",
   "metadata": {},
   "outputs": [],
   "source": [
    "mu , sigma = 1, 0.1 \n",
    "sample = stats.norm(mu, sigma)"
   ]
  },
  {
   "cell_type": "code",
   "execution_count": 3,
   "id": "b7e07ca5",
   "metadata": {},
   "outputs": [
    {
     "data": {
      "text/plain": [
       "3.989422804014327"
      ]
     },
     "execution_count": 3,
     "metadata": {},
     "output_type": "execute_result"
    }
   ],
   "source": [
    "sample.pdf(1)"
   ]
  },
  {
   "cell_type": "markdown",
   "id": "82109d19",
   "metadata": {},
   "source": [
    "###### Q4. What are the properties of Binomial distribution? Give two examples of events where binomial distribution can be applied."
   ]
  },
  {
   "cell_type": "markdown",
   "id": "8994d4ef",
   "metadata": {},
   "source": [
    "A binomial experiment is one that has the following properties: (1) The experiment consists of n identical trials. (2) Each trial results in one of the two outcomes, called a success S and failure F. (3) The probability of success on a single trial is equal to p and remains the same from trial to trial."
   ]
  },
  {
   "cell_type": "markdown",
   "id": "4c42c533",
   "metadata": {},
   "source": [
    "Example - Roling a dice, Picking a card from deck, coin tossing"
   ]
  },
  {
   "cell_type": "markdown",
   "id": "2902555b",
   "metadata": {},
   "source": [
    "###### Q5. Generate a random sample of size 1000 from a binomial distribution with probability of success 0.4 and plot a histogram of the results using matplotlib."
   ]
  },
  {
   "cell_type": "code",
   "execution_count": 4,
   "id": "071b0a3a",
   "metadata": {},
   "outputs": [],
   "source": [
    "import numpy as np"
   ]
  },
  {
   "cell_type": "code",
   "execution_count": 5,
   "id": "18a21945",
   "metadata": {},
   "outputs": [],
   "source": [
    "sample = np.random.binomial(10,0.4,1000)"
   ]
  },
  {
   "cell_type": "code",
   "execution_count": 6,
   "id": "2a2e75ef",
   "metadata": {},
   "outputs": [
    {
     "data": {
      "text/plain": [
       "(array([  8.,  43., 130., 204.,   0., 248., 201., 128.,  32.,   6.]),\n",
       " array([0. , 0.8, 1.6, 2.4, 3.2, 4. , 4.8, 5.6, 6.4, 7.2, 8. ]),\n",
       " <BarContainer object of 10 artists>)"
      ]
     },
     "execution_count": 6,
     "metadata": {},
     "output_type": "execute_result"
    },
    {
     "data": {
      "image/png": "[encoded data removed]",
      "text/plain": [
       "<Figure size 640x480 with 1 Axes>"
      ]
     },
     "metadata": {},
     "output_type": "display_data"
    }
   ],
   "source": [
    "import matplotlib.pyplot as plt\n",
    "plt.hist(sample)"
   ]
  },
  {
   "cell_type": "markdown",
   "id": "cc53d96e",
   "metadata": {},
   "source": [
    "###### Q6. Write a Python function to calculate the cumulative distribution function of a Poisson distribution with given mean at a given point."
   ]
  },
  {
   "cell_type": "code",
   "execution_count": 7,
   "id": "ef9ce1dd",
   "metadata": {},
   "outputs": [
    {
     "data": {
      "text/plain": [
       "0.17299160788207146"
      ]
     },
     "execution_count": 7,
     "metadata": {},
     "output_type": "execute_result"
    }
   ],
   "source": [
    "from scipy.stats import poisson\n",
    "poisson.cdf(k=4, mu=7)"
   ]
  },
  {
   "cell_type": "markdown",
   "id": "13aac9be",
   "metadata": {},
   "source": [
    "###### Q7. How Binomial distribution different from Poisson distribution?"
   ]
  },
  {
   "cell_type": "markdown",
   "id": "5f875f25",
   "metadata": {},
   "source": [
    "**Meaning**\t\n",
    "    <br>Binomial distribution: is one in which the probability of repeated number of trials are studied.\t\n",
    "    <br>Poisson Distribution: gives the count of independent events occur randomly with a given period of time.\n",
    "\n",
    "**Nature**\t\n",
    "    <br>Binomial distribution: Biparametric\n",
    "    <br>Poisson Distribution: Uniparametric\n",
    "\n",
    "**Number of trials**\n",
    "    <br>Binomial distribution: Fixed\n",
    "    <br>Poisson Distribution: Infinite\n",
    "\n",
    "**Success**\n",
    "    <br>Binomial distribution: Constant probability\n",
    "    <br>Poisson Distribution: Infinitesimal chance of success\n",
    "\n",
    "**Outcomes**\n",
    "    <br>Binomial distribution: Only two possible outcomes, i.e. success or failure.\n",
    "    <br>Poisson Distribution: Unlimited number of possible outcomes.\n",
    "\n",
    "**Mean and Variance**\n",
    "    <br>Binomial distribution: Mean > Variance\t\n",
    "    <br>Poisson Distribution: Mean = Variance\n",
    "\n",
    "**Example\tCoin** \n",
    "    <br>Binomial distribution: tossing experiment.\t\n",
    "    <br>Poisson Distribution: Printing mistakes/page of a large book."
   ]
  },
  {
   "cell_type": "markdown",
   "id": "9b644920",
   "metadata": {},
   "source": [
    "###### Q8. Generate a random sample of size 1000 from a Poisson distribution with mean 5 and calculate the sample mean and variance."
   ]
  },
  {
   "cell_type": "code",
   "execution_count": 8,
   "id": "1a3f1d7a",
   "metadata": {},
   "outputs": [
    {
     "data": {
      "text/plain": [
       "5.07"
      ]
     },
     "execution_count": 8,
     "metadata": {},
     "output_type": "execute_result"
    }
   ],
   "source": [
    "arr = poisson.rvs(mu=5, size=1000)\n",
    "arr.mean()"
   ]
  },
  {
   "cell_type": "code",
   "execution_count": 9,
   "id": "15e6786b",
   "metadata": {},
   "outputs": [
    {
     "data": {
      "text/plain": [
       "5.2251"
      ]
     },
     "execution_count": 9,
     "metadata": {},
     "output_type": "execute_result"
    }
   ],
   "source": [
    "np.var(arr)"
   ]
  },
  {
   "cell_type": "markdown",
   "id": "4fab9b66",
   "metadata": {},
   "source": [
    "###### Q9. How mean and variance are related in Binomial distribution and Poisson distribution?"
   ]
  },
  {
   "cell_type": "markdown",
   "id": "8679243e",
   "metadata": {},
   "source": [
    "Binomial distribution\n",
    "\n",
    "mean = np\n",
    "<br>variance = npq\n",
    "\n",
    "where,\n",
    "    n = no. of trials,\n",
    "    p = probability of success,\n",
    "    q = probability of failure"
   ]
  },
  {
   "cell_type": "markdown",
   "id": "dfc17617",
   "metadata": {},
   "source": [
    "Poisson distribution\n",
    "\n",
    "mean = variance = lambda * t\n",
    "\n",
    "where, lambda = Expected no. of counts to occur ,t = time interval"
   ]
  },
  {
   "cell_type": "markdown",
   "id": "8d431700",
   "metadata": {},
   "source": [
    "###### Q10. In normal distribution with respect to mean position, where does the least frequent data appear?"
   ]
  },
  {
   "cell_type": "markdown",
   "id": "ff923e55",
   "metadata": {},
   "source": [
    "According to Empirical rule, 95% data should be available in between (+-)2 sigma value from mean. And 99.7% data appear in 3sigma range. So the least frequent data appear after 3 sigma range."
   ]
  },
  {
   "cell_type": "code",
   "execution_count": null,
   "id": "5b504154",
   "metadata": {},
   "outputs": [],
   "source": []
  }
 ],
 "metadata": {
  "kernelspec": {
   "display_name": "Python 3 (ipykernel)",
   "language": "python",
   "name": "python3"
  },
  "language_info": {
   "codemirror_mode": {
    "name": "ipython",
    "version": 3
   },
   "file_extension": ".py",
   "mimetype": "text/x-python",
   "name": "python",
   "nbconvert_exporter": "python",
   "pygments_lexer": "ipython3",
   "version": "3.8.18"
  }
 },
 "nbformat": 4,
 "nbformat_minor": 5
}
