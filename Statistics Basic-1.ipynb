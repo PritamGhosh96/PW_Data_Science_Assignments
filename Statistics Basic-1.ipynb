{
 "cells": [
  {
   "cell_type": "markdown",
   "id": "6df60382",
   "metadata": {},
   "source": [
    "###### Q1. What is Statistics?"
   ]
  },
  {
   "cell_type": "markdown",
   "id": "3a1b1a5f",
   "metadata": {},
   "source": [
    "Statistics is the science of colecting, organising and analyzing of data. Useful for decision making process."
   ]
  },
  {
   "cell_type": "markdown",
   "id": "1722c89e",
   "metadata": {},
   "source": [
    "###### Q2. Define the different types of statistics and give an example of when each type might be used."
   ]
  },
  {
   "cell_type": "markdown",
   "id": "20dd32de",
   "metadata": {},
   "source": [
    "Types of Statistics - \n",
    "\n",
    "1. Descriptive Statistics :- It focuses on organising and summerising the data.\n",
    "concepts in Descriptive Statistics:\n",
    "\n",
    "\ta. Measure of central tendancy - [mean , median , mode]\n",
    "    \n",
    "\tb. Measure of Dispersion - [Variance , std]\n",
    "    \n",
    "\tc. Visualization - Histogram, Barchart, pie chart [for data summerization] \n",
    "    \n",
    "    \n",
    "2. Inferencial Statistics :- It focuses on using data, you have measured, to form conclusion.\n",
    "concepts in Inferential Statistics:\n",
    "    we use different experiments to reach conclusions like -\n",
    "    \n",
    "\ta. Z-test\n",
    "    \n",
    "\tb. t -test\n",
    "    \n",
    "\tc. hypothesis Testing\n",
    "    \n",
    "\td. p - value\n",
    "    \n",
    "\te. significance value\n",
    "    \n",
    "    \n",
    "Scenario : \n",
    "\n",
    "You have collected the heights of 40 students in a math class of a university.\n",
    "\t[175,165,169,171,156,..........,173,150] (all in cm)\n",
    "\n",
    "Descriptive Statistics Questions :\n",
    "\n",
    "\t1. What is the average height of the students? (mean)\n",
    "\t2. Whart is the most common height among the students? (median)\n",
    "\n",
    "Inferencial Statistics Questions :\n",
    "\n",
    "\t1. Are the average height of the students in the classroom is similar to what you expect in the entire college? (you need to perform tests to come to conclusions)"
   ]
  },
  {
   "cell_type": "markdown",
   "id": "e2a0dc72",
   "metadata": {},
   "source": [
    "###### Q3. What are the different types of data and how do they differ from each other? Provide an example of each type of data."
   ]
  },
  {
   "cell_type": "markdown",
   "id": "43473c12",
   "metadata": {},
   "source": [
    "Types Of Data :- \n",
    "    \n",
    "At first, We can divide data into 2 types.\n",
    "    \n",
    "    1. Quantitative Data - Data which are numerical in nature or can be measured using numbers.\n",
    "        \n",
    "        Example :- Number of students in a class, height of students in a class\n",
    "        \n",
    "        Quantitative Data can be divided into 2 types :-\n",
    "        \n",
    "            a. Discrete - The data which can be measured only in whole numbers. Example - Number of students in a class\n",
    "            \n",
    "            b. Continuous - Where we can get any numerical value while measuring. Example - height of students in a class\n",
    "    \n",
    "    2. Qualitative Data - Data which are categorical in nature.\n",
    "        \n",
    "        Example :- Gender of Students in a class, Ranks of students in a class\n",
    "        \n",
    "        Qualitative Data can be divided into 2 types :-\n",
    "        \n",
    "            a. Nominal - Where we cannot apply any order on the data. Example - Gender of Students in a class\n",
    "            \n",
    "            b. Ordinal - Where we can apply an order on the data. Example - Ranks of students in a class"
   ]
  },
  {
   "cell_type": "markdown",
   "id": "478a957a",
   "metadata": {},
   "source": [
    "###### Q4. Categorise the following datasets with respect to quantitative and qualitative data types:"
   ]
  },
  {
   "cell_type": "markdown",
   "id": "33ddfcd5",
   "metadata": {},
   "source": [
    "**(i) Grading in exam: A+, A, B+, B, C+, C, D, E** - Qualitative Ordinal\n",
    "\n",
    "**(ii) Colour of mangoes: yellow, green, orange, red** - Qualitative Nominal\n",
    "\n",
    "**(iii) Height data of a class: [178.9, 179, 179.5, 176, 177.2, 178.3, 175.8,...]** - Quantitative Continuous\n",
    "\n",
    "**(iv) Number of mangoes exported by a farm: [500, 600, 478, 672, ...]** - Quantitative Discrete"
   ]
  },
  {
   "cell_type": "markdown",
   "id": "9d5c2c15",
   "metadata": {},
   "source": [
    "###### Q5. Explain the concept of levels of measurement and give an example of a variable for each level."
   ]
  },
  {
   "cell_type": "markdown",
   "id": "300f6193",
   "metadata": {},
   "source": [
    "Levels of measurement, also called scales of measurement, tell how precisely variables are recorded. In scientific research, a variable is anything that can take on different values across the data set\n",
    "\n",
    "There are 4 levels of measurement:\n",
    "    \n",
    "    1. Nominal level - You can categorize your data by labelling them in mutually exclusive groups, but there is no order between the categorie. Example - Gender, City of Birth\n",
    "    \n",
    "    2. Ordinal level - You can categorize and rank your data in an order, but you cannot say anything about the intervals between the rankings. Example - Although you can rank the top 5 Olympic medallists, this scale does not tell you how close or far apart they are in number of wins.\n",
    "    \n",
    "    3. Interval level - You can categorize, rank, and infer equal intervals between neighboring data points, but there is no true zero point. Example - The difference between any two adjacent temperatures is the same: one degree. But  zero degrees is defined differently depending on the scale – it doesn’t mean an absolute absence of temperature\n",
    "    \n",
    "    4. Ratio level - You can categorize, rank, and infer equal intervals between neighboring data points, and there is a true zero point. A true zero means there is an absence of the variable of interest. In ratio scales, zero does mean an absolute lack of the variable. Example - For example, in the Kelvin temperature scale, there are no negative degrees of temperature – zero means an absolute lack of thermal energy."
   ]
  },
  {
   "cell_type": "markdown",
   "id": "5575aee3",
   "metadata": {},
   "source": [
    "###### Q6. Why is it important to understand the level of measurement when analyzing data? Provide an example to illustrate your answer."
   ]
  },
  {
   "cell_type": "markdown",
   "id": "dbe5c40d",
   "metadata": {},
   "source": [
    "The level at which you measure a variable determines how you can analyze your data.\n",
    "\n",
    "The different levels limit which descriptive statistics you can use to get an overall summary of your data, and which type of inferential statistics you can perform on your data to support or refute your hypothesis.\n",
    "\n",
    "In many cases, your variables can be measured at different levels, so you have to choose the level of measurement you will use before data collection begins."
   ]
  },
  {
   "cell_type": "markdown",
   "id": "dc41ea63",
   "metadata": {},
   "source": [
    "Example of a variable at 2 levels of measurement\n",
    "You can measure the variable of income at an ordinal or ratio level.\n",
    "\n",
    "    Ordinal level: You create brackets of income ranges: $0–$19,999, $20,000–$39,999, and $40,000–$59,999. You ask participants to select the bracket that represents their annual income. The brackets are coded with numbers from 1–3.\n",
    "    \n",
    "    Ratio level: You collect data on the exact annual incomes of your participants.\n",
    "\n",
    "Participant \tIncome (ordinal level) \tIncome (ratio level)\n",
    "\n",
    "    A \tBracket 1 \t$12,550\n",
    "    \n",
    "    B \tBracket 2 \t$39,700\n",
    "    \n",
    "    C \tBracket 3 \t$40,300\n",
    "\n",
    "At a ratio level, you can see that the difference between A and B’s incomes is far greater than the difference between B and C’s incomes.\n",
    "\n",
    "At an ordinal level, however, you only know the income bracket for each participant, not their exact income. Since you cannot say exactly how much each income differs from the others in your data set, you can only order the income levels and group the participants."
   ]
  },
  {
   "cell_type": "markdown",
   "id": "7f9a6f79",
   "metadata": {},
   "source": [
    "###### Q7. How nominal data type is different from ordinal data type."
   ]
  },
  {
   "cell_type": "markdown",
   "id": "d8ec01d6",
   "metadata": {},
   "source": [
    "The main differences between Nominal Data and Ordinal Data are:\n",
    "\n",
    "    1. While Nominal Data is classified without any intrinsic ordering or rank, Ordinal Data has some predetermined or natural order. \n",
    "    \n",
    "    2. Nominal data is qualitative or categorical data, while Ordinal data is considered “in-between” qualitative and quantitative data.\n",
    "    \n",
    "    3. Nominal data do not provide any quantitative value, and you cannot perform numeric operations with them or compare them with one another. However, Ordinal data provide sequence, and it is possible to assign numbers to the data. No numeric operations can be performed. But ordinal data makes it possible to compare one item with another in terms of ranking.  \n",
    "    \n",
    "    Example of Nominal Data – Eye color, Gender; Example of Ordinal data – Customer Feedback, Economic Status\n"
   ]
  },
  {
   "cell_type": "markdown",
   "id": "41d9af9b",
   "metadata": {},
   "source": [
    "###### Q8. Which type of plot can be used to display data in terms of range?"
   ]
  },
  {
   "cell_type": "markdown",
   "id": "2ec93af6",
   "metadata": {},
   "source": [
    "Histograms are used in statistics, business and economics where numerical data plays a crucial role. A typical histogram looks like a bar chart. However, a bar chart provides comparisons of fixed values of a category, while in a histogram, each bar represents a range of value such as age in the range of 25-40."
   ]
  },
  {
   "cell_type": "markdown",
   "id": "009b509c",
   "metadata": {},
   "source": [
    "###### Q9. Describe the difference between descriptive and inferential statistics. Give an example of each type of statistics and explain how they are used."
   ]
  },
  {
   "cell_type": "markdown",
   "id": "28f73c90",
   "metadata": {},
   "source": [
    "Descriptive statistics provide a summary of the features or attributes of a dataset, while inferential statistics enable hypothesis testing and evaluation of the applicability of the data to a larger population. Here are the key differences between descriptive vs inferential statistics:"
   ]
  },
  {
   "cell_type": "markdown",
   "id": "630e45d2",
   "metadata": {},
   "source": [
    "\n",
    "\t\n",
    "    Purpose\n",
    "\t\n",
    "Descriptive Statistics - Describe and summarize data\n",
    "\t\n",
    "Inferential Statistics - Make inferences and draw conclusions about a population based on sample data\n",
    "\n",
    "    \n",
    "    Data Analysis\n",
    "\t\n",
    "Descriptive Statistics - Analyzes and interprets the characteristics of a dataset\n",
    "\t\n",
    "Inferential Statistics - Uses sample data to make generalizations or predictions about a larger population\n",
    "\n",
    "\n",
    "    Population vs Sample\n",
    "\t\n",
    "Descriptive Statistics - Focuses on the entire population or dataset\n",
    "\t\n",
    "Inferential Statistics - Focuses on a subset of the population (sample) to draw conclusions about the entire population\n",
    "\n",
    "\n",
    "    Measurements\n",
    "\t\n",
    "Descriptive Statistics - Provides measures of central tendency and dispersion\n",
    "\t\n",
    "Inferential Statistics - Estimates parameters, tests hypotheses, and determines the level of confidence or significance in the results\n",
    "\n",
    "\n",
    "    Examples\n",
    "\t\n",
    "Descriptive Statistics - Mean, median, mode, standard deviation, range, frequency tables\n",
    "\t\n",
    "Inferential Statistics - Hypothesis testing, confidence intervals, regression analysis, ANOVA (analysis of variance), chi-square tests, t-tests, etc.\n",
    "\n",
    "\n",
    "    Goal\n",
    "\t\n",
    "Descriptive Statistics - Summarize, organize, and present data\n",
    "\t\n",
    "Inferential Statistics - Generalize findings to a larger population, make predictions, test hypotheses, evaluate relationships, and support decision-making\n",
    "\n",
    "\n",
    "    Population Parameters\n",
    "\t\n",
    "Descriptive Statistics - Not typically estimated\n",
    "\t\n",
    "Inferential Statistics - Estimated using sample statistics (e.g., sample mean as an estimate of population mean)\n",
    "\n",
    "\n",
    "    Sample Representativeness\n",
    "\t\n",
    "Descriptive Statistics -  Not required\n",
    "\t\n",
    "Inferential Statistics - Crucial; the sample should be representative of the population to ensure accurate inferences"
   ]
  },
  {
   "cell_type": "markdown",
   "id": "603323d2",
   "metadata": {},
   "source": [
    "###### Q10. What are some common measures of central tendency and variability used in statistics? Explain how each measure can be used to describe a dataset."
   ]
  },
  {
   "cell_type": "markdown",
   "id": "fda5c0d6",
   "metadata": {},
   "source": [
    "In statistics, the central tendency is the descriptive summary of a data set. Through the single value from the dataset, it reflects the centre of the data distribution. Moreover, it does not provide information regarding individual data from the dataset, where it gives a summary of the dataset. Generally, the central tendency of a dataset can be defined using some of the measures in statistics.\n",
    "\n",
    "The central tendency of the dataset can be found out using the three important measures namely mean, median and mode."
   ]
  },
  {
   "cell_type": "markdown",
   "id": "f80449bf",
   "metadata": {},
   "source": [
    "Mean - The mean represents the average value of the dataset. In symmetric data distribution, the mean value is located accurately at the centre. But in the skewed continuous data distribution, the extreme values in the extended tail pull the mean value away from the centre. So it is recommended that the mean can be used for the symmetric distributions."
   ]
  },
  {
   "cell_type": "markdown",
   "id": "6a07a1c2",
   "metadata": {},
   "source": [
    "Median - Median is the middle value of the dataset in which the dataset is arranged in the ascending order or in descending order."
   ]
  },
  {
   "cell_type": "markdown",
   "id": "3e48bea7",
   "metadata": {},
   "source": [
    "Mode - The mode represents the frequently occurring value in the dataset. Sometimes the dataset may contain multiple modes and in some cases, it does not contain any mode at all."
   ]
  },
  {
   "cell_type": "code",
   "execution_count": null,
   "id": "52f2c80d",
   "metadata": {},
   "outputs": [],
   "source": []
  }
 ],
 "metadata": {
  "kernelspec": {
   "display_name": "Python 3 (ipykernel)",
   "language": "python",
   "name": "python3"
  },
  "language_info": {
   "codemirror_mode": {
    "name": "ipython",
    "version": 3
   },
   "file_extension": ".py",
   "mimetype": "text/x-python",
   "name": "python",
   "nbconvert_exporter": "python",
   "pygments_lexer": "ipython3",
   "version": "3.8.18"
  }
 },
 "nbformat": 4,
 "nbformat_minor": 5
}
