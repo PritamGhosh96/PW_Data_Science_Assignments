{
 "cells": [
  {
   "cell_type": "markdown",
   "id": "c4945895",
   "metadata": {},
   "source": [
    "Q1. Which keyword is used to create a function? Create a function to return a list of odd numbers in the\n",
    "range of 1 to 25."
   ]
  },
  {
   "cell_type": "markdown",
   "id": "3a104b41",
   "metadata": {},
   "source": [
    "A1. def"
   ]
  },
  {
   "cell_type": "code",
   "execution_count": 1,
   "id": "5747e684",
   "metadata": {},
   "outputs": [],
   "source": [
    "def oddNum():\n",
    "    r = []\n",
    "    for i in range(1,26):\n",
    "        if i%2 == 1:\n",
    "            r.append(i)\n",
    "    return r"
   ]
  },
  {
   "cell_type": "code",
   "execution_count": 2,
   "id": "06a9fde9",
   "metadata": {},
   "outputs": [
    {
     "data": {
      "text/plain": [
       "[1, 3, 5, 7, 9, 11, 13, 15, 17, 19, 21, 23, 25]"
      ]
     },
     "execution_count": 2,
     "metadata": {},
     "output_type": "execute_result"
    }
   ],
   "source": [
    "oddNum()"
   ]
  },
  {
   "cell_type": "markdown",
   "id": "754f3891",
   "metadata": {},
   "source": []
  },
  {
   "cell_type": "raw",
   "id": "3caec3c0",
   "metadata": {},
   "source": [
    "Q2. Why *args and **kwargs is used in some functions? Create a function each for *args and **kwargs to\n",
    "demonstrate their use."
   ]
  },
  {
   "cell_type": "raw",
   "id": "62fda621",
   "metadata": {},
   "source": [
    "*args = for passing any number of arguments, returns tuples\n",
    "**kwargs = for passing any number of arguments as key value pair, returns dictionary"
   ]
  },
  {
   "cell_type": "code",
   "execution_count": 3,
   "id": "ef9992ab",
   "metadata": {},
   "outputs": [],
   "source": [
    "def arg(*args):\n",
    "    return args"
   ]
  },
  {
   "cell_type": "code",
   "execution_count": 4,
   "id": "1c1c9544",
   "metadata": {},
   "outputs": [
    {
     "data": {
      "text/plain": [
       "(1, 2, 3, 4, (1, 2, 3, 4), {1, 2, 3, 4})"
      ]
     },
     "execution_count": 4,
     "metadata": {},
     "output_type": "execute_result"
    }
   ],
   "source": [
    "arg(1,2,3,4,(1,2,3,4),{1,2,3,4})"
   ]
  },
  {
   "cell_type": "code",
   "execution_count": 5,
   "id": "e4d2afb1",
   "metadata": {},
   "outputs": [],
   "source": [
    "def kwarg(**args):\n",
    "    return args"
   ]
  },
  {
   "cell_type": "code",
   "execution_count": 6,
   "id": "4bc022a9",
   "metadata": {},
   "outputs": [
    {
     "data": {
      "text/plain": [
       "{'a': {1, 2, 3, 4},\n",
       " 'b': (1, 2, 3, 4),\n",
       " 'c': [1, 2, 3, 4],\n",
       " 'd': \"if you are really reading this can you say 'Hi' in the Assignment evaluation?\"}"
      ]
     },
     "execution_count": 6,
     "metadata": {},
     "output_type": "execute_result"
    }
   ],
   "source": [
    "kwarg(a = {1,2,3,4}, b = (1,2,3,4), c = [1,2,3,4], d= \"if you are really reading this can you say 'Hi' in the Assignment evaluation?\")"
   ]
  },
  {
   "cell_type": "markdown",
   "id": "12e5e406",
   "metadata": {},
   "source": [
    "Q3. What is an iterator in python? Name the method used to initialise the iterator object and the method\n",
    "used for iteration. Use these methods to print the first five elements of the given list [2, 4, 6, 8, 10, 12, 14, 16,\n",
    "18, 20]."
   ]
  },
  {
   "cell_type": "markdown",
   "id": "4ed8120c",
   "metadata": {},
   "source": [
    "A3. Iterator - An object that contains countable numbers which can be traversed\n",
    "\n",
    "    Name the method used to initialise the iterator object and the method used for iteration - iter()"
   ]
  },
  {
   "cell_type": "code",
   "execution_count": 7,
   "id": "18a06251",
   "metadata": {},
   "outputs": [
    {
     "name": "stdout",
     "output_type": "stream",
     "text": [
      "2\n",
      "4\n",
      "6\n",
      "8\n",
      "10\n"
     ]
    }
   ],
   "source": [
    "l = [2, 4, 6, 8, 10, 12, 14, 16, 18, 20]\n",
    "\n",
    "it = iter(l)\n",
    "for i in range(5):\n",
    "    print(next(it))"
   ]
  },
  {
   "cell_type": "markdown",
   "id": "6958fec5",
   "metadata": {},
   "source": [
    "Q4. What is a generator function in python? Why yield keyword is used? Give an example of a generator\n",
    "function."
   ]
  },
  {
   "cell_type": "markdown",
   "id": "5f245b14",
   "metadata": {},
   "source": [
    "A4. Generator Function is a function which doesn't return anything but creates an iterable object.\n",
    "The yield keyword will turn any expression that is given with it into a generator object and return it to the caller."
   ]
  },
  {
   "cell_type": "code",
   "execution_count": 8,
   "id": "b84efd4c",
   "metadata": {},
   "outputs": [],
   "source": [
    "def fib(n):\n",
    "    a,b = 0,1\n",
    "    for i in range(n):\n",
    "        yield a \n",
    "        a , b = b , a+b"
   ]
  },
  {
   "cell_type": "code",
   "execution_count": 9,
   "id": "81654cba",
   "metadata": {},
   "outputs": [
    {
     "name": "stdout",
     "output_type": "stream",
     "text": [
      "0 1 1 2 3 5 8 13 21 34 "
     ]
    }
   ],
   "source": [
    "for i in fib(10):\n",
    "    print(i, end = \" \")"
   ]
  },
  {
   "cell_type": "markdown",
   "id": "33ba15bb",
   "metadata": {},
   "source": [
    "Q5. Create a generator function for prime numbers less than 1000. Use the next() method to print the\n",
    "first 20 prime numbers."
   ]
  },
  {
   "cell_type": "code",
   "execution_count": 10,
   "id": "17770b80",
   "metadata": {},
   "outputs": [],
   "source": [
    "from math import sqrt\n",
    "\n",
    "def isPrime(n):\n",
    "    prime_flag = 0\n",
    "    if(n > 1):\n",
    "        for i in range(2, int(sqrt(n)) + 1):\n",
    "            if (n % i == 0):\n",
    "                prime_flag = 1\n",
    "                break\n",
    "        if (prime_flag == 0):\n",
    "            return True\n",
    "        else:\n",
    "            return False\n",
    "    else:\n",
    "        return False\n"
   ]
  },
  {
   "cell_type": "code",
   "execution_count": 11,
   "id": "4c63091e",
   "metadata": {},
   "outputs": [
    {
     "data": {
      "text/plain": [
       "True"
      ]
     },
     "execution_count": 11,
     "metadata": {},
     "output_type": "execute_result"
    }
   ],
   "source": [
    "isPrime(97)"
   ]
  },
  {
   "cell_type": "code",
   "execution_count": 12,
   "id": "5dca77ab",
   "metadata": {},
   "outputs": [],
   "source": [
    "def prime(n):\n",
    "    num = 1\n",
    "    for i in range(n):\n",
    "        if isPrime(num):\n",
    "            yield num\n",
    "        num = num+1"
   ]
  },
  {
   "cell_type": "code",
   "execution_count": 13,
   "id": "b31da01c",
   "metadata": {},
   "outputs": [],
   "source": [
    "l = [i for i in prime(1000)]"
   ]
  },
  {
   "cell_type": "code",
   "execution_count": 14,
   "id": "6bf69922",
   "metadata": {},
   "outputs": [],
   "source": [
    "it = iter(l)"
   ]
  },
  {
   "cell_type": "code",
   "execution_count": 15,
   "id": "794a5c03",
   "metadata": {},
   "outputs": [
    {
     "name": "stdout",
     "output_type": "stream",
     "text": [
      "2 3 5 7 11 13 17 19 23 29 31 37 41 43 47 53 59 61 67 71 "
     ]
    }
   ],
   "source": [
    "for i in range(20):\n",
    "    print(next(it), end = \" \")"
   ]
  },
  {
   "cell_type": "code",
   "execution_count": null,
   "id": "997d0aa3",
   "metadata": {},
   "outputs": [],
   "source": []
  }
 ],
 "metadata": {
  "kernelspec": {
   "display_name": "Python 3",
   "language": "python",
   "name": "python3"
  },
  "language_info": {
   "codemirror_mode": {
    "name": "ipython",
    "version": 3
   },
   "file_extension": ".py",
   "mimetype": "text/x-python",
   "name": "python",
   "nbconvert_exporter": "python",
   "pygments_lexer": "ipython3",
   "version": "3.8.8"
  }
 },
 "nbformat": 4,
 "nbformat_minor": 5
}
