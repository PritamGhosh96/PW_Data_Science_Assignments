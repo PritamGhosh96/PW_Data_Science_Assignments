{
 "cells": [
  {
   "cell_type": "markdown",
   "id": "32b007bd",
   "metadata": {},
   "source": [
    "###### Q1: What is the difference between a t-test and a z-test? Provide an example scenario where you would use each type of test."
   ]
  },
  {
   "cell_type": "markdown",
   "id": "428efc0c",
   "metadata": {},
   "source": [
    "Z-test is done with known population variance and with large sample size\n",
    "<br>t-test is done when the population variance is not known or sample size is small"
   ]
  },
  {
   "cell_type": "markdown",
   "id": "3dde4276",
   "metadata": {},
   "source": [
    "Example, \n",
    "When the sample data is more than 30 and population std is given we use Z-test.\n",
    "When the sample data lesser than 30 or population std is not known we go for t-test."
   ]
  },
  {
   "cell_type": "markdown",
   "id": "3bb52136",
   "metadata": {},
   "source": [
    "###### Q2: Differentiate between one-tailed and two-tailed tests."
   ]
  },
  {
   "cell_type": "markdown",
   "id": "cb9a9e56",
   "metadata": {},
   "source": [
    "The main difference between one-tailed and two-tailed tests is that one-tailed tests will only have one critical region whereas two-tailed tests will have two critical regions."
   ]
  },
  {
   "cell_type": "markdown",
   "id": "8a8c1ec8",
   "metadata": {},
   "source": [
    "###### Q3: Explain the concept of Type 1 and Type 2 errors in hypothesis testing. Provide an example scenario for each type of error."
   ]
  },
  {
   "cell_type": "markdown",
   "id": "5c37c61d",
   "metadata": {},
   "source": [
    "Type I error is a false positive conclusion, while a Type II error is a false negative conclusion.\n",
    "\n",
    "Making a statistical decision always involves uncertainties, so the risks of making these errors are unavoidable in hypothesis testing.\n",
    "\n",
    "The probability of making a Type I error is the significance level, or alpha (α), while the probability of making a Type II error is beta (β). These risks can be minimized through careful planning in your study design."
   ]
  },
  {
   "cell_type": "markdown",
   "id": "1284b6ce",
   "metadata": {},
   "source": [
    "\n",
    "    Type I error (false positive): the test result says you have coronavirus, but you actually don’t.\n",
    "    Type II error (false negative): the test result says you don’t have coronavirus, but you actually do.\n"
   ]
  },
  {
   "cell_type": "markdown",
   "id": "c16a7c88",
   "metadata": {},
   "source": [
    "###### Q4: Explain Bayes's theorem with an example."
   ]
  },
  {
   "cell_type": "markdown",
   "id": "7bbb2ba2",
   "metadata": {},
   "source": [
    "The Bayes theorem is a mathematical formula for calculating conditional probability in probability and statistics. In other words, it's used to figure out how likely an event is based on its proximity to another. Bayes law or Bayes rule are other names for the theorem."
   ]
  },
  {
   "cell_type": "markdown",
   "id": "79211546",
   "metadata": {},
   "source": [
    "P(A ∣ B) = P(B ∣ A)P(A) / P(B)"
   ]
  },
  {
   "cell_type": "markdown",
   "id": "ce8a86dd",
   "metadata": {},
   "source": [
    "Three urns contain 6 red, 4 black; 4 red, 6 black, and 5 red, 5 black balls respectively. One of the urns is selected at random and a ball is drawn from it. If the ball drawn is red, find the probability that it is drawn from the first urn.\n",
    "\n",
    "Solution: Let E1, E2, E3, and A be the events defined as follows:\n",
    "\n",
    "E1 = urn first is chosen \n",
    "\n",
    "E2 = urn second is chosen\n",
    "\n",
    "E3 = urn third is chosen \n",
    "\n",
    "A = ball drawn is red\n",
    "\n",
    "Since there are three urns and one of the three urns is chosen at random, therefore:\n",
    "\n",
    "P(E1) = P(E2) = P(E3) = ⅓\n",
    "\n",
    "If E1 has already occurred, then urn first has been chosen, containing 6 red and 4 black balls. The probability of drawing a red ball from it is 6/10.\n",
    "\n",
    "So, P(A/E1) = 6/10\n",
    "\n",
    "Similarly, you have P(A/E2) = 4/10 and P(A/E3) = 5/10\n",
    "\n",
    "You are required to find the P(E1/A) i.e., given that the ball drawn is red, what is the probability that it is drawn from the first urn.\n",
    "\n",
    "By Bayes theorem, you have\n",
    "\n",
    "P(E1/A) = P(E1) P(A/E1)P(E1) P(A/E1) + P(E2) P(A/E2) + P(E3) P(A/E3)          \n",
    "\n",
    "= 1/3 * 6/10(1/3 * 6/10) + (1/3 * 4/10) + (1/3 * 5/10)\n",
    "\n",
    "= ⅖"
   ]
  },
  {
   "cell_type": "markdown",
   "id": "59c186a0",
   "metadata": {},
   "source": [
    "###### Q5: What is a confidence interval? How to calculate the confidence interval, explain with an example."
   ]
  },
  {
   "cell_type": "markdown",
   "id": "724bcfb0",
   "metadata": {},
   "source": [
    "A confidence interval is a type of interval calculation in statistics derived from observed data and holds the actual value of an unknown parameter."
   ]
  },
  {
   "cell_type": "markdown",
   "id": "044d62d6",
   "metadata": {},
   "source": [
    "Calculating A Confidence Interval\n",
    "\n",
    "Imagine a group of researchers who are trying to decide whether or not the oranges produced on a certain farm are large enough to be sold to a potential grocery chain. This will serve as an example of how to compute a confidence interval.\n",
    "\n",
    "Step 1: Determine the sample size (n).\n",
    "\n",
    "46 oranges are chosen at random by the researchers from farm trees.\n",
    "\n",
    "Consequently, n is 46.\n",
    "\n",
    "Step 2: Determine the samples' means (x).\n",
    "\n",
    "The researchers next determine the sample's mean weight, which comes out to be 86 grammes.\n",
    "\n",
    "X = 86.\n",
    "\n",
    "Step 3: Determine the standard deviation (s).\n",
    "\n",
    "Although utilising the population-wide standard deviation is ideal, this data is frequently unavailable to researchers. In this scenario, the\n",
    "\n",
    "If this is the case, the researchers should apply the sample's determined standard deviation.\n",
    "\n",
    "Let's assume, for our example, that the researchers have chosen to compute the standard deviation from their sample. They get a 6.2-gramme standard deviation.\n",
    "\n",
    "S = 6.2.\n",
    "\n",
    "Step 4: Determine the confidence interval utilised in step #4.\n",
    "\n",
    "In ordinary market research studies, 95% and 999% are the most popular selection for confidence intervals.\n",
    "\n",
    "For this example, let's assume that the researchers employ a 95 per cent confidence interval.\n",
    "\n",
    "Step 5: Find the Z value for the chosen confidence interval in step #5.\n",
    "\n",
    "The researchers would subsequently use the following table to establish their Z value:\n",
    "\n",
    "Confidence Interval Z\n",
    "\n",
    "    80% 1.282\n",
    "\n",
    "    85% 1.440\n",
    "\n",
    "    90% 1.645\n",
    "\n",
    "    95% 1.960\n",
    "\n",
    "    99% 2.576\n",
    "\n",
    "    99.5% 2.807\n",
    "    \n",
    "    99.9% 3.291\n",
    "\n",
    "Step 6: Calculate the following formula\n",
    "\n",
    "The next step would be for the researchers to enter their known values into the formula. Following our example, this formula would look like this:\n",
    "\n",
    "86 ± 1.960 (6.2/6.782)\n",
    "\n",
    "This calculation yields a value of 86 1.79, which the researchers use as their confidence interval.\n",
    "\n",
    "Step 7: Come to a decision.\n",
    "\n",
    "According to the study's findings, the real mean of the larger population of oranges is probably (with a 95% confidence level) between 84.21 grammes and 87.79 grammes."
   ]
  },
  {
   "cell_type": "markdown",
   "id": "17579431",
   "metadata": {},
   "source": [
    "###### Q6. Use Bayes' Theorem to calculate the probability of an event occurring given prior knowledge of the  event's probability and new evidence. Provide a sample problem and solution."
   ]
  },
  {
   "cell_type": "markdown",
   "id": "b7784d65",
   "metadata": {},
   "source": [
    "Refer to Question 4 example"
   ]
  },
  {
   "cell_type": "markdown",
   "id": "7096e245",
   "metadata": {},
   "source": [
    "###### Q7. Calculate the 95% confidence interval for a sample of data with a mean of 50 and a standard deviation of 5. Interpret the results."
   ]
  },
  {
   "cell_type": "markdown",
   "id": "a228efa5",
   "metadata": {},
   "source": [
    "95% confidance level is 2 std as per 68-95-99.7 rule. \n",
    "\n",
    "so the range is mean (+-) 2std\n",
    "\n",
    "Higher CI = 50+2*5 = 60\n",
    "\n",
    "Lower CI = 50 - 2*5 = 40"
   ]
  },
  {
   "cell_type": "markdown",
   "id": "33a6883a",
   "metadata": {},
   "source": [
    "###### Q8. What is the margin of error in a confidence interval? How does sample size affect the margin of error? Provide an example of a scenario where a larger sample size would result in a smaller margin of error."
   ]
  },
  {
   "cell_type": "markdown",
   "id": "483e70d2",
   "metadata": {},
   "source": [
    "The margin of error refers to the 95% confidence interval of a poll, and provides a false sense of reliability of a poll since one out of twenty times the true value will lie outside the confidence interval."
   ]
  },
  {
   "cell_type": "markdown",
   "id": "420a6005",
   "metadata": {},
   "source": [
    "The larger the sample, the smaller the margin of error. Also, the further from 50% the reported percentage, the smaller the margin of error."
   ]
  },
  {
   "cell_type": "markdown",
   "id": "d04aa217",
   "metadata": {},
   "source": [
    "Suppose in your survey 40% of the respondents pick a certain answer and your margin of error is 2%. This would mean that if you interrogate the total population, you can be sure that between 38% and 42% would pick the same answer. The smaller the allowed margin of error, the larger your sample will have to be."
   ]
  },
  {
   "cell_type": "markdown",
   "id": "b1c1c9a0",
   "metadata": {},
   "source": [
    "###### Q9. Calculate the z-score for a data point with a value of 75, a population mean of 70, and a population standard deviation of 5. Interpret the results."
   ]
  },
  {
   "cell_type": "markdown",
   "id": "3a6e3f2c",
   "metadata": {},
   "source": [
    "z score = (val-mu)/std\n",
    "= (75-70)/5\n",
    "= 1"
   ]
  },
  {
   "cell_type": "markdown",
   "id": "abbbe02e",
   "metadata": {},
   "source": [
    "###### Q10. In a study of the effectiveness of a new weight loss drug, a sample of 50 participants lost an average of 6 pounds with a standard deviation of 2.5 pounds. Conduct a hypothesis test to determine if the drug is significantly effective at a 95% confidence level using a t-test."
   ]
  },
  {
   "cell_type": "markdown",
   "id": "6d1cb93e",
   "metadata": {},
   "source": [
    "# **Where is population mean data. How to test with this data?**"
   ]
  },
  {
   "cell_type": "markdown",
   "id": "a06dd90a",
   "metadata": {},
   "source": [
    "###### Q12. A researcher is testing the effectiveness of two different teaching methods on student performance. Sample A has a mean score of 85 with a standard deviation of 6, while sample B has a mean score of 82 with a standard deviation of 5. Conduct a hypothesis test to determine if the two teaching methods have a significant difference in student performance using a t-test with a significance level of 0.01."
   ]
  },
  {
   "cell_type": "markdown",
   "id": "2da3dbe4",
   "metadata": {},
   "source": [
    "# **Where is the two sample t test video?**"
   ]
  },
  {
   "cell_type": "markdown",
   "id": "dfb2794d",
   "metadata": {},
   "source": [
    "###### Q13. A population has a mean of 60 and a standard deviation of 8. A sample of 50 observations has a mean of 65. Calculate the 90% confidence interval for the true population mean."
   ]
  },
  {
   "cell_type": "code",
   "execution_count": 2,
   "id": "7186dd49",
   "metadata": {},
   "outputs": [
    {
     "name": "stdout",
     "output_type": "stream",
     "text": [
      "65.78347431355469 64.21652568644531\n"
     ]
    }
   ],
   "source": [
    "Upper  = 65+(0.6925*8/(50**0.5))\n",
    "Lower  = 65-(0.6925*8/(50**0.5))\n",
    "\n",
    "print(Upper, Lower)"
   ]
  },
  {
   "cell_type": "markdown",
   "id": "ab64f1a5",
   "metadata": {},
   "source": [
    "###### Q14. In a study of the effects of caffeine on reaction time, a sample of 30 participants had an average reaction time of 0.25 seconds with a standard deviation of 0.05 seconds. Conduct a hypothesis test to determine if the caffeine has a significant effect on reaction time at a 90% confidence level using a t-test."
   ]
  },
  {
   "cell_type": "markdown",
   "id": "84452d31",
   "metadata": {},
   "source": [
    "# Again, Where is population mean data. How to test with this data?"
   ]
  },
  {
   "cell_type": "code",
   "execution_count": null,
   "id": "082f58e0",
   "metadata": {},
   "outputs": [],
   "source": []
  }
 ],
 "metadata": {
  "kernelspec": {
   "display_name": "Python 3 (ipykernel)",
   "language": "python",
   "name": "python3"
  },
  "language_info": {
   "codemirror_mode": {
    "name": "ipython",
    "version": 3
   },
   "file_extension": ".py",
   "mimetype": "text/x-python",
   "name": "python",
   "nbconvert_exporter": "python",
   "pygments_lexer": "ipython3",
   "version": "3.8.18"
  }
 },
 "nbformat": 4,
 "nbformat_minor": 5
}
