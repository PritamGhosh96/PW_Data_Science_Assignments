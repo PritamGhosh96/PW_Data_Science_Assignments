{
 "cells": [
  {
   "cell_type": "raw",
   "id": "3ee53d88",
   "metadata": {},
   "source": [
    "1. Python was developed by Guido van Rossum"
   ]
  },
  {
   "cell_type": "raw",
   "id": "486981ff",
   "metadata": {},
   "source": [
    "2. Python Supprts Object Oriented Programming"
   ]
  },
  {
   "cell_type": "raw",
   "id": "94bd3abb",
   "metadata": {},
   "source": [
    "3. Python is case sensetive dealing with identifiers"
   ]
  },
  {
   "cell_type": "raw",
   "id": "7774cdcc",
   "metadata": {},
   "source": [
    "4. Correct extension for python file is .py."
   ]
  },
  {
   "cell_type": "raw",
   "id": "aa73316d",
   "metadata": {},
   "source": [
    "5. Python code is interpreted."
   ]
  },
  {
   "cell_type": "raw",
   "id": "e5170797",
   "metadata": {},
   "source": [
    "6. The following are blocks: a module, a function body, and a class definition."
   ]
  },
  {
   "cell_type": "raw",
   "id": "74e8daa3",
   "metadata": {},
   "source": [
    "7. # is used for single line command."
   ]
  },
  {
   "cell_type": "raw",
   "id": "fdfd64e0",
   "metadata": {},
   "source": [
    "8."
   ]
  },
  {
   "cell_type": "code",
   "execution_count": 1,
   "id": "3ddc2daf",
   "metadata": {},
   "outputs": [
    {
     "data": {
      "text/plain": [
       "'3.8.8 (default, Apr 13 2021, 15:08:03) [MSC v.1916 64 bit (AMD64)]'"
      ]
     },
     "execution_count": 1,
     "metadata": {},
     "output_type": "execute_result"
    }
   ],
   "source": [
    "import sys\n",
    "sys.version"
   ]
  },
  {
   "cell_type": "raw",
   "id": "132fbbc0",
   "metadata": {},
   "source": [
    "9. Lambda Function"
   ]
  },
  {
   "cell_type": "raw",
   "id": "df9e40de",
   "metadata": {},
   "source": [
    "10. pip = Preferred Installer Program "
   ]
  },
  {
   "cell_type": "raw",
   "id": "b541f5ae",
   "metadata": {},
   "source": [
    "11. Buil-in function in Python :- print(), len(), sorted()"
   ]
  },
  {
   "cell_type": "raw",
   "id": "e5c403b2",
   "metadata": {},
   "source": [
    "12. Max len of an Identifier = 79 characters"
   ]
  },
  {
   "cell_type": "raw",
   "id": "b245dc60",
   "metadata": {},
   "source": [
    "13. Benifit of Python = \n",
    "a. Presence of third-party modules.\n",
    "b. Extensive support libraries(NumPy for numerical calculations, Pandas for data analytics, etc.)\n",
    "c. Open source and large active community base.\n",
    "d. Versatile, Easy to read, learn and write.\n",
    "e. User-friendly data structures.\n",
    "f. High-level language."
   ]
  },
  {
   "cell_type": "raw",
   "id": "c53a59e0",
   "metadata": {},
   "source": [
    "14. Python uses the dynamic memory allocation which is managed by the Heap data structure."
   ]
  },
  {
   "cell_type": "raw",
   "id": "528d92b6",
   "metadata": {},
   "source": [
    "15. Process of installing windows and setting path\n",
    "\n",
    "Select the version of Python to install.\n",
    "Download the Python Executable Installer.\n",
    "Run the Executable Installer.\n",
    "Verify that Python was installed on Windows.\n",
    "Verify that Pip was installed.\n",
    "Add the Python path to environment variables."
   ]
  },
  {
   "cell_type": "raw",
   "id": "a23f2edd",
   "metadata": {},
   "source": [
    "16. Yes, Identation seperates a block of code. "
   ]
  }
 ],
 "metadata": {
  "kernelspec": {
   "display_name": "Python 3",
   "language": "python",
   "name": "python3"
  },
  "language_info": {
   "codemirror_mode": {
    "name": "ipython",
    "version": 3
   },
   "file_extension": ".py",
   "mimetype": "text/x-python",
   "name": "python",
   "nbconvert_exporter": "python",
   "pygments_lexer": "ipython3",
   "version": "3.8.8"
  }
 },
 "nbformat": 4,
 "nbformat_minor": 5
}
