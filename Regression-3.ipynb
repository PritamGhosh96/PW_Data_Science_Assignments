{
 "cells": [
  {
   "cell_type": "markdown",
   "id": "d1bb13c7",
   "metadata": {},
   "source": [
    "###### Q1. What is Ridge Regression, and how does it differ from ordinary least squares regression?"
   ]
  },
  {
   "cell_type": "markdown",
   "id": "c293984a",
   "metadata": {},
   "source": [
    "Ridge regression is a model tuning method that is used to analyse any data that suffers from multicollinearity. This method performs L2 regularization. When the issue of multicollinearity occurs, least-squares are unbiased, and variances are large, this results in predicted values being far away from the actual values. "
   ]
  },
  {
   "cell_type": "markdown",
   "id": "ceef9863",
   "metadata": {},
   "source": [
    "OLS is a traditional method that finds the line of best fit through the data by minimizing the sum of the squared errors between the predicted and actual values. However, OLS can suffer from high variance and overfitting when the number of predictor variables is large. To address this issue, Ridge Regression introduces a regularization term that shrinks the coefficients toward zero, which can lead to a better model with lower variance."
   ]
  },
  {
   "cell_type": "markdown",
   "id": "12eba41e",
   "metadata": {},
   "source": [
    "###### Q2. What are the assumptions of Ridge Regression?"
   ]
  },
  {
   "cell_type": "markdown",
   "id": "4354aeaa",
   "metadata": {},
   "source": [
    "The assumptions are the same as those used in regular multiple regression: linearity, constant variance (no\n",
    "outliers), and independence. Since ridge regression does not provide confidence limits, normality need not\n",
    "be assumed."
   ]
  },
  {
   "cell_type": "markdown",
   "id": "a004af6c",
   "metadata": {},
   "source": [
    "###### Q3. How do you select the value of the tuning parameter (lambda) in Ridge Regression?"
   ]
  },
  {
   "cell_type": "markdown",
   "id": "0222bd9f",
   "metadata": {},
   "source": [
    "To find the ideal lambda, we calculate the MSE on the validation set using a sequence of possible lambda values. We can try  a sequence of lambda values on the holdout training set, and checks the MSE on the validation set. It'll give the ideal parameter lambda, which we will then use to fit our whole training data with."
   ]
  },
  {
   "cell_type": "markdown",
   "id": "cfe1d3e8",
   "metadata": {},
   "source": [
    "###### Q4. Can Ridge Regression be used for feature selection? If yes, how?"
   ]
  },
  {
   "cell_type": "markdown",
   "id": "6ec2bfa3",
   "metadata": {},
   "source": [
    "Regularization of Ridge causes its weight to become very close to zero, but not zero. In contrast lasso can make weights equal to zero because of the types of regularization they use."
   ]
  },
  {
   "cell_type": "markdown",
   "id": "692eeb26",
   "metadata": {},
   "source": [
    "###### Q5. How does the Ridge Regression model perform in the presence of multicollinearity?"
   ]
  },
  {
   "cell_type": "markdown",
   "id": "197d8213",
   "metadata": {},
   "source": [
    "Consider the simple case of 2 predictor variables (x1, x2). If there is no or little colinearity and good spread in both predictors, then we are fitting a plane to the data (y is the 3rd dimension) and there is often a very clear \"best\" plane. But with colinearity the relationship is really a line through 3 dimensional space with data scattered around it. But the regression routine tries to fit a plane to a line, so there are an infinite number of planes that intersect perfectly with that line, which plane is chosen depends on the influential points in the data, change one of those points just a little and the \"best\" fitting plane changes quite a bit. What ridge regression does is to pull the chosen plane towards simpler/saner models (bias values towards 0)"
   ]
  },
  {
   "cell_type": "markdown",
   "id": "df3a945e",
   "metadata": {},
   "source": [
    "###### Q6. Can Ridge Regression handle both categorical and continuous independent variables?"
   ]
  },
  {
   "cell_type": "markdown",
   "id": "3b1126c5",
   "metadata": {},
   "source": [
    "Using Encoding we can convert the categorical data into numerical data. Then we can use the data to apply ridge regression."
   ]
  },
  {
   "cell_type": "markdown",
   "id": "5ef683fb",
   "metadata": {},
   "source": [
    "###### Q7. How do you interpret the coefficients of Ridge Regression?"
   ]
  },
  {
   "cell_type": "markdown",
   "id": "8df30657",
   "metadata": {},
   "source": [
    "The ridge coefficients are a reduced factor of the simple linear regression coefficients and thus never attain zero values but very small values."
   ]
  },
  {
   "cell_type": "markdown",
   "id": "e4e3fb0e",
   "metadata": {},
   "source": [
    "###### Q8. Can Ridge Regression be used for time-series data analysis? If yes, how?"
   ]
  },
  {
   "cell_type": "markdown",
   "id": "e8916035",
   "metadata": {},
   "source": [
    "In a linear regression model, multicollinearity happens when independent factors in a relapse model are associated. This relationship is an issue since independent factors should be free. If the level of connection between factors is sufficiently high, it can cause issues when you fit the model and decipher the outcomes. Multicollinearity diminishes the accuracy of the estimated coefficients, which debilitates the statistical power of the regression model. Multicollinearity also enables the coefficient estimates to swing fiercely dependent on which other independent factors are in the model. The coefficients become delicate to little changes in the model.\n",
    "\n",
    "As the Time series data will be correlated with time we can reduce the multicollinearity using Ridge Regression."
   ]
  },
  {
   "cell_type": "code",
   "execution_count": null,
   "id": "b86335fe",
   "metadata": {},
   "outputs": [],
   "source": []
  }
 ],
 "metadata": {
  "kernelspec": {
   "display_name": "Python 3 (ipykernel)",
   "language": "python",
   "name": "python3"
  },
  "language_info": {
   "codemirror_mode": {
    "name": "ipython",
    "version": 3
   },
   "file_extension": ".py",
   "mimetype": "text/x-python",
   "name": "python",
   "nbconvert_exporter": "python",
   "pygments_lexer": "ipython3",
   "version": "3.8.18"
  }
 },
 "nbformat": 4,
 "nbformat_minor": 5
}
