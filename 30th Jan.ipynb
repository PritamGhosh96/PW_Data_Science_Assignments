{
 "cells": [
  {
   "cell_type": "markdown",
   "id": "5adcca8d",
   "metadata": {},
   "source": [
    "A1."
   ]
  },
  {
   "cell_type": "code",
   "execution_count": 1,
   "id": "86396414",
   "metadata": {},
   "outputs": [
    {
     "name": "stdout",
     "output_type": "stream",
     "text": [
      "Enter percentage: 75.5\n",
      "C\n"
     ]
    }
   ],
   "source": [
    "def grader(per:float):\n",
    "    if per>90:\n",
    "        return \"A\"\n",
    "    elif per>80 and per<=90:\n",
    "        return \"B\"\n",
    "    elif per>=60 and per<=80:\n",
    "        return \"C\"\n",
    "    else: return \"D\"\n",
    "    \n",
    "grade = grader(float(input(\"Enter percentage: \"))) \n",
    "print(grade)"
   ]
  },
  {
   "cell_type": "markdown",
   "id": "e6b63145",
   "metadata": {},
   "source": [
    "A2."
   ]
  },
  {
   "cell_type": "code",
   "execution_count": 2,
   "id": "9057a74c",
   "metadata": {},
   "outputs": [
    {
     "name": "stdout",
     "output_type": "stream",
     "text": [
      "Enter the cost price of your bike: 99999\n",
      "9999.9\n"
     ]
    }
   ],
   "source": [
    "def taxPay(price:int):\n",
    "    if price>100000:\n",
    "        return price*15/100\n",
    "    elif price>50000 and price<=100000:\n",
    "        return price*10/100\n",
    "    else: return price*5/100\n",
    "    \n",
    "tax = taxPay(int(input(\"Enter the cost price of your bike: \")))\n",
    "print(tax)"
   ]
  },
  {
   "cell_type": "markdown",
   "id": "98d46ad1",
   "metadata": {},
   "source": [
    "A3."
   ]
  },
  {
   "cell_type": "code",
   "execution_count": 3,
   "id": "ae14ff9c",
   "metadata": {},
   "outputs": [
    {
     "name": "stdout",
     "output_type": "stream",
     "text": [
      "Enter City: Jaipur\n",
      "Jal Mahal\n"
     ]
    }
   ],
   "source": [
    "def monument(city:str):\n",
    "    if city == \"Delhi\":\n",
    "        return \"Red Fort\"\n",
    "    elif city==\"Agra\":\n",
    "        return \"Taj Mahal\"\n",
    "    elif city==\"Jaipur\": return \"Jal Mahal\"\n",
    "    \n",
    "print(monument(input(\"Enter City: \")))"
   ]
  },
  {
   "cell_type": "markdown",
   "id": "f96c13a2",
   "metadata": {},
   "source": [
    "A4."
   ]
  },
  {
   "cell_type": "code",
   "execution_count": 4,
   "id": "7979e770",
   "metadata": {},
   "outputs": [
    {
     "name": "stdout",
     "output_type": "stream",
     "text": [
      "Enter the number: 240\n",
      "1\n"
     ]
    }
   ],
   "source": [
    "def countDivB3(num:int):\n",
    "    count = 0\n",
    "    while(num>10):\n",
    "        if num%3 == 0:\n",
    "            count += 1\n",
    "            num = num//3\n",
    "        else: break\n",
    "    return count\n",
    "\n",
    "print(countDivB3(int(input(\"Enter the number: \"))))"
   ]
  },
  {
   "cell_type": "markdown",
   "id": "39f3dda9",
   "metadata": {},
   "source": [
    "A5. We use while loop when we dont know for how long we have to run the loop.  "
   ]
  },
  {
   "cell_type": "markdown",
   "id": "1fb35b3a",
   "metadata": {},
   "source": [
    "A6."
   ]
  },
  {
   "cell_type": "code",
   "execution_count": 5,
   "id": "43d0316e",
   "metadata": {},
   "outputs": [
    {
     "name": "stdout",
     "output_type": "stream",
     "text": [
      "*\n",
      "**\n",
      "***\n",
      "****\n",
      "*****\n"
     ]
    }
   ],
   "source": [
    "for i in range(1,6):\n",
    "    print(\"*\"*i)"
   ]
  },
  {
   "cell_type": "code",
   "execution_count": 6,
   "id": "71b15788",
   "metadata": {},
   "outputs": [
    {
     "name": "stdout",
     "output_type": "stream",
     "text": [
      "******\n",
      "*****\n",
      "****\n",
      "***\n",
      "**\n",
      "*\n"
     ]
    }
   ],
   "source": [
    "for i in range(6,0,-1):\n",
    "    print(\"*\"*i)\n",
    "    "
   ]
  },
  {
   "cell_type": "code",
   "execution_count": 7,
   "id": "180eb4ae",
   "metadata": {},
   "outputs": [
    {
     "name": "stdout",
     "output_type": "stream",
     "text": [
      "      \n",
      "     *\n",
      "    **\n",
      "   ***\n",
      "  ****\n",
      " *****\n",
      "******\n"
     ]
    }
   ],
   "source": [
    "i,n = 0,6\n",
    "while i<=n:\n",
    "    print(\" \"*(n-i)+\"*\"*i)\n",
    "    i+=1"
   ]
  },
  {
   "cell_type": "markdown",
   "id": "93f7cc66",
   "metadata": {},
   "source": [
    "A7."
   ]
  },
  {
   "cell_type": "code",
   "execution_count": 8,
   "id": "d28bb787",
   "metadata": {},
   "outputs": [
    {
     "name": "stdout",
     "output_type": "stream",
     "text": [
      "10 9 8 7 6 5 4 3 2 1 "
     ]
    }
   ],
   "source": [
    "n = 10\n",
    "while (n>0):\n",
    "    print(n,end = \" \")\n",
    "    n -= 1"
   ]
  },
  {
   "cell_type": "code",
   "execution_count": null,
   "id": "4f108d2f",
   "metadata": {},
   "outputs": [],
   "source": []
  }
 ],
 "metadata": {
  "kernelspec": {
   "display_name": "Python 3",
   "language": "python",
   "name": "python3"
  },
  "language_info": {
   "codemirror_mode": {
    "name": "ipython",
    "version": 3
   },
   "file_extension": ".py",
   "mimetype": "text/x-python",
   "name": "python",
   "nbconvert_exporter": "python",
   "pygments_lexer": "ipython3",
   "version": "3.8.8"
  }
 },
 "nbformat": 4,
 "nbformat_minor": 5
}
