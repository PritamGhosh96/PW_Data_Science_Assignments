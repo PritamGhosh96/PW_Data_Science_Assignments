{
 "cells": [
  {
   "cell_type": "markdown",
   "id": "2901185f",
   "metadata": {},
   "source": [
    "Q1. What is a database? Differentiate between SQL and NoSQL databases."
   ]
  },
  {
   "cell_type": "markdown",
   "id": "e618c165",
   "metadata": {},
   "source": [
    "A database is an organized collection of structured information, or data, typically stored electronically in a computer system"
   ]
  },
  {
   "cell_type": "markdown",
   "id": "b6bc3274",
   "metadata": {},
   "source": [
    "SQL databases are relational, and NoSQL databases are non-relational. SQL databases use structured query language (SQL) and have a predefined schema. NoSQL databases have dynamic schemas for unstructured data. SQL databases are vertically scalable, while NoSQL databases are horizontally scalable."
   ]
  },
  {
   "cell_type": "markdown",
   "id": "b117dbbd",
   "metadata": {},
   "source": [
    "Q2. What is DDL? Explain why CREATE, DROP, ALTER, and TRUNCATE are used with an example."
   ]
  },
  {
   "cell_type": "markdown",
   "id": "67d1b9d4",
   "metadata": {},
   "source": [
    "A data definition language (DDL) is a computer language used to create and modify the structure of database objects in a database. These database objects include views, schemas, tables, indexes, etc."
   ]
  },
  {
   "cell_type": "markdown",
   "id": "3dfbdee3",
   "metadata": {},
   "source": [
    "Q3. What is DML? Explain INSERT, UPDATE, and DELETE with an example."
   ]
  },
  {
   "cell_type": "markdown",
   "id": "22ee2471",
   "metadata": {},
   "source": [
    "A data manipulation language (DML) is a computer programming language used for adding (inserting), deleting, and modifying (updating) data in a database."
   ]
  },
  {
   "cell_type": "markdown",
   "id": "c3d60cba",
   "metadata": {},
   "source": [
    "Q4. What is DQL? Explain SELECT with an example."
   ]
  },
  {
   "cell_type": "markdown",
   "id": "58bfa05d",
   "metadata": {},
   "source": [
    "Data Query Languages are computer languages that are used to make various queries in information systems and databases."
   ]
  },
  {
   "cell_type": "markdown",
   "id": "05a501fa",
   "metadata": {},
   "source": [
    "Examples of CREATE, DROP, ALTER, TRUNCATE, INSERT, UPDATE, DELETE, SELECT are given below."
   ]
  },
  {
   "cell_type": "code",
   "execution_count": 1,
   "id": "7f30e1d7",
   "metadata": {},
   "outputs": [],
   "source": [
    "# pip install mysql-connector-python"
   ]
  },
  {
   "cell_type": "code",
   "execution_count": 2,
   "id": "41da4634",
   "metadata": {},
   "outputs": [],
   "source": [
    "# pip install pymysql"
   ]
  },
  {
   "cell_type": "code",
   "execution_count": 3,
   "id": "27f86c7f",
   "metadata": {},
   "outputs": [],
   "source": [
    "import mysql.connector"
   ]
  },
  {
   "cell_type": "code",
   "execution_count": 4,
   "id": "035eef22",
   "metadata": {},
   "outputs": [],
   "source": [
    "mydb = mysql.connector.connect(\n",
    "  host = \"localhost\",\n",
    "  user=\"root\",\n",
    "  password=\"password\"\n",
    ")\n",
    "mycursor = mydb.cursor()"
   ]
  },
  {
   "cell_type": "markdown",
   "id": "89329f6f",
   "metadata": {},
   "source": [
    "CREATE - Create is used to create databases, tables, views, indexs or procedures in SQL"
   ]
  },
  {
   "cell_type": "code",
   "execution_count": 5,
   "id": "c17aef8f",
   "metadata": {},
   "outputs": [],
   "source": [
    "mycursor.execute(\"CREATE DATABASE if not exists pyDB\") "
   ]
  },
  {
   "cell_type": "markdown",
   "id": "20ca4e6c",
   "metadata": {},
   "source": [
    "DROP - DROP command in SQL removes table definition and all the data from one or more database tables."
   ]
  },
  {
   "cell_type": "code",
   "execution_count": 6,
   "id": "52250cf1",
   "metadata": {},
   "outputs": [],
   "source": [
    "mycursor.execute(\"Drop TABLE if exists pyDB.test_table\")\n",
    "mycursor.execute(\"CREATE TABLE if not exists pyDB.test_table(c1 INT,c2 VARCHAR(50),c3 INT,c4 FLOAT,c5 VARCHAR(40))\") "
   ]
  },
  {
   "cell_type": "markdown",
   "id": "2f165e39",
   "metadata": {},
   "source": [
    "INSERT - The INSERT INTO statement is used to insert new records in a table."
   ]
  },
  {
   "cell_type": "code",
   "execution_count": 7,
   "id": "7e92c6cd",
   "metadata": {},
   "outputs": [],
   "source": [
    "command = \"insert into pyDB.test_table values(123, 'Pritam', 234, 456.5,'Ghosh') \"\n",
    "\n",
    "for i in range(10):\n",
    "    mycursor.execute(command)\n"
   ]
  },
  {
   "cell_type": "code",
   "execution_count": 8,
   "id": "bbfd7735",
   "metadata": {},
   "outputs": [],
   "source": [
    "mydb.commit()"
   ]
  },
  {
   "cell_type": "markdown",
   "id": "12459ef4",
   "metadata": {},
   "source": [
    "SELECT - The SELECT statement is used to select data from a database."
   ]
  },
  {
   "cell_type": "code",
   "execution_count": 9,
   "id": "8bc5f509",
   "metadata": {
    "scrolled": true
   },
   "outputs": [
    {
     "name": "stdout",
     "output_type": "stream",
     "text": [
      "(123, 'Pritam', 234, 456.5, 'Ghosh')\n",
      "(123, 'Pritam', 234, 456.5, 'Ghosh')\n",
      "(123, 'Pritam', 234, 456.5, 'Ghosh')\n",
      "(123, 'Pritam', 234, 456.5, 'Ghosh')\n",
      "(123, 'Pritam', 234, 456.5, 'Ghosh')\n",
      "(123, 'Pritam', 234, 456.5, 'Ghosh')\n",
      "(123, 'Pritam', 234, 456.5, 'Ghosh')\n",
      "(123, 'Pritam', 234, 456.5, 'Ghosh')\n",
      "(123, 'Pritam', 234, 456.5, 'Ghosh')\n",
      "(123, 'Pritam', 234, 456.5, 'Ghosh')\n"
     ]
    }
   ],
   "source": [
    "mycursor.execute(\"select * from pyDB.test_table\")\n",
    "for i in mycursor.fetchall():\n",
    "    print(i)"
   ]
  },
  {
   "cell_type": "markdown",
   "id": "6af6533b",
   "metadata": {},
   "source": [
    "TRUNCATE - The TRUNCATE command is used to remove all of the rows from a table, regardless of whether or not any conditions are met and resets the table definition."
   ]
  },
  {
   "cell_type": "code",
   "execution_count": 10,
   "id": "2ed637e7",
   "metadata": {},
   "outputs": [
    {
     "name": "stdout",
     "output_type": "stream",
     "text": [
      "0\n"
     ]
    }
   ],
   "source": [
    "mycursor.execute(\"TRUNCATE TABLE pyDB.test_table\")\n",
    "mycursor.execute(\"select * from pyDB.test_table\")\n",
    "print(len(mycursor.fetchall()))"
   ]
  },
  {
   "cell_type": "code",
   "execution_count": 11,
   "id": "10e6c9b8",
   "metadata": {},
   "outputs": [
    {
     "name": "stdout",
     "output_type": "stream",
     "text": [
      "(0, 'Pritam', 234, 456.5, 'Ghosh')\n",
      "(1, 'Pritam', 234, 456.5, 'Ghosh')\n",
      "(2, 'Pritam', 234, 456.5, 'Ghosh')\n",
      "(3, 'Pritam', 234, 456.5, 'Ghosh')\n",
      "(4, 'Pritam', 234, 456.5, 'Ghosh')\n",
      "(5, 'Pritam', 234, 456.5, 'Ghosh')\n",
      "(6, 'Pritam', 234, 456.5, 'Ghosh')\n",
      "(7, 'Pritam', 234, 456.5, 'Ghosh')\n",
      "(8, 'Pritam', 234, 456.5, 'Ghosh')\n",
      "(9, 'Pritam', 234, 456.5, 'Ghosh')\n"
     ]
    }
   ],
   "source": [
    "for i in range(10):\n",
    "    command = \"insert into pyDB.test_table values(\"+str(i)+\", 'Pritam', 234, 456.5,'Ghosh') \"\n",
    "    mycursor.execute(command)\n",
    "\n",
    "mydb.commit()\n",
    "\n",
    "mycursor.execute(\"select * from pyDB.test_table\")\n",
    "for i in mycursor.fetchall():\n",
    "    print(i)"
   ]
  },
  {
   "cell_type": "markdown",
   "id": "d4c06fcc",
   "metadata": {},
   "source": [
    "DELETE - The DELETE statement is used to do selective deletion for existing records in a table."
   ]
  },
  {
   "cell_type": "code",
   "execution_count": 12,
   "id": "f829498f",
   "metadata": {},
   "outputs": [
    {
     "name": "stdout",
     "output_type": "stream",
     "text": [
      "(1, 'Pritam', 234, 456.5, 'Ghosh')\n",
      "(2, 'Pritam', 234, 456.5, 'Ghosh')\n",
      "(3, 'Pritam', 234, 456.5, 'Ghosh')\n",
      "(4, 'Pritam', 234, 456.5, 'Ghosh')\n",
      "(5, 'Pritam', 234, 456.5, 'Ghosh')\n",
      "(6, 'Pritam', 234, 456.5, 'Ghosh')\n",
      "(7, 'Pritam', 234, 456.5, 'Ghosh')\n",
      "(8, 'Pritam', 234, 456.5, 'Ghosh')\n",
      "(9, 'Pritam', 234, 456.5, 'Ghosh')\n"
     ]
    }
   ],
   "source": [
    "mycursor.execute(\"DELETE FROM pyDB.test_table WHERE c1 = 0\")\n",
    "mycursor.execute(\"select * from pyDB.test_table\")\n",
    "for i in mycursor.fetchall():\n",
    "    print(i)"
   ]
  },
  {
   "cell_type": "markdown",
   "id": "30bbb906",
   "metadata": {},
   "source": [
    "ALTER - Alter is used to add, remove rename or modify a column inside a Table"
   ]
  },
  {
   "cell_type": "code",
   "execution_count": 13,
   "id": "b8ee7093",
   "metadata": {},
   "outputs": [],
   "source": [
    "mycursor.execute(\"Alter table pyDB.test_table drop c3\")"
   ]
  },
  {
   "cell_type": "code",
   "execution_count": 14,
   "id": "3c781e89",
   "metadata": {},
   "outputs": [
    {
     "name": "stdout",
     "output_type": "stream",
     "text": [
      "['c1', 'c2', 'c4', 'c5']\n"
     ]
    }
   ],
   "source": [
    "mycursor.execute(\"DESCRIBE pyDB.test_table\")\n",
    "print ([column[0] for column in mycursor.fetchall()])"
   ]
  },
  {
   "cell_type": "code",
   "execution_count": 15,
   "id": "d85c5aa6",
   "metadata": {},
   "outputs": [
    {
     "name": "stdout",
     "output_type": "stream",
     "text": [
      "[('c1', 3, None, None, None, None, 1, 32768, 63), ('c2', 253, None, None, None, None, 1, 0, 255), ('c4', 4, None, None, None, None, 1, 32768, 63), ('c5', 253, None, None, None, None, 1, 0, 255)]\n",
      "(1, 'Pritam', 456.5, 'Ghosh')\n",
      "(2, 'Pritam', 456.5, 'Ghosh')\n",
      "(3, 'Pritam', 456.5, 'Ghosh')\n",
      "(4, 'Pritam', 456.5, 'Ghosh')\n",
      "(5, 'Pritam', 456.5, 'Ghosh')\n",
      "(6, 'Pritam', 456.5, 'Ghosh')\n",
      "(7, 'Pritam', 456.5, 'Ghosh')\n",
      "(8, 'Pritam', 456.5, 'Ghosh')\n",
      "(9, 'Pritam', 456.5, 'Ghosh')\n"
     ]
    }
   ],
   "source": [
    "mycursor.execute(\"select * from pyDB.test_table \")\n",
    "print (mycursor.description)\n",
    "for i in mycursor.fetchall():\n",
    "    print(i)"
   ]
  },
  {
   "cell_type": "markdown",
   "id": "dea1aa6b",
   "metadata": {},
   "source": [
    "UPDATE - The UPDATE statement is used to modify the existing records in a table."
   ]
  },
  {
   "cell_type": "code",
   "execution_count": 16,
   "id": "40fc0908",
   "metadata": {},
   "outputs": [
    {
     "name": "stdout",
     "output_type": "stream",
     "text": [
      "(1, 'Pritam', 456.5, 'Ghosh')\n",
      "(2, 'Pritam', 456.5, 'Ghosh')\n",
      "(3, 'Pritam', 456.5, 'Ghosh')\n",
      "(4, 'Pritam', 456.5, 'Ghosh')\n",
      "(5, 'Pritam', 456.5, 'Ghosh')\n",
      "(6, 'Pritam', 456.5, 'Ghosh')\n",
      "(7, 'Pritam', 456.5, 'Ghosh')\n",
      "(8, 'Pritam', 456.5, 'Ghosh')\n",
      "(9, 'FirstName', 456.5, 'LastName')\n"
     ]
    },
    {
     "data": {
      "text/plain": [
       "True"
      ]
     },
     "execution_count": 16,
     "metadata": {},
     "output_type": "execute_result"
    }
   ],
   "source": [
    "command = \"UPDATE pyDB.test_table SET c2 = 'FirstName', c5 = 'LastName' WHERE c1 = 9\"\n",
    "\n",
    "mycursor.execute(command)\n",
    "mycursor.execute(\"select * from pyDB.test_table \")\n",
    "for i in mycursor.fetchall():\n",
    "    print(i)\n",
    "    \n",
    "mycursor.close()"
   ]
  },
  {
   "cell_type": "markdown",
   "id": "73bded46",
   "metadata": {},
   "source": [
    "Q5. Explain Primary Key and Foreign Key."
   ]
  },
  {
   "cell_type": "markdown",
   "id": "32dc4c3c",
   "metadata": {},
   "source": [
    " A primary key is a unique identifier for each record in a table. \n",
    " \n",
    " A foreign key establishes a relationship between tables by referencing the primary key of another table."
   ]
  },
  {
   "cell_type": "markdown",
   "id": "eb8668a5",
   "metadata": {},
   "source": [
    "For Example, in a customer table we can have columns as cust_id(primary key), cust_name, cust_add and cust_ph_no. \n",
    "\n",
    "But in the transaction table we only have the cust_id from customer table as a foreign key creating a relationship between customer table and trnsaction table. "
   ]
  },
  {
   "cell_type": "markdown",
   "id": "3e56187b",
   "metadata": {},
   "source": [
    "Q6. Write a python code to connect MySQL to python. Explain the cursor() and execute() method."
   ]
  },
  {
   "cell_type": "code",
   "execution_count": 17,
   "id": "3ebf6882",
   "metadata": {},
   "outputs": [],
   "source": [
    "import mysql.connector\n",
    "mydb = mysql.connector.connect(\n",
    "  host = \"localhost\",\n",
    "  user=\"root\",\n",
    "  password=\"password\"\n",
    ")\n",
    "\n",
    "# Cursor method sets up a connection, establishing a session with the MySQL server. If no arguments are given, it uses the already configured or default values.\n",
    "mycursor = mydb.cursor()\n",
    "\n",
    "# Execute method executes the given database operation (query or command). The parameters found in the tuple or dictionary params are bound to the variables in the operation. Specify variables using %s or %(name)s parameter style (that is, using format or pyformat style). execute() returns an iterator if multi is True. \n",
    "mycursor.execute(\"select * from pyDB.test_table\")\n"
   ]
  },
  {
   "cell_type": "markdown",
   "id": "3dc4ea03",
   "metadata": {},
   "source": [
    "Q7. Give the order of execution of SQL clauses in an SQL query."
   ]
  },
  {
   "cell_type": "markdown",
   "id": "b2786c8c",
   "metadata": {},
   "source": [
    "The order of execution of an SQL query’s clauses is as follows:\n",
    "\n",
    "    First, the table on which the DML operation is performed has to be processed. So, the FROM clause is evaluated first in an SQL Query. If the query contains JOIN clauses, tables are combined by merging rows involved, before FROM clause. So, JOIN predates FROM in statements with JOIN. Now table data is acquired before any filter or group is done. So subsequent clauses can be evaluated based on this data which is much smaller than the original tables before JOIN operations. This also processes the subqueries.\n",
    "    \n",
    "    SQL may create a temporary table internally to evaluate this. To make code memory efficient, it is good to have simpler table JOINs it would be highly memory intensive.\n",
    "    WHERE: After the table data on which other operations take place is processed by JOIN and FROM clause, WHERE clause is evaluated. WHERE clause filters the rows based on conditions from the table evaluated by the FROM clause. This WHERE clause discards rows that don’t satisfy the conditions, thus reducing the rows of data that need to be processed further in other clauses.\n",
    "    \n",
    "    GROUP BY: If the query has a GROUP BY clause, it is executed next. Here, the data is grouped based on the common value in the column specified in the GROUP BY clause. This reduces the number of rows further equal to no of distinct values in the GROUP BY column. This helps to calculate aggregate functions.\n",
    "    \n",
    "    HAVING: If the query had a GROUP BY clause, the HAVING clause is evaluated immediately after GROUP BY. HAVING clause is not compulsory for GROUP BY. Similar to WHERE operations, this clause also filters the table group processed before by the GROUP BY clause. This HAVING also discards rows that don’t satisfy the conditions, thus reducing the rows of data that need to be processed further in other clauses\n",
    "    \n",
    "    SELECT: The SELECT is executed next after GROUP BY and HAVING. It computes expressions (arithmetic, aggregate, etc.) and aliases given in the SELECT clause. The computation is now performed on the smallest dataset after much filtering and grouping operations done by previous clauses.\n",
    "    \n",
    "    DISTINCT: The DISTINCT clause is executed after evaluating expressions, and alias references in the previous step. It filters any duplicate rows and returns only unique rows.\n",
    "    \n",
    "    ORDER BY: After executing all the above clauses, the data to be displayed or processed is computed. Now ORDER BY is executed to sort it based on particular column(s) either in ascending or descending order. It is left associative, that is it is sorted based on the first specified column and then by the second, and so on.\n",
    "    \n",
    "    LIMIT/OFFSET: At last, after the order of data to be processed is evaluated, LIMIT and OFFSET clauses are evaluated to display only the rows that fall within the LIMIT. So, it is generally not recommended to LIMIT only certain rows from many rows evaluated before, since It is not efficient and waste of computation.\n"
   ]
  },
  {
   "cell_type": "code",
   "execution_count": null,
   "id": "2e4e81d2",
   "metadata": {},
   "outputs": [],
   "source": []
  }
 ],
 "metadata": {
  "kernelspec": {
   "display_name": "Python 3",
   "language": "python",
   "name": "python3"
  },
  "language_info": {
   "codemirror_mode": {
    "name": "ipython",
    "version": 3
   },
   "file_extension": ".py",
   "mimetype": "text/x-python",
   "name": "python",
   "nbconvert_exporter": "python",
   "pygments_lexer": "ipython3",
   "version": "3.8.8"
  }
 },
 "nbformat": 4,
 "nbformat_minor": 5
}
