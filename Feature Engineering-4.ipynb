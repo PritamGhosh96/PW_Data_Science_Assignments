{
 "cells": [
  {
   "cell_type": "markdown",
   "id": "d1bbbe41",
   "metadata": {},
   "source": [
    "###### Q1. What is data encoding? How is it useful in data science?"
   ]
  },
  {
   "cell_type": "markdown",
   "id": "2912e8a0",
   "metadata": {},
   "source": [
    "Data Encoding refers to the process of converting categorical or textual data into numerical format, so that it can be used as input for algorithms to process"
   ]
  },
  {
   "cell_type": "markdown",
   "id": "2184b189",
   "metadata": {},
   "source": [
    "Encoding is a technique of converting categorical variables into numerical values so that it could be easily fitted to a machine learning model."
   ]
  },
  {
   "cell_type": "markdown",
   "id": "5917b9f5",
   "metadata": {},
   "source": [
    "###### Q2. What is nominal encoding? Provide an example of how you would use it in a real-world scenario."
   ]
  },
  {
   "cell_type": "markdown",
   "id": "79f92ca1",
   "metadata": {},
   "source": [
    "The process of encoding Nominal data is known as Nominal encoding. Here we consider the presence or absence of a feature. In such a case, no notion of order is present."
   ]
  },
  {
   "cell_type": "markdown",
   "id": "b84cd5a4",
   "metadata": {},
   "source": [
    "For Example, If a person is married or not, or Male /female. In this case there is no order in the data."
   ]
  },
  {
   "cell_type": "markdown",
   "id": "aa6e8847",
   "metadata": {},
   "source": [
    "###### Q3. In what situations is nominal encoding preferred over one-hot encoding? Provide a practical example."
   ]
  },
  {
   "cell_type": "markdown",
   "id": "50e7b56a",
   "metadata": {},
   "source": [
    "One hot encoding, also known as nominal encoding, is a technique used to represent categorical data as numerical data, which is more suitable for machine learning algorithms. In this technique, each category is represented as a binary vector where each bit corresponds to a unique category. For example, if we have a categorical variable \"color\" with three possible values (red, green, blue), we can represent it using one hot encoding as follows:\n",
    "\n",
    "    Red: [1, 0, 0]\n",
    "    Green: [0, 1, 0]\n",
    "    Blue: [0, 0, 1]\n"
   ]
  },
  {
   "cell_type": "markdown",
   "id": "acdded7b",
   "metadata": {},
   "source": [
    "###### Q4. Suppose you have a dataset containing categorical data with 5 unique values. Which encoding technique would you use to transform this data into a format suitable for machine learning algorithms? Explain why you made this choice."
   ]
  },
  {
   "cell_type": "markdown",
   "id": "bbaa4d20",
   "metadata": {},
   "source": [
    "If we use OneHot encoding on the column data it'll create 5 more new columns. As the new number of columns is less and managable we can use One Hot Encoding!"
   ]
  },
  {
   "cell_type": "markdown",
   "id": "fcccda5b",
   "metadata": {},
   "source": [
    "###### Q5. In a machine learning project, you have a dataset with 1000 rows and 5 columns. Two of the columns are categorical, and the remaining three columns are numerical. If you were to use nominal encoding to transform the categorical data, how many new columns would be created? Show your calculations."
   ]
  },
  {
   "cell_type": "markdown",
   "id": "8dc0bffa",
   "metadata": {},
   "source": [
    "Depends on the data. If we use normal lebel encoding on both of them It'll create 2 new column for storing the label data. If we are to use Onehot encoding we'll create column depending on the number of unique data in the columns. In that scenario it'll be (number of unique value in 1st col + number of unique value in 2nd col) new column will be created."
   ]
  },
  {
   "cell_type": "markdown",
   "id": "102eba58",
   "metadata": {},
   "source": [
    "###### Q6. You are working with a dataset containing information about different types of animals, including their species, habitat, and diet. Which encoding technique would you use to transform the categorical data into a format suitable for machine learning algorithms? Justify your answer."
   ]
  },
  {
   "cell_type": "markdown",
   "id": "9ac6c122",
   "metadata": {},
   "source": [
    "For Animal and Species as the number of unique animal and species count can be more than 5 we have to use label encoder in this case to not to create unnecessary columns.\n",
    "\n",
    "For Habitat It will be either land or water so in this case we use One Hot Encoding.\n",
    "\n",
    "For diet it will be either veg(Herbivorous) or non-veg(Carnivorous), so in this case alse we use One Hot Encoding."
   ]
  },
  {
   "cell_type": "markdown",
   "id": "77795636",
   "metadata": {},
   "source": [
    "###### Q7.You are working on a project that involves predicting customer churn for a telecommunications company. You have a dataset with 5 features, including the customer's gender, age, contract type, monthly charges, and tenure. Which encoding technique(s) would you use to transform the categorical data into numerical data? Provide a step-by-step explanation of how you would implement the encoding."
   ]
  },
  {
   "cell_type": "markdown",
   "id": "a8227316",
   "metadata": {},
   "source": [
    "Gender - OneHot Encoding. As it is either male or Female\n",
    "<br>Age - Already a numerical data\n",
    "<br>Contract Type - As it is either longTerm or Short Term we can use OneHot Encoding.\n",
    "<br>Charge and Tenure are nnumerical data."
   ]
  },
  {
   "cell_type": "code",
   "execution_count": null,
   "id": "3353f231",
   "metadata": {},
   "outputs": [],
   "source": []
  }
 ],
 "metadata": {
  "kernelspec": {
   "display_name": "Python 3 (ipykernel)",
   "language": "python",
   "name": "python3"
  },
  "language_info": {
   "codemirror_mode": {
    "name": "ipython",
    "version": 3
   },
   "file_extension": ".py",
   "mimetype": "text/x-python",
   "name": "python",
   "nbconvert_exporter": "python",
   "pygments_lexer": "ipython3",
   "version": "3.8.18"
  }
 },
 "nbformat": 4,
 "nbformat_minor": 5
}
