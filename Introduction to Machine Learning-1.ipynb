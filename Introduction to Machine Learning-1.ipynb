{
 "cells": [
  {
   "cell_type": "markdown",
   "id": "4b6718f1",
   "metadata": {},
   "source": [
    "###### Q1. Explain the following with an example:\n",
    "    1. Artificial Intelligence\n",
    "    2. Machine Learning\n",
    "    3. Deep Learning"
   ]
  },
  {
   "cell_type": "markdown",
   "id": "89954c4e",
   "metadata": {},
   "source": [
    "1. Artificial Intelligence\n",
    "\n",
    "Artificial intelligence (AI) is the simulation of human intelligence in machines that are programmed to think and act like humans. Learning, reasoning, problem-solving, perception, and language comprehension are all examples of cognitive abilities.\n",
    "\n",
    "Artificial Intelligence is a method of making a computer, a computer-controlled robot, or a software think intelligently like the human mind. AI is accomplished by studying the patterns of the human brain and by analyzing the cognitive process. The outcome of these studies develops intelligent software and systems.\n",
    "\n",
    "Example:- Self Driving Car, Robot Playing Chess"
   ]
  },
  {
   "cell_type": "markdown",
   "id": "ea0a3798",
   "metadata": {},
   "source": [
    "2. Machine Learning\n",
    "\n",
    "Machine learning is a subfield of artificial intelligence (AI) that uses algorithms trained on data sets to create self-learning models that are capable of predicting outcomes and classifying information without human intervention. Machine learning is used today for a wide range of commercial purposes, including suggesting products to consumers based on their past purchases, predicting stock market fluctuations, and translating text from one language to another. "
   ]
  },
  {
   "cell_type": "markdown",
   "id": "3229df24",
   "metadata": {},
   "source": [
    "3. Deep Learning\n",
    "\n",
    "Deep learning is a machine learning technique that teaches computers to do what comes naturally to humans: learn by example. Deep learning is a key technology behind driverless cars, enabling them to recognize a stop sign, or to distinguish a pedestrian from a lamppost. It is the key to voice control in consumer devices like phones, tablets, TVs, and hands-free speakers. Deep learning is getting lots of attention lately and for good reason. It’s achieving results that were not possible before."
   ]
  },
  {
   "cell_type": "markdown",
   "id": "1c8ff617",
   "metadata": {},
   "source": [
    "###### Q2. What is supervised learning? List some examples of supervised learning."
   ]
  },
  {
   "cell_type": "markdown",
   "id": "ec398f86",
   "metadata": {},
   "source": [
    "Supervised learning, also known as supervised machine learning, is a subcategory of machine learning and artificial intelligence. It is defined by its use of labeled datasets to train algorithms that to classify data or predict outcomes accurately. As input data is fed into the model, it adjusts its weights until the model has been fitted appropriately, which occurs as part of the cross validation process. \n",
    "\n",
    "Supervised learning helps organizations solve for a variety of real-world problems at scale, such as classifying spam in a separate folder from your inbox, prediction of housing price or stock market."
   ]
  },
  {
   "cell_type": "markdown",
   "id": "9b434aa3",
   "metadata": {},
   "source": [
    "###### Q3. What is unsupervised learning? List some examples of unsupervised learning."
   ]
  },
  {
   "cell_type": "markdown",
   "id": "37b80bcc",
   "metadata": {},
   "source": [
    "Unsupervised learning, also known as unsupervised machine learning, uses machine learning algorithms to analyze and cluster unlabeled datasets. These algorithms discover hidden patterns or data groupings without the need for human intervention.\n",
    "\n",
    "Its ability to discover similarities and differences in information make it the ideal solution for exploratory data analysis, cross-selling strategies, customer segmentation, and image recognition."
   ]
  },
  {
   "cell_type": "markdown",
   "id": "73e311c7",
   "metadata": {},
   "source": [
    "###### Q4. What is the difference between AI, ML, DL, and DS?"
   ]
  },
  {
   "cell_type": "markdown",
   "id": "a4c09944",
   "metadata": {},
   "source": [
    "AI - Smart Application that can perform its own task without any human intervention.\n",
    "\n",
    "ML - It provides statistical tools to learn, analyze, visualize and develop predicting model from data.\n",
    "\n",
    "DL - It mimic human brain with multi layered neural network having inpur , output and intermediate layers.\n",
    "\n",
    "DS - Data science is a broad field of study about data systems and processes aimed at maintaining data sets and deriving meaning from them.  So all the above mentioned fields comes under the radius of DS."
   ]
  },
  {
   "cell_type": "markdown",
   "id": "20278937",
   "metadata": {},
   "source": [
    "###### Q5. What are the main differences between supervised, unsupervised, and semi-supervised learning?"
   ]
  },
  {
   "cell_type": "markdown",
   "id": "7f45afca",
   "metadata": {},
   "source": [
    "Supervised learning is a problem with labeled data, expecting to develop predictive capability. \n",
    "<br>Unsupervised learning is discovering process, diving into unlabeled data to capture hidden information. \n",
    "<br>Semi-supervised learning is a blend of supervised and unsupervised learning."
   ]
  },
  {
   "cell_type": "markdown",
   "id": "b85f06e3",
   "metadata": {},
   "source": [
    "###### Q6. What is train, test and validation split? Explain the importance of each term."
   ]
  },
  {
   "cell_type": "markdown",
   "id": "b6efffbc",
   "metadata": {},
   "source": [
    "Train Dataset : Set of data used for learning (by the model), that is, to fit the parameters to the machine learning model. It is used to create the model for predictions. \n",
    "<br>Valid Dataset : Set of data used to provide an unbiased evaluation of a model fitted on the training dataset while tuning model hyperparameters.Also play a role in other forms of model preparation, such as feature selection, threshold cut-off selection.\n",
    "<br>Test Dataset : Set of data used to provide an unbiased evaluation of a final model fitted on training dataset. It is used for testing the model."
   ]
  },
  {
   "cell_type": "markdown",
   "id": "32510ab4",
   "metadata": {},
   "source": [
    "###### Q7. How can unsupervised learning be used in anomaly detection?"
   ]
  },
  {
   "cell_type": "markdown",
   "id": "ab591071",
   "metadata": {},
   "source": [
    "Anomaly detection techniques of unsupervised nature assume that normal data points occur considerably more frequently than anomalous data points. This assumption is used to classify data points that occur less frequently as anomalies. Unsupervised techniques assign each data point a score instead of a label."
   ]
  },
  {
   "cell_type": "markdown",
   "id": "d7fff100",
   "metadata": {},
   "source": [
    "###### Q8. List down some commonly used supervised learning algorithms and unsupervised learning algorithms."
   ]
  },
  {
   "cell_type": "markdown",
   "id": "b6332540",
   "metadata": {},
   "source": [
    "supervised learning algorithms\n",
    "\n",
    "    1. Support Vector Machine\n",
    "    2. Linear Regression\n",
    "    3. Random Forest\n",
    "    4. Logistic Regression \n",
    "    5. Gradient Boosting\n",
    "   \n",
    "unsupervised learning algorithms\n",
    "\n",
    "    1. K-means clustering.\n",
    "    2. KNN (k-nearest neighbors)\n",
    "    3. Hierarchal clustering.\n",
    "    4. Anomaly detection.\n",
    "    5. Neural Networks.\n",
    "    6. Principle Component Analysis.\n",
    "    7. Independent Component Analysis.\n",
    "    8. Apriori algorithm."
   ]
  },
  {
   "cell_type": "code",
   "execution_count": null,
   "id": "0d4ba9e5",
   "metadata": {},
   "outputs": [],
   "source": []
  }
 ],
 "metadata": {
  "kernelspec": {
   "display_name": "Python 3 (ipykernel)",
   "language": "python",
   "name": "python3"
  },
  "language_info": {
   "codemirror_mode": {
    "name": "ipython",
    "version": 3
   },
   "file_extension": ".py",
   "mimetype": "text/x-python",
   "name": "python",
   "nbconvert_exporter": "python",
   "pygments_lexer": "ipython3",
   "version": "3.8.18"
  }
 },
 "nbformat": 4,
 "nbformat_minor": 5
}
