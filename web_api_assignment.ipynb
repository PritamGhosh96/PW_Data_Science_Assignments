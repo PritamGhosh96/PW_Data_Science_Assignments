{
 "cells": [
  {
   "cell_type": "markdown",
   "id": "3db481cb",
   "metadata": {},
   "source": [
    "###### Q1. What is an API? Give an example, where an API is used in real life."
   ]
  },
  {
   "cell_type": "markdown",
   "id": "5dee4ced",
   "metadata": {},
   "source": [
    "An application programming interface is in contrast with a User Interface. It is a way for two or more computer programs to communicate with each other. It is a type of software interface, offering a service to other pieces of software"
   ]
  },
  {
   "cell_type": "markdown",
   "id": "69ca33d9",
   "metadata": {},
   "source": [
    "Google Search is an example of API where google pass the query of an user from its client to its server and send the results back to the client. This Client-Server architecture uses API to communicate in between them."
   ]
  },
  {
   "cell_type": "markdown",
   "id": "32bbb408",
   "metadata": {},
   "source": [
    "###### Q2. Give advantages and disadvantages of using API."
   ]
  },
  {
   "cell_type": "markdown",
   "id": "8ee50697",
   "metadata": {},
   "source": [
    "The major benefit of using an API is accessing and consuming data and services from thousands of independent sources. This means organizations of all sizes can access these functionalities without developing their own specialized applications."
   ]
  },
  {
   "cell_type": "markdown",
   "id": "1687e5b1",
   "metadata": {},
   "source": [
    "However, they also come with some drawbacks, such as security concerns, complexity, compatibility issues, dependency on third-party developers, and governance and management issues."
   ]
  },
  {
   "cell_type": "markdown",
   "id": "ce459791",
   "metadata": {},
   "source": [
    "###### Q3. What is a Web API? Differentiate between API and Web API."
   ]
  },
  {
   "cell_type": "markdown",
   "id": "b90318b2",
   "metadata": {},
   "source": [
    "Web API is a framework that helps to create and develop HTTP based RESTFUL services. It can be accessed over the web using the HTTP protocol."
   ]
  },
  {
   "cell_type": "markdown",
   "id": "558299d0",
   "metadata": {},
   "source": [
    "Web services require SOAP and XML to transfer data over a network, while APIs can use any protocols or design patterns.\n",
    "    \n",
    "APIs allow applications to communicate, while web services allow machines to communicate.\n",
    "    \n",
    "Web Services requires a network connection while APIs may or may not require a network for their operability.\n",
    "    \n",
    "Web services require SOAP and XML, which are no longer the most popular standard.\n",
    "    \n",
    "APIs are more efficient, with RESTful web services offering a more light-weight architecture web services are heavy.\n",
    "    \n",
    "Web services only support HTTP as a backbone, while APIs are more flexible. "
   ]
  },
  {
   "cell_type": "markdown",
   "id": "4d6b2fc4",
   "metadata": {},
   "source": [
    "###### Q4. Explain REST and SOAP Architecture. Mention shortcomings of SOAP."
   ]
  },
  {
   "cell_type": "markdown",
   "id": "5c7bf5e9",
   "metadata": {},
   "source": [
    "SOAP Architecture - \n",
    "1. Relies on SOAP (Simple Object Access Protocol).\n",
    "2. Transports data in standard XML format.\n",
    "3. Because it is XML based and relies on SOAP, it works with WSDL\n",
    "4. Works over HTTP, HTTPS, SMTP, XMPP\n",
    "5. Highly structured/typed\n",
    "6. Designed with large enterprise applications in mind\n"
   ]
  },
  {
   "cell_type": "markdown",
   "id": "3ffbc0d4",
   "metadata": {},
   "source": [
    "REST Architecture - \n",
    "1. Relies on REST (Representational State Transfer) architecture using HTTP.\n",
    "2. Generally transports data in JSON. It is based on URI. Because REST follows stateless model, REST does not enforces message format as XML or JSON etc.\n",
    "3. It works with GET, POST, PUT, DELETE\n",
    "4. Works over HTTP and HTTPS\n",
    "5. Less structured -> less bulky data\n",
    "6. Designed with mobile devices in mind"
   ]
  },
  {
   "cell_type": "markdown",
   "id": "a49b1294",
   "metadata": {},
   "source": [
    "The following are the disadvantages of SOAP.\n",
    "\n",
    "1. Slow : SOAP uses the XML format which needs to be parsed and is lengthier too which makes SOAP slower than Rest. It lags in the fields of flexibility, scalability, and Simplicity.\n",
    "2. WSDL Dependence : It depends on WSDL and does not have any standardized mechanism for dynamic discovery of the services."
   ]
  },
  {
   "cell_type": "markdown",
   "id": "7bd8ac5f",
   "metadata": {},
   "source": [
    "###### Q5. Differentiate between REST and SOAP."
   ]
  },
  {
   "cell_type": "markdown",
   "id": "4312ef2e",
   "metadata": {},
   "source": [
    "Point wise given in Q4's SOAP and Rest architecture part"
   ]
  },
  {
   "cell_type": "code",
   "execution_count": null,
   "id": "81132294",
   "metadata": {},
   "outputs": [],
   "source": []
  }
 ],
 "metadata": {
  "kernelspec": {
   "display_name": "Python 3 (ipykernel)",
   "language": "python",
   "name": "python3"
  },
  "language_info": {
   "codemirror_mode": {
    "name": "ipython",
    "version": 3
   },
   "file_extension": ".py",
   "mimetype": "text/x-python",
   "name": "python",
   "nbconvert_exporter": "python",
   "pygments_lexer": "ipython3",
   "version": "3.8.18"
  }
 },
 "nbformat": 4,
 "nbformat_minor": 5
}
