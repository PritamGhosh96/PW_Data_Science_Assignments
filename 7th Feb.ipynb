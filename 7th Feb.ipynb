{
 "cells": [
  {
   "cell_type": "markdown",
   "id": "169dc5de",
   "metadata": {},
   "source": [
    "Q1. You are writing code for a company. The requirement of the company is that you create a python\n",
    "function that will check whether the password entered by the user is correct or not. The function should\n",
    "take the password as input and return the string “Valid Password” if the entered password follows the\n",
    "below-given password guidelines else it should return “Invalid Password”.\n",
    "Note: \n",
    "\n",
    "1. The Password should contain at least two uppercase letters and at least two lowercase letters.\n",
    "2. The Password should contain at least a number and three special characters.\n",
    "3. The length of the password should be 10 characters long."
   ]
  },
  {
   "cell_type": "code",
   "execution_count": 1,
   "id": "333fc049",
   "metadata": {},
   "outputs": [],
   "source": [
    "import string\n",
    "def password_checker(s:str) -> str:\n",
    "    special = string.punctuation\n",
    "    u,l,n,sp = 0,0,0,0\n",
    "    \n",
    "    for i in s:\n",
    "        if i in special:\n",
    "            sp+=1\n",
    "        if i.isnumeric():\n",
    "            n+=1\n",
    "        else:\n",
    "            if i.isupper():\n",
    "                u+=1\n",
    "            if i.islower():\n",
    "                l+=1\n",
    "        \n",
    "    if u>=2 and l >=2 and n>=1 and sp>=3 and len(s)==10:\n",
    "        return \"Valid Password\"\n",
    "    else: return \"Invalid Password\"\n",
    "    "
   ]
  },
  {
   "cell_type": "code",
   "execution_count": 2,
   "id": "f1bcbdc5",
   "metadata": {},
   "outputs": [
    {
     "data": {
      "text/plain": [
       "'Valid Password'"
      ]
     },
     "execution_count": 2,
     "metadata": {},
     "output_type": "execute_result"
    }
   ],
   "source": [
    "password_checker(\"Kun*%A49$#\")"
   ]
  },
  {
   "cell_type": "markdown",
   "id": "8749c320",
   "metadata": {},
   "source": [
    "Q2. Solve the below-given questions using at least one of the following:\n",
    "\n",
    "1. Lambda function\n",
    "\n",
    "2. Filter function\n",
    "\n",
    "3. Map function\n",
    "\n",
    "4. List Comprehension\n",
    " \n",
    " Check if the string starts with a particular letter.\n",
    " \n",
    " Check if the string is numeric.\n",
    " \n",
    " Sort a list of tuples having fruit names and their quantity. [(\"mango\",99),(\"orange\",80), (\"grapes\", 1000)]\n",
    " \n",
    " Find the squares of numbers from 1 to 10.\n",
    " \n",
    " Find the cube root of numbers from 1 to 10.\n",
    " \n",
    " Check if a given number is even.\n",
    " \n",
    " Filter odd numbers from the given list.\n",
    "\n",
    " [1,2,3,4,5,6,7,8,9,10]\n",
    "\n",
    " Sort a list of integers into positive and negative integers lists.\n",
    "\n",
    " [1,2,3,4,5,6,-1,-2,-3,-4,-5,0]"
   ]
  },
  {
   "cell_type": "code",
   "execution_count": 3,
   "id": "a4883603",
   "metadata": {},
   "outputs": [
    {
     "name": "stdout",
     "output_type": "stream",
     "text": [
      "True\n"
     ]
    }
   ],
   "source": [
    "def checkStart(s:str,char:str) -> bool:\n",
    "    return s[0] == char[0]\n",
    "\n",
    "print(checkStart(\"Pritam\",\"P\"))"
   ]
  },
  {
   "cell_type": "code",
   "execution_count": 4,
   "id": "7c0af94f",
   "metadata": {},
   "outputs": [
    {
     "name": "stdout",
     "output_type": "stream",
     "text": [
      "True\n"
     ]
    }
   ],
   "source": [
    "def checkNum(s:str) -> bool:\n",
    "    for i in s:\n",
    "        if not i.isnumeric():\n",
    "            return False\n",
    "    return True\n",
    "\n",
    "print(checkNum('2176'))"
   ]
  },
  {
   "cell_type": "code",
   "execution_count": 5,
   "id": "ddbceea6",
   "metadata": {},
   "outputs": [
    {
     "data": {
      "text/plain": [
       "[('orange', 80), ('mango', 99), ('grapes', 1000)]"
      ]
     },
     "execution_count": 5,
     "metadata": {},
     "output_type": "execute_result"
    }
   ],
   "source": [
    "sorted([(\"mango\",99),(\"orange\",80), (\"grapes\", 1000)],key = lambda x:x[1])"
   ]
  },
  {
   "cell_type": "code",
   "execution_count": 6,
   "id": "a1773e59",
   "metadata": {},
   "outputs": [
    {
     "data": {
      "text/plain": [
       "[1, 4, 9, 16, 25, 36, 49, 64, 81, 100]"
      ]
     },
     "execution_count": 6,
     "metadata": {},
     "output_type": "execute_result"
    }
   ],
   "source": [
    "list(map(lambda x: x**2,[i for i in range(1,11)]))"
   ]
  },
  {
   "cell_type": "code",
   "execution_count": 7,
   "id": "003103b8",
   "metadata": {},
   "outputs": [
    {
     "data": {
      "text/plain": [
       "[1.0,\n",
       " 1.2599210498948732,\n",
       " 1.4422495703074083,\n",
       " 1.5874010519681994,\n",
       " 1.7099759466766968,\n",
       " 1.8171205928321397,\n",
       " 1.912931182772389,\n",
       " 2.0,\n",
       " 2.080083823051904,\n",
       " 2.154434690031884]"
      ]
     },
     "execution_count": 7,
     "metadata": {},
     "output_type": "execute_result"
    }
   ],
   "source": [
    "list(map(lambda x: x**(1/3),[i for i in range(1,11)]))"
   ]
  },
  {
   "cell_type": "code",
   "execution_count": 8,
   "id": "52fd063e",
   "metadata": {},
   "outputs": [
    {
     "name": "stdout",
     "output_type": "stream",
     "text": [
      "False\n"
     ]
    }
   ],
   "source": [
    "a = lambda x: x%2 == 0\n",
    "\n",
    "print(a(3))"
   ]
  },
  {
   "cell_type": "code",
   "execution_count": 9,
   "id": "6f24140a",
   "metadata": {},
   "outputs": [
    {
     "data": {
      "text/plain": [
       "[1, 3, 5, 7, 9]"
      ]
     },
     "execution_count": 9,
     "metadata": {},
     "output_type": "execute_result"
    }
   ],
   "source": [
    "list(filter(lambda x: x%2 == 1, [i for i in range(1,10)]))"
   ]
  },
  {
   "cell_type": "code",
   "execution_count": 10,
   "id": "18faae61",
   "metadata": {},
   "outputs": [
    {
     "name": "stdout",
     "output_type": "stream",
     "text": [
      "[-5, -4, -3, -2, -1, 0, 1, 2, 3, 4, 5, 6]\n",
      "([0, 1, 2, 3, 4, 5, 6], [-5, -4, -3, -2, -1])\n"
     ]
    }
   ],
   "source": [
    "def sortPN(l:list):\n",
    "    l.sort()\n",
    "    print(l)\n",
    "    p,n = [],[]\n",
    "    for i in l:\n",
    "        if i<0:\n",
    "            n.append(i)\n",
    "        else: p.append(i)\n",
    "    return p,n\n",
    "\n",
    "l = [1,2,3,4,5,6,-1,-2,-3,-4,-5,0]\n",
    "print(sortPN(l))"
   ]
  }
 ],
 "metadata": {
  "kernelspec": {
   "display_name": "Python 3",
   "language": "python",
   "name": "python3"
  },
  "language_info": {
   "codemirror_mode": {
    "name": "ipython",
    "version": 3
   },
   "file_extension": ".py",
   "mimetype": "text/x-python",
   "name": "python",
   "nbconvert_exporter": "python",
   "pygments_lexer": "ipython3",
   "version": "3.8.8"
  }
 },
 "nbformat": 4,
 "nbformat_minor": 5
}
