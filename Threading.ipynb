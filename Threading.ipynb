{
 "cells": [
  {
   "cell_type": "markdown",
   "id": "731a4019",
   "metadata": {},
   "source": [
    "1. what is multithreading in python? why is it used? Name the module used to handle threads in python"
   ]
  },
  {
   "cell_type": "markdown",
   "id": "46f73ea2",
   "metadata": {},
   "source": [
    "Multithreading is defined as the ability of a processor to execute multiple threads concurrently"
   ]
  },
  {
   "cell_type": "markdown",
   "id": "7a4b40cc",
   "metadata": {},
   "source": [
    "Python threading allows you to have different parts of your program run concurrently and can simplify your design"
   ]
  },
  {
   "cell_type": "markdown",
   "id": "f7a0f18e",
   "metadata": {},
   "source": [
    "threading is the module used to handle threads in python"
   ]
  },
  {
   "cell_type": "markdown",
   "id": "a6ff13c8",
   "metadata": {},
   "source": [
    "2. why threading module used? Write the use of the following functions\n",
    " \n",
    " activeCount()\n",
    " \n",
    " currentThread()\n",
    " \n",
    " enumerate()"
   ]
  },
  {
   "cell_type": "markdown",
   "id": "9671b3a4",
   "metadata": {},
   "source": [
    "threading is the module used to handle threads in python\n"
   ]
  },
  {
   "cell_type": "markdown",
   "id": "a5c907ab",
   "metadata": {},
   "source": [
    "activeCount() -  is used to count the currently active or running threads."
   ]
  },
  {
   "cell_type": "markdown",
   "id": "4cb0eeec",
   "metadata": {},
   "source": [
    "currentThread() - an inbuilt method of the threading module, it is used to return the current Thread object, which corresponds to the caller's thread of control."
   ]
  },
  {
   "cell_type": "markdown",
   "id": "e780f3ad",
   "metadata": {},
   "source": [
    "enumerate() - converts a data collection object into an enumerate object"
   ]
  },
  {
   "cell_type": "markdown",
   "id": "c2ad8d69",
   "metadata": {},
   "source": [
    "3. Explain the following functions\n",
    "\n",
    "run()\n",
    "start()\n",
    "join()\n",
    "isAlive()"
   ]
  },
  {
   "cell_type": "markdown",
   "id": "6f71a883",
   "metadata": {},
   "source": [
    "run() - executes any target function belonging to a given thread object that is now active"
   ]
  },
  {
   "cell_type": "markdown",
   "id": "4cec476e",
   "metadata": {},
   "source": [
    "start() - an inbuilt method of the Thread class of the threading module, it is used to start a thread's activity."
   ]
  },
  {
   "cell_type": "markdown",
   "id": "b710bebb",
   "metadata": {},
   "source": [
    "join() - takes all items in an iterable and joins them into one string. A string must be specified as the separator"
   ]
  },
  {
   "cell_type": "markdown",
   "id": "c3885a46",
   "metadata": {},
   "source": [
    "isAlive() - an inbuilt method of the Thread class of the threading module, it is used to check whether that thread is alive or not, ie, it is still running or not"
   ]
  },
  {
   "cell_type": "markdown",
   "id": "3fd38a22",
   "metadata": {},
   "source": [
    "4. Write a python program to create two threads. Thread one must print the list of squares and thread\n",
    "two must print the list of cubes"
   ]
  },
  {
   "cell_type": "code",
   "execution_count": 1,
   "id": "301ca30c",
   "metadata": {},
   "outputs": [
    {
     "name": "stdout",
     "output_type": "stream",
     "text": [
      "1\n",
      "1\n",
      "84\n",
      "\n",
      "9\n",
      "27\n",
      "16\n",
      "64\n",
      "25\n",
      "125\n",
      "36\n",
      "216\n",
      "49\n",
      "343\n",
      "64\n",
      "512\n",
      "81\n",
      "729\n",
      "100\n",
      "1000\n"
     ]
    }
   ],
   "source": [
    "import threading\n",
    "import time\n",
    "\n",
    "def Square(l:list):\n",
    "    for i in l:\n",
    "        print(i**2)\n",
    "        time.sleep(1)\n",
    "\n",
    "def Cube(l:list):\n",
    "    for i in l:\n",
    "        print(i**3)\n",
    "        time.sleep(1)\n",
    "            \n",
    "l = [1,2,3,4,5,6,7,8,9,10]\n",
    "\n",
    "square_thread = threading.Thread(target= Square, args=(l,))\n",
    "cube_thread = threading.Thread(target= Cube, args=(l,))\n",
    "\n",
    "square_thread.start()\n",
    "cube_thread.start()\n",
    "\n",
    "# for (st , ct) in zip(square_thread, cube_thread):\n",
    "#     square_thread.start()\n",
    "#     cube_thread.start()"
   ]
  },
  {
   "cell_type": "markdown",
   "id": "22dd6a5f",
   "metadata": {},
   "source": [
    "5. State advantages and disadvantages of multithreading"
   ]
  },
  {
   "cell_type": "markdown",
   "id": "3f4b0e60",
   "metadata": {},
   "source": [
    " advantages of multithreading:\n",
    "\n",
    "    Enhanced performance by decreased development time\n",
    "    \n",
    "    Simplified and streamlined program coding\n",
    "    \n",
    "    Improvised GUI responsiveness\n",
    "    \n",
    "    Simultaneous and parallelized occurrence of tasks\n",
    "    \n",
    "    Better use of cache storage by utilization of resources\n",
    "    \n",
    "    Decreased cost of maintenance\n",
    "    \n",
    "    Better use of CPU resource\n"
   ]
  },
  {
   "cell_type": "markdown",
   "id": "5e2bfd1c",
   "metadata": {},
   "source": [
    "dis-advantages of multithreading:\n",
    "    \n",
    "    Complex debugging and testing processes\n",
    "    \n",
    "    Overhead switching of context\n",
    "    \n",
    "    Increased potential for deadlock occurrence\n",
    "    \n",
    "    Increased difficulty level in writing a program\n",
    "    \n",
    "    Unpredictable results\n"
   ]
  },
  {
   "cell_type": "markdown",
   "id": "422b8fba",
   "metadata": {},
   "source": [
    "6. Explain deadlocks and race conditions."
   ]
  },
  {
   "cell_type": "markdown",
   "id": "3849f105",
   "metadata": {},
   "source": [
    "When two processes are competing with each other causing data corruption.\n",
    "\n",
    "For example, if two processes/threads are trying to execute the following conditions simultaneously, they cause data corruption:\n",
    "\n",
    "Thread 1:\n",
    "total = num1 + num2\n",
    "\n",
    "Thread 2:\n",
    "total = num1 - num2"
   ]
  },
  {
   "cell_type": "code",
   "execution_count": null,
   "id": "312feb85",
   "metadata": {},
   "outputs": [],
   "source": [
    "When two processes are waiting for each other directly or indirectly, it is called deadlock.\n"
   ]
  }
 ],
 "metadata": {
  "kernelspec": {
   "display_name": "Python 3",
   "language": "python",
   "name": "python3"
  },
  "language_info": {
   "codemirror_mode": {
    "name": "ipython",
    "version": 3
   },
   "file_extension": ".py",
   "mimetype": "text/x-python",
   "name": "python",
   "nbconvert_exporter": "python",
   "pygments_lexer": "ipython3",
   "version": "3.8.8"
  }
 },
 "nbformat": 4,
 "nbformat_minor": 5
}
