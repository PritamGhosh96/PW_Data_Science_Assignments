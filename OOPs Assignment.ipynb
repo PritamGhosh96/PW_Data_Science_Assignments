{
 "cells": [
  {
   "cell_type": "markdown",
   "id": "1c617215",
   "metadata": {},
   "source": [
    "Q1. Explain Class and Object with respect to Object-Oriented Programming. Give a suitable example."
   ]
  },
  {
   "cell_type": "raw",
   "id": "ecafeabf",
   "metadata": {},
   "source": [
    "Class - class is a blueprint for an object.\n",
    "Object - Object is an instance of the class \n",
    "\n",
    "For Example, Car is a class but Sedan is an object of car"
   ]
  },
  {
   "cell_type": "code",
   "execution_count": 1,
   "id": "f9f15e70",
   "metadata": {},
   "outputs": [],
   "source": [
    "# class example\n",
    "class car:\n",
    "    def __init__(self, name, wheel, seats):\n",
    "            self.name = name\n",
    "            self.wheel = wheel\n",
    "            self.seats = seats\n",
    "    def details():\n",
    "        return self.name, self.wheel, self.seats"
   ]
  },
  {
   "cell_type": "code",
   "execution_count": 2,
   "id": "fec66cb6",
   "metadata": {},
   "outputs": [],
   "source": [
    "sedan = car(\"Sedan\",4,4) #Object Example"
   ]
  },
  {
   "cell_type": "markdown",
   "id": "8b442607",
   "metadata": {},
   "source": [
    "Q2. Name the four pillars of OOPs."
   ]
  },
  {
   "cell_type": "raw",
   "id": "356b2299",
   "metadata": {},
   "source": [
    "The four pillars of OOPs are abstraction, encapsulation, inheritance, and polymorphism."
   ]
  },
  {
   "cell_type": "markdown",
   "id": "2b6c1d3e",
   "metadata": {},
   "source": [
    "Q3. Explain why the __init__() function is used. Give a suitable example."
   ]
  },
  {
   "cell_type": "raw",
   "id": "0bec2609",
   "metadata": {},
   "source": [
    "init() is a constructor that lets the class initialize the object's attributes.\n",
    "\n",
    "For example, in the above Class car example the fun __init__() is used as an initiator. inside that function self.name, self.wheel and self.seats are class specific data which are getting initiated by name,wheel ans seats data"
   ]
  },
  {
   "cell_type": "markdown",
   "id": "8859418c",
   "metadata": {},
   "source": [
    "Q4. Why self is used in OOPs?"
   ]
  },
  {
   "cell_type": "raw",
   "id": "661c5645",
   "metadata": {},
   "source": [
    "Self is a pointer that represents the instance of the class. It allows to access variables, attributes, and methods of a defined class in Python."
   ]
  },
  {
   "cell_type": "markdown",
   "id": "49f5373d",
   "metadata": {},
   "source": [
    "Q5. What is inheritance? Give an example for each type of inheritance."
   ]
  },
  {
   "cell_type": "raw",
   "id": "5a607feb",
   "metadata": {},
   "source": [
    "Inheritance allows us to define a class that inherits all the methods and properties from another class.\n",
    "\n",
    "There are 5 types of inheritance in python. Types and Examples are given bellow."
   ]
  },
  {
   "cell_type": "raw",
   "id": "8d3086e2",
   "metadata": {},
   "source": [
    "1. Single inheritance: When child class is derived from only one parent class."
   ]
  },
  {
   "cell_type": "code",
   "execution_count": 3,
   "id": "f15e24f7",
   "metadata": {},
   "outputs": [],
   "source": [
    "class parent:\n",
    "    p1 = \"I\"\n",
    "    p2 = \"You\"\n",
    "    p3 = \"PWSkills\"\n",
    "    \n",
    "class child(parent):\n",
    "    c1 = \"am a student.\"\n",
    "    c2 = \"are an instructor\"\n",
    "    c3 = \"is the platform.\""
   ]
  },
  {
   "cell_type": "code",
   "execution_count": 4,
   "id": "0844de33",
   "metadata": {},
   "outputs": [
    {
     "name": "stdout",
     "output_type": "stream",
     "text": [
      "I am a student.\n",
      "You are an instructor\n",
      "PWSkills is the platform.\n"
     ]
    }
   ],
   "source": [
    "out = child()\n",
    "\n",
    "print(out.p1+\" \"+out.c1)\n",
    "print(out.p2+\" \"+out.c2)\n",
    "print(out.p3+\" \"+out.c3)"
   ]
  },
  {
   "cell_type": "raw",
   "id": "65beffcd",
   "metadata": {},
   "source": [
    "2. Multiple Inheritance: When child class is derived or inherited from more than one parent class."
   ]
  },
  {
   "cell_type": "code",
   "execution_count": 5,
   "id": "041c4f8d",
   "metadata": {},
   "outputs": [
    {
     "name": "stdout",
     "output_type": "stream",
     "text": [
      "object oriented programming\n"
     ]
    }
   ],
   "source": [
    "class p1:\n",
    "    v1 = \"object\"\n",
    "class p2:\n",
    "    v2 = \"oriented\"\n",
    "class c1(p1,p2):\n",
    "    v3 = \"programming\"\n",
    "ch = c1()\n",
    "print(ch.v1+\" \"+ch.v2+\" \"+ch.v3)"
   ]
  },
  {
   "cell_type": "raw",
   "id": "0573b11b",
   "metadata": {},
   "source": [
    "3.  Multilevel Inheritance: In multilevel inheritance, we have one parent class and child class that is derived or inherited from that parent class. \n",
    "    We have a grand-child class that is derived from the child class."
   ]
  },
  {
   "cell_type": "code",
   "execution_count": 6,
   "id": "5bb5ce33",
   "metadata": {},
   "outputs": [
    {
     "name": "stdout",
     "output_type": "stream",
     "text": [
      "object oriented programming\n"
     ]
    }
   ],
   "source": [
    "class p:\n",
    "    v1 = \"object\"\n",
    "class c(p):\n",
    "    v2 = \"oriented\"\n",
    "class gc(c):\n",
    "    v3 = \"programming\"\n",
    "ch = gc()\n",
    "print(ch.v1+\" \"+ch.v2+\" \"+ch.v3)"
   ]
  },
  {
   "cell_type": "raw",
   "id": "be0a7403",
   "metadata": {},
   "source": [
    "4. Hierarchical inheritance: When we derive or inherit more than one child class from one(same) parent class."
   ]
  },
  {
   "cell_type": "code",
   "execution_count": 7,
   "id": "fe1a8bc7",
   "metadata": {},
   "outputs": [
    {
     "name": "stdout",
     "output_type": "stream",
     "text": [
      "object oriented programming\n"
     ]
    }
   ],
   "source": [
    "class p:\n",
    "    v1 = \"object\"\n",
    "class c1(p):\n",
    "    v2 = \"oriented\"\n",
    "class c2(c):\n",
    "    v3 = \"programming\"\n",
    "ch1 = c1()\n",
    "ch2 = c2()\n",
    "print(ch1.v1+\" \"+ch1.v2+\" \"+ch2.v3)"
   ]
  },
  {
   "cell_type": "raw",
   "id": "e9389abb",
   "metadata": {},
   "source": [
    "5. Hybrid Inheritance; Hybrid Inheritance is the combinations of simple, multiple, multilevel and hierarchical inheritance. This type of inheritance is very helpful if we want to use concepts of inheritance without any limitations according to our requirements."
   ]
  },
  {
   "cell_type": "code",
   "execution_count": 8,
   "id": "c73e2ce6",
   "metadata": {},
   "outputs": [
    {
     "name": "stdout",
     "output_type": "stream",
     "text": [
      "object oriented programming\n"
     ]
    }
   ],
   "source": [
    "class p:\n",
    "    v1 = \"object\"\n",
    "class c1(p):\n",
    "    v2 = \"oriented\"\n",
    "class c2(c):\n",
    "    v3 = \"programming\"\n",
    "    \n",
    "class gc(c1,c2):\n",
    "    pass\n",
    "\n",
    "gch = gc()\n",
    "\n",
    "print(gch.v1+\" \"+gch.v2+\" \"+gch.v3)"
   ]
  },
  {
   "cell_type": "code",
   "execution_count": null,
   "id": "5fca7353",
   "metadata": {},
   "outputs": [],
   "source": []
  }
 ],
 "metadata": {
  "kernelspec": {
   "display_name": "Python 3",
   "language": "python",
   "name": "python3"
  },
  "language_info": {
   "codemirror_mode": {
    "name": "ipython",
    "version": 3
   },
   "file_extension": ".py",
   "mimetype": "text/x-python",
   "name": "python",
   "nbconvert_exporter": "python",
   "pygments_lexer": "ipython3",
   "version": "3.8.8"
  }
 },
 "nbformat": 4,
 "nbformat_minor": 5
}
