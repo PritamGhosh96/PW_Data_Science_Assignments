{
 "cells": [
  {
   "cell_type": "markdown",
   "id": "aeda940e",
   "metadata": {},
   "source": [
    "###### Q1. What is Elastic Net Regression and how does it differ from other regression techniques?"
   ]
  },
  {
   "cell_type": "markdown",
   "id": "ee47942f",
   "metadata": {},
   "source": [
    "Elastic net linear regression uses the penalties from both the lasso and ridge techniques to regularize regression models. The technique combines both the lasso and ridge regression methods by learning from their shortcomings to improve the regularization of statistical models."
   ]
  },
  {
   "cell_type": "markdown",
   "id": "d5d29b59",
   "metadata": {},
   "source": [
    "In Lasso, for penalty, we use absolute values of coefficients and in Ridge, for penalty, we use square values of coefficients. In Elastic Net we use both in penalty terms."
   ]
  },
  {
   "cell_type": "markdown",
   "id": "b16ae18d",
   "metadata": {},
   "source": [
    "###### Q2. How do you choose the optimal values of the regularization parameters for Elastic Net Regression?"
   ]
  },
  {
   "cell_type": "markdown",
   "id": "cf4ab6a8",
   "metadata": {},
   "source": [
    "Perform cross-validation and select the value of λ that minimizes the cross-validated sum of squared residuals."
   ]
  },
  {
   "cell_type": "markdown",
   "id": "6e53d36b",
   "metadata": {},
   "source": [
    "###### Q3. What are the advantages and disadvantages of Elastic Net Regression?"
   ]
  },
  {
   "cell_type": "markdown",
   "id": "1682962c",
   "metadata": {},
   "source": [
    "Advantages of ElasticNet Regression \n",
    "    \n",
    "    1. Feature Selection: Like Lasso, ElasticNet performs feature selection, making it easier to interpret the model.\n",
    "\n",
    "    2. Handling Multicollinearity: ElasticNet can handle multicollinearity between variables by grouping them, which can be very useful in certain datasets.\n",
    "\n",
    "    3. Bias-Variance Trade-off: ElasticNet manages the bias-variance trade-off by balancing between Ridge and Lasso regression.\n",
    "\n",
    "Disadvantages of ElasticNet Regression\n",
    "\n",
    "    1. Computationally Intensive: ElasticNet can be computationally expensive on large datasets due to the need to tune the model.\n",
    "\n",
    "    2. Selection of Parameters: The selection of tuning parameters (alpha and lambda) can be tricky, as there is no definitive way to choose these parameters."
   ]
  },
  {
   "cell_type": "markdown",
   "id": "92859e2d",
   "metadata": {},
   "source": [
    "###### Q4. What are some common use cases for Elastic Net Regression?"
   ]
  },
  {
   "cell_type": "markdown",
   "id": "4849b095",
   "metadata": {},
   "source": [
    "Elastic Net has real-world applications in fields such as finance, economics, genetics, and biomedical research. It is particularly useful when dealing with datasets that have a large number of correlated predictor variables. By simultaneously shrinking and selecting variables, Elastic Net helps to improve the accuracy and interpretability of predictive models."
   ]
  },
  {
   "cell_type": "markdown",
   "id": "08e48117",
   "metadata": {},
   "source": [
    "###### Q5. How do you interpret the coefficients in Elastic Net Regression?"
   ]
  },
  {
   "cell_type": "markdown",
   "id": "fee63035",
   "metadata": {},
   "source": [
    "The coefficients that are zero indicate that the corresponding features are not relevant for the model, and they are eliminated by the lasso penalty. Therefore, you can use the coefficients of elastic net regression to rank the features by their importance and select the ones that have non-zero coefficients."
   ]
  },
  {
   "cell_type": "markdown",
   "id": "f6042058",
   "metadata": {},
   "source": [
    "###### Q6. How do you handle missing values when using Elastic Net Regression?"
   ]
  },
  {
   "cell_type": "markdown",
   "id": "55974f34",
   "metadata": {},
   "source": [
    "Handling missing values may include:\n",
    "\n",
    "    1. It's the best to omit variables for which most observations are missing.\n",
    "    2. Omitting the rows/observations/cases with missing values. This strategy is referenced as listwise deletion or complete case analysis. This is a possibility, if the type of missingness is MCAR (Missing Completely At Random), and there are still large enough sample after the deletions.\n",
    "    3. Different imputation techniques: mean/median/mode substitution, regression inputation, expectation-maximization (EM), multiple inputation, etc."
   ]
  },
  {
   "cell_type": "markdown",
   "id": "1a9e4ae8",
   "metadata": {},
   "source": [
    "###### Q7. How do you use Elastic Net Regression for feature selection?"
   ]
  },
  {
   "cell_type": "markdown",
   "id": "70a6b253",
   "metadata": {},
   "source": [
    "We can run run the model and look at the coefficients of each variables and select features based on the absolute value of the coefficients. In this way we can reduce the feature which are not required to get the prediction value."
   ]
  },
  {
   "cell_type": "markdown",
   "id": "67e4f517",
   "metadata": {},
   "source": [
    "###### Q8. How do you pickle and unpickle a trained Elastic Net Regression model in Python?"
   ]
  },
  {
   "cell_type": "code",
   "execution_count": 1,
   "id": "8ee8b629",
   "metadata": {},
   "outputs": [],
   "source": [
    "import pickle\n",
    "\n",
    "# Save the model\n",
    "# pickle.dump(model_name, open('model.pkl', 'wb'))\n",
    "\n",
    "# Load the trained model\n",
    "# model = pickle.load(open('model.pkl', 'rb'))\n",
    "\n",
    "# Make a prediction\n",
    "# prediction = model.predict(X_new)"
   ]
  },
  {
   "cell_type": "markdown",
   "id": "ff139ecd",
   "metadata": {},
   "source": [
    "###### Q9. What is the purpose of pickling a model in machine learning?"
   ]
  },
  {
   "cell_type": "markdown",
   "id": "8b881948",
   "metadata": {},
   "source": [
    "In Python, the “pickle” module provides a way to serialize and deserialize Python objects, including trained machine learning models. By saving a trained model using the pickle module, you can reuse the model for making predictions on new data, without having to retrain the model from scratch."
   ]
  },
  {
   "cell_type": "code",
   "execution_count": null,
   "id": "9f060032",
   "metadata": {},
   "outputs": [],
   "source": []
  }
 ],
 "metadata": {
  "kernelspec": {
   "display_name": "Python 3 (ipykernel)",
   "language": "python",
   "name": "python3"
  },
  "language_info": {
   "codemirror_mode": {
    "name": "ipython",
    "version": 3
   },
   "file_extension": ".py",
   "mimetype": "text/x-python",
   "name": "python",
   "nbconvert_exporter": "python",
   "pygments_lexer": "ipython3",
   "version": "3.8.18"
  }
 },
 "nbformat": 4,
 "nbformat_minor": 5
}
