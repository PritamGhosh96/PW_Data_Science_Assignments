{
 "cells": [
  {
   "cell_type": "markdown",
   "id": "a7eca764",
   "metadata": {},
   "source": [
    "Q1. Which function is used to open a file? What are the different modes of opening a file? Explain each mode\n",
    "of file opening."
   ]
  },
  {
   "cell_type": "markdown",
   "id": "02799d55",
   "metadata": {},
   "source": [
    "A1. with open(filepath, openning mode) we can open a file."
   ]
  },
  {
   "cell_type": "markdown",
   "id": "b9bf03ee",
   "metadata": {},
   "source": [
    "'r'       open for reading (default)\n",
    "\n",
    "'w'       open for writing, truncating the file first\n",
    "\n",
    "'x'       create a new file and open it for writing\n",
    "\n",
    "'a'       open for writing, appending to the end of the file if it exists\n",
    "\n",
    "'b'       binary mode\n",
    "\n",
    "'t'       text mode (default)\n",
    "\n",
    "'+'       open a disk file for updating (reading and writing)\n",
    "\n",
    "'U'       universal newline mode (deprecated)\n"
   ]
  },
  {
   "cell_type": "markdown",
   "id": "ebd04dad",
   "metadata": {},
   "source": [
    "Q2. Why close() function is used? Why is it important to close a file?"
   ]
  },
  {
   "cell_type": "markdown",
   "id": "bd102b97",
   "metadata": {},
   "source": [
    "A2. The close() method closes an open file. \n",
    "We should always close the files, in some cases, due to buffering, changes made to a file may not show until we close the file."
   ]
  },
  {
   "cell_type": "markdown",
   "id": "8e429850",
   "metadata": {},
   "source": [
    "Q3. Write a python program to create a text file. Write ‘I want to become a Data Scientist’ in that file. Then\n",
    "close the file. Open this file and read the content of the file."
   ]
  },
  {
   "cell_type": "code",
   "execution_count": 1,
   "id": "22c7c372",
   "metadata": {},
   "outputs": [],
   "source": [
    "with open(\"data.txt\", \"w\") as f:\n",
    "    f.write(\"I want to become a Data Scientist.\\n\")\n",
    "    f.close()"
   ]
  },
  {
   "cell_type": "code",
   "execution_count": 2,
   "id": "107494e7",
   "metadata": {},
   "outputs": [
    {
     "name": "stdout",
     "output_type": "stream",
     "text": [
      "I want to become a Data Scientist.\n",
      "\n"
     ]
    }
   ],
   "source": [
    "with open(\"data.txt\", \"r\") as f:\n",
    "    data = f.read()\n",
    "    f.close()\n",
    "print(data)"
   ]
  },
  {
   "cell_type": "markdown",
   "id": "4ab6dbe3",
   "metadata": {},
   "source": [
    "Q4. Explain the following with python code: read(), readline() and readlines()."
   ]
  },
  {
   "cell_type": "markdown",
   "id": "d4e8767c",
   "metadata": {},
   "source": [
    "A4. The read() and readlines() methods are used to read data from a file in Python. \n",
    "The read() method reads the entire file into a string, while the readlines() method reads the file line by line into a list.\n",
    "The readline() method returns one line from the file."
   ]
  },
  {
   "cell_type": "code",
   "execution_count": 3,
   "id": "3848e287",
   "metadata": {},
   "outputs": [],
   "source": [
    "with open(\"text.txt\", \"w\") as f:\n",
    "    f.write(\"This is First line.\\n This is second Line. \\n This is third line.\")\n",
    "    f.close()"
   ]
  },
  {
   "cell_type": "code",
   "execution_count": 4,
   "id": "2748c263",
   "metadata": {},
   "outputs": [
    {
     "name": "stdout",
     "output_type": "stream",
     "text": [
      "This is First line.\n",
      " This is second Line. \n",
      " This is third line.\n"
     ]
    }
   ],
   "source": [
    "with open(\"text.txt\", \"r\") as f:\n",
    "    read = f.read()\n",
    "#     readline = f.readline()\n",
    "#     readlines = f.readlines()\n",
    "    f.close()\n",
    "print(read)"
   ]
  },
  {
   "cell_type": "code",
   "execution_count": 5,
   "id": "eec504ee",
   "metadata": {},
   "outputs": [
    {
     "name": "stdout",
     "output_type": "stream",
     "text": [
      "This is First line.\n",
      "\n"
     ]
    }
   ],
   "source": [
    "with open(\"text.txt\", \"r\") as f:\n",
    "#     read = f.read()\n",
    "    readline = f.readline()\n",
    "#     readlines = f.readlines()\n",
    "    f.close()\n",
    "print(readline)"
   ]
  },
  {
   "cell_type": "code",
   "execution_count": 6,
   "id": "ee952969",
   "metadata": {},
   "outputs": [
    {
     "name": "stdout",
     "output_type": "stream",
     "text": [
      "['This is First line.\\n', ' This is second Line. \\n', ' This is third line.']\n"
     ]
    }
   ],
   "source": [
    "with open(\"text.txt\", \"r\") as f:\n",
    "#     read = f.read()\n",
    "#     readline = f.readline()\n",
    "    readlines = f.readlines()\n",
    "    f.close()\n",
    "print(readlines)"
   ]
  },
  {
   "cell_type": "markdown",
   "id": "621b3a1b",
   "metadata": {},
   "source": [
    "Q5. Explain why with statement is used with open(). What is the advantage of using with statement and\n",
    "open() together?"
   ]
  },
  {
   "cell_type": "markdown",
   "id": "e27f2e45",
   "metadata": {},
   "source": [
    "A5. The with statement works with the open() function to open a file. Unlike open() where you have to close the file with the close() method, the with statement closes the file for you without you telling it to. Hence, combining the with statement and the open() function in Python helps us read and write to the file without being worried about closing it."
   ]
  },
  {
   "cell_type": "markdown",
   "id": "ccd1c552",
   "metadata": {},
   "source": [
    "Q6. Explain the write() and writelines() functions. Give a suitable example."
   ]
  },
  {
   "cell_type": "markdown",
   "id": "fd5dd97f",
   "metadata": {},
   "source": [
    "A6. The write() function will write the content in the file without adding any extra characters.\n",
    "\n",
    "writelines() function writes the content of a list to a file."
   ]
  },
  {
   "cell_type": "code",
   "execution_count": 7,
   "id": "b65e60f4",
   "metadata": {},
   "outputs": [
    {
     "name": "stdout",
     "output_type": "stream",
     "text": [
      "Enter the name of the employee: Pritam\n",
      "Enter the name of the employee: Krish\n",
      "Enter the name of the employee: Sudh\n",
      "Data is written into the file.\n",
      "Pritam\n",
      "Krish\n",
      "Sudh\n",
      "\n"
     ]
    }
   ],
   "source": [
    "lst = [] \n",
    "for i in range(3): \n",
    "    name = input(\"Enter the name of the employee: \") \n",
    "    lst.append(name + '\\n') \n",
    "with open(\"Employees.txt\", \"w\") as file: \n",
    "    file.writelines(lst) \n",
    "    file.close() \n",
    "print(\"Data is written into the file.\") \n",
    "\n",
    "with open(\"Employees.txt\", \"r\") as file:\n",
    "    data = file.read()\n",
    "print(data)"
   ]
  },
  {
   "cell_type": "code",
   "execution_count": 8,
   "id": "6123c9e7",
   "metadata": {},
   "outputs": [
    {
     "name": "stdout",
     "output_type": "stream",
     "text": [
      "Enter the name of the employee: Pritam\n",
      "Enter the name of the employee: Sudh\n",
      "Enter the name of the employee: Krish\n",
      "Data is written into the file.\n",
      "Pritam\n",
      "Sudh\n",
      "Krish\n",
      "\n"
     ]
    }
   ],
   "source": [
    "with open(\"Employees.txt\", \"w\") as file:\n",
    "    for i in range(3): \n",
    "        name = input(\"Enter the name of the employee: \") \n",
    "        file.write(name) \n",
    "        file.write(\"\\n\") \n",
    "    file.close() \n",
    "print(\"Data is written into the file.\") \n",
    "\n",
    "with open(\"Employees.txt\", \"r\") as file:\n",
    "    data = file.read()\n",
    "print(data)\n"
   ]
  },
  {
   "cell_type": "code",
   "execution_count": null,
   "id": "d848c281",
   "metadata": {},
   "outputs": [],
   "source": []
  }
 ],
 "metadata": {
  "kernelspec": {
   "display_name": "Python 3",
   "language": "python",
   "name": "python3"
  },
  "language_info": {
   "codemirror_mode": {
    "name": "ipython",
    "version": 3
   },
   "file_extension": ".py",
   "mimetype": "text/x-python",
   "name": "python",
   "nbconvert_exporter": "python",
   "pygments_lexer": "ipython3",
   "version": "3.8.8"
  }
 },
 "nbformat": 4,
 "nbformat_minor": 5
}
