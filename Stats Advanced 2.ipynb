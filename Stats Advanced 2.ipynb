{
 "cells": [
  {
   "cell_type": "markdown",
   "id": "a57ad64e",
   "metadata": {},
   "source": [
    "###### Q1: What are the Probability Mass Function (PMF) and Probability Density Function (PDF)? Explain with an example."
   ]
  },
  {
   "cell_type": "markdown",
   "id": "e6d6ffc3",
   "metadata": {},
   "source": [
    "Probability Mass Function (PMF) :- Let X be a discrete random variable with range RX={x1,x2,x3,...} (finite or countably infinite). The function\n",
    "<br>             PX(xk)=P(X=xk), for k=1,2,3,...,\n",
    "<br>is called the probability mass function (PMF) of X. "
   ]
  },
  {
   "cell_type": "markdown",
   "id": "9843623b",
   "metadata": {},
   "source": [
    "Probability Density Function (PDF) :- The Probability Density Function(PDF) defines the probability function representing the density of a continuous random variable lying between a specific range of values. In other words, the probability density function produces the likelihood of values of the continuous random variable."
   ]
  },
  {
   "cell_type": "markdown",
   "id": "2f823a17",
   "metadata": {},
   "source": [
    "###### Q2: What is Cumulative Density Function (CDF)? Explain with an example. Why CDF is used?"
   ]
  },
  {
   "cell_type": "markdown",
   "id": "c2d645f8",
   "metadata": {},
   "source": [
    "Cumulative Density Function (CDF) :- The cumulative distribution function (cdf) gives the probability that the random variable X is less than or equal to x and is usually denoted F(x) . The cumulative distribution function of a random variable X is the function given by F(x)=P[X≤x]."
   ]
  },
  {
   "cell_type": "markdown",
   "id": "ec6916ce",
   "metadata": {},
   "source": [
    "The Cumulative Distribution Function (CDF), of a real-valued random variable X, evaluated at x, is the probability function that X will take a value less than or equal to x. It is used to describe the probability distribution of random variables in a table. And with the help of these data, we can easily create a CDF plot in an excel sheet."
   ]
  },
  {
   "cell_type": "markdown",
   "id": "4a22be56",
   "metadata": {},
   "source": [
    "###### Q3: What are some examples of situations where the normal distribution might be used as a model? Explain how the parameters of the normal distribution relate to the shape of the distribution."
   ]
  },
  {
   "cell_type": "markdown",
   "id": "5d81a889",
   "metadata": {},
   "source": [
    "Examples :- \n",
    "\n",
    "    1. Height of a population.\n",
    "    2. Shoe size of population.\n",
    "    3. IQ of students in a school. etc."
   ]
  },
  {
   "cell_type": "markdown",
   "id": "e9d37a0f",
   "metadata": {},
   "source": [
    "The graph of the normal distribution is characterized by two parameters: the mean, or average, which is the maximum of the graph and about which the graph is always symmetric; and the standard deviation, which determines the amount of dispersion away from the mean.\n",
    "\n",
    "The empirical rule, or the 68-95-99.7 rule, tells where most of the values lie in a normal distribution: \n",
    "    <br>Around 68% of values are within 1 standard deviation of the mean.{mu(+-)std}\n",
    "    <br>Around 95% of values are within 2 standard deviations of the mean.{mu(+-)2std}\n",
    "    <br>Around 99.7% of values are within 3 standard deviations of the mean.{mu(+-)3std}"
   ]
  },
  {
   "cell_type": "markdown",
   "id": "835e2bf9",
   "metadata": {},
   "source": [
    "######    Q4: Explain the importance of Normal Distribution. Give a few real-life examples of NormalDistribution."
   ]
  },
  {
   "cell_type": "markdown",
   "id": "10bc1315",
   "metadata": {},
   "source": [
    "The normal distribution is an important probability distribution in math and statistics because many continuous data in nature and psychology display this bell-shaped curve when compiled and graphed."
   ]
  },
  {
   "cell_type": "markdown",
   "id": "e68d6f03",
   "metadata": {},
   "source": [
    "Examples :-\n",
    "\n",
    "1. Height of a population.\n",
    "2. Shoe size of population.\n",
    "3. IQ of students in a school. etc."
   ]
  },
  {
   "cell_type": "markdown",
   "id": "4224b6dc",
   "metadata": {},
   "source": [
    "###### Q5: What is Bernaulli Distribution? Give an Example. What is the difference between Bernoulli Distribution and Binomial Distribution?"
   ]
  },
  {
   "cell_type": "markdown",
   "id": "c67de765",
   "metadata": {},
   "source": [
    "A Bernoulli distribution is a discrete distribution with only two possible values for the random variable. The distribution has only two possible outcomes and a single trial which is called a Bernoulli trial. The two possible outcomes in Bernoulli distribution are labeled by n=0 and n=1 in which n=1 (success) occurs with probability p and n=0 (failure) occurs with probability 1-p, and since it is a probability value so 0<=p<=1."
   ]
  },
  {
   "cell_type": "markdown",
   "id": "86ecdb8b",
   "metadata": {},
   "source": [
    "Example - Can a student pass an exam, Tossing a coin(p= 0.5,q= 0.5), Getting 1 while rolling a dice(p = 1/6, q = 5/6)"
   ]
  },
  {
   "cell_type": "markdown",
   "id": "bd140f20",
   "metadata": {},
   "source": [
    "The Bernoulli distribution represents the success or failure of a single Bernoulli trial. The Binomial Distribution represents the number of successes and failures in n independent Bernoulli trials for some given value of n."
   ]
  },
  {
   "cell_type": "markdown",
   "id": "7eb23a7e",
   "metadata": {},
   "source": [
    "###### Q6. Consider a dataset with a mean of 50 and a standard deviation of 10. If we assume that the dataset is normally distributed, what is the probability that a randomly selected observation will be greater than 60? Use the appropriate formula and show your calculations."
   ]
  },
  {
   "cell_type": "markdown",
   "id": "c874f72d",
   "metadata": {},
   "source": [
    "Zscore = (val- mean)/std =(60-50)/10 = 1\n",
    "<br>from Zscore table we get the value of Zscore(1) = 0.8413\n",
    "<br>So The value to be greater than 60 or the area under the curve for value>60 is 1-0.8413 = 0.1587 = 15.87%"
   ]
  },
  {
   "cell_type": "markdown",
   "id": "dc1ed03d",
   "metadata": {},
   "source": [
    "###### Q7: Explain uniform Distribution with an example."
   ]
  },
  {
   "cell_type": "markdown",
   "id": "91bfcda4",
   "metadata": {},
   "source": [
    "A continuous probability distribution is a Uniform distribution and is related to the events which are equally likely to occur. It is defined by two parameters, x and y, where x = minimum value and y = maximum value. It is generally denoted by u(x, y).\n",
    "\n",
    "\n",
    "In statistics, uniform distribution refers to a type of probability distribution in which all outcomes are equally likely. A deck of cards has within it uniform distributions because the likelihood of drawing a heart, a club, a diamond, or a spade is equally likely."
   ]
  },
  {
   "cell_type": "markdown",
   "id": "b1eb61ec",
   "metadata": {},
   "source": [
    "###### Q8: What is the z score? State the importance of the z score."
   ]
  },
  {
   "cell_type": "markdown",
   "id": "c815c91f",
   "metadata": {},
   "source": [
    "Z-score is a statistical measurement that describes a value's relationship to the mean of a group of values. Z-score is measured in terms of standard deviations from the mean. If a Z-score is 0, it indicates that the data point's score is identical to the mean score. A Z-score of 1.0 would indicate a value that is one standard deviation from the mean. Z-scores may be positive or negative, with a positive value indicating the score is above the mean and a negative score indicating it is below the mean."
   ]
  },
  {
   "cell_type": "markdown",
   "id": "2dd95404",
   "metadata": {},
   "source": [
    "The z-score is a very useful statistic because it (a) allows us to calculate the probability of a score occurring within our normal distribution and (b) enables us to compare two scores that are from different normal distributions by standardizing them ."
   ]
  },
  {
   "cell_type": "markdown",
   "id": "fb70a5e9",
   "metadata": {},
   "source": [
    "###### Q9: What is Central Limit Theorem? State the significance of the Central Limit Theorem."
   ]
  },
  {
   "cell_type": "markdown",
   "id": "4ad8859e",
   "metadata": {},
   "source": [
    "The central limit theorem (CLT) states that the distribution of sample means approximates a normal distribution as the sample size gets larger, regardless of the population's distribution. Sample sizes equal to or greater than 30 are often considered sufficient for the CLT to hold."
   ]
  },
  {
   "cell_type": "markdown",
   "id": "9689a719",
   "metadata": {},
   "source": [
    "\n",
    "    Political/election polling is a great example of how we can use CLT. These polls are used to estimate the number of people who support a specific candidate. We may have seen these results with confidence intervals on news channels. The CLT aids in this calculation.\n",
    "    \n",
    "    We use the CLT in various census fields to calculate various population details, such as family income, electricity consumption, individual salaries, and so on.\n"
   ]
  },
  {
   "cell_type": "markdown",
   "id": "5509927f",
   "metadata": {},
   "source": [
    "###### Q10: State the assumptions of the Central Limit Theorem."
   ]
  },
  {
   "cell_type": "markdown",
   "id": "486a7e44",
   "metadata": {},
   "source": [
    "\n",
    "    The data must adhere to the randomization rule. It needs to be sampled at random.\n",
    "    \n",
    "    The samples should be unrelated to one another. One sample should not impact the others.\n",
    "    \n",
    "    When taking samples without replacement, the sample size should not exceed 10% of the population.\n"
   ]
  }
 ],
 "metadata": {
  "kernelspec": {
   "display_name": "Python 3 (ipykernel)",
   "language": "python",
   "name": "python3"
  },
  "language_info": {
   "codemirror_mode": {
    "name": "ipython",
    "version": 3
   },
   "file_extension": ".py",
   "mimetype": "text/x-python",
   "name": "python",
   "nbconvert_exporter": "python",
   "pygments_lexer": "ipython3",
   "version": "3.8.18"
  }
 },
 "nbformat": 4,
 "nbformat_minor": 5
}
