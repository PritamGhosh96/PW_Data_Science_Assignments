{
 "cells": [
  {
   "cell_type": "markdown",
   "id": "1a518cb2",
   "metadata": {},
   "source": [
    "Q1. Create a function which will take a list as an argument and return the product of all the numbers\n",
    "after creating a flat list.\n",
    "\n",
    "Use the below-given list as an argument for your function.\n",
    "\n",
    "list1 = [1,2,3,4, [44,55,66, True], False, (34,56,78,89,34), {1,2,3,3,2,1}, {1:34, \"key2\": [55, 67, 78, 89], 4: (45,\n",
    "22, 61, 34)}, [56, 'data science'], 'Machine Learning']\n",
    "\n",
    "Note: you must extract numeric keys and values of the dictionary also."
   ]
  },
  {
   "cell_type": "code",
   "execution_count": 1,
   "id": "ba639a31",
   "metadata": {},
   "outputs": [
    {
     "name": "stdout",
     "output_type": "stream",
     "text": [
      "[1, 2, 3, 4, 44, 55, 66, 34, 56, 78, 89, 34, 1, 2, 3, 1, 34, 55, 67, 78, 89, 4, 45, 22, 61, 34, 56]\n",
      "4134711838987085478833841242112000\n"
     ]
    }
   ],
   "source": [
    "from functools import reduce\n",
    "\n",
    "def extractList(l:list, nl:list):\n",
    "    for i in l:\n",
    "        if type(i) == int:\n",
    "            nl.append(i)\n",
    "            \n",
    "def extractSet(s:set, nl:list):\n",
    "    for i in s:\n",
    "        if type(i) == int:\n",
    "            nl.append(i)\n",
    "            \n",
    "def extractTuple(t:tuple, nl: list):\n",
    "    for i in t:\n",
    "        if type(i) == int:\n",
    "            nl.append(i)\n",
    "            \n",
    "def extractDict(d:dict, nl: list):\n",
    "    for key in d:\n",
    "        if type(key) == int:\n",
    "            nl.append(key)\n",
    "        if type(d[key]) == int:\n",
    "            nl.append(d[key])\n",
    "        elif type(d[key]) == list:\n",
    "            extractList(d[key],nl)\n",
    "        elif type(d[key]) == set:\n",
    "            extractSet(d[key],nl)\n",
    "        elif type(d[key]) == tuple:\n",
    "            extractTuple(d[key],nl)\n",
    "\n",
    "def mulNum(l:list):\n",
    "    nl = []\n",
    "    for i in l:\n",
    "        if type(i) == int:\n",
    "            nl.append(i)\n",
    "        elif type(i) == list:\n",
    "            extractList(i,nl)\n",
    "        elif type(i) == tuple:\n",
    "            extractTuple(i,nl)\n",
    "        elif type(i) == set:\n",
    "            extractSet(i,nl)\n",
    "        elif type(i) == dict:\n",
    "            extractDict(i,nl)\n",
    "    print(nl)    \n",
    "    return reduce(lambda x,y: x*y, nl)\n",
    "    \n",
    "list1 = [1,2,3,4, [44,55,66, True], False, (34,56,78,89,34), {1,2,3,3,2,1}, {1:34, \"key2\": [55, 67, 78, 89], 4: (45, 22, 61, 34)}, [56, 'data science'], 'Machine Learning']\n",
    "print(mulNum(list1))\n",
    "                "
   ]
  },
  {
   "cell_type": "markdown",
   "id": "9a529563",
   "metadata": {},
   "source": [
    "Q2. Write a python program for encrypting a message sent to you by your friend. The logic of encryption\n",
    "should be such that, for a the output should be z. For b, the output should be y. For c, the output should\n",
    "be x respectively. Also, the whitespace should be replaced with a dollar sign. Keep the punctuation\n",
    "marks unchanged.\n",
    "\n",
    "Input Sentence: I want to become a Data Scientist.\n",
    "\n",
    "Encrypt the above input sentence using the program you just created.\n",
    "\n",
    "Note: Convert the given input sentence into lowercase before encrypting. The final output should be\n",
    "lowercase."
   ]
  },
  {
   "cell_type": "code",
   "execution_count": 2,
   "id": "2c08e327",
   "metadata": {},
   "outputs": [
    {
     "name": "stdout",
     "output_type": "stream",
     "text": [
      "r$dzmg$gl$yvxlnv$z$wzgz$hxrvmgrhg.\n"
     ]
    }
   ],
   "source": [
    "def encrypt(s:str):\n",
    "    small = list(map(chr, range(97, 123)))\n",
    "\n",
    "    # big = list(map(chr, range(65, 91)))\n",
    "\n",
    "    cryptionDict = {}\n",
    "\n",
    "    for i in range(0,26):\n",
    "        cryptionDict[small[i]] = small[-i-1] \n",
    "    #     cryptionDict[big[i]] = big[-i-1]\n",
    "    cryptionDict[\" \"] = \"$\"\n",
    "    \n",
    "    s=s.lower()\n",
    "    \n",
    "    ns = \"\"\n",
    "    \n",
    "    for i in s:\n",
    "        if i in cryptionDict:\n",
    "            ns += cryptionDict[i]\n",
    "        else: ns += i\n",
    "            \n",
    "    return ns\n",
    "\n",
    "sentence = \"I want to become a Data Scientist.\"\n",
    "\n",
    "print(encrypt(sentence))"
   ]
  },
  {
   "cell_type": "code",
   "execution_count": null,
   "id": "9a8f1a85",
   "metadata": {},
   "outputs": [],
   "source": []
  }
 ],
 "metadata": {
  "kernelspec": {
   "display_name": "Python 3",
   "language": "python",
   "name": "python3"
  },
  "language_info": {
   "codemirror_mode": {
    "name": "ipython",
    "version": 3
   },
   "file_extension": ".py",
   "mimetype": "text/x-python",
   "name": "python",
   "nbconvert_exporter": "python",
   "pygments_lexer": "ipython3",
   "version": "3.8.8"
  }
 },
 "nbformat": 4,
 "nbformat_minor": 5
}
