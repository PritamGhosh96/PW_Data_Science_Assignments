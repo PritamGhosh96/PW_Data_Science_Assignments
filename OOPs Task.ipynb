{
 "cells": [
  {
   "cell_type": "markdown",
   "id": "95e3e515",
   "metadata": {},
   "source": [
    "Q1, Create a vehicle class with an init method having instance variables as name_of_vehicle, max_speed\n",
    "and average_of_vehicle."
   ]
  },
  {
   "cell_type": "code",
   "execution_count": 1,
   "id": "933fa895",
   "metadata": {},
   "outputs": [],
   "source": [
    "class vehicle:\n",
    "    \n",
    "    def __init__(self, name_of_vehicle, max_speed, average_of_vehicle):\n",
    "        self.name_of_vehicle = name_of_vehicle\n",
    "        self.max_speed = max_speed\n",
    "        self.average_of_vehicle = average_of_vehicle"
   ]
  },
  {
   "cell_type": "markdown",
   "id": "3ecdf8ca",
   "metadata": {},
   "source": [
    "Q2. Create a child class car from the vehicle class created in Que 1, which will inherit the vehicle class.\n",
    "Create a method named seating_capacity which takes capacity as an argument and returns the name of\n",
    "the vehicle and its seating capacity."
   ]
  },
  {
   "cell_type": "code",
   "execution_count": 2,
   "id": "05883e79",
   "metadata": {},
   "outputs": [],
   "source": [
    "class car(vehicle):\n",
    "        \n",
    "    def seating_capacity(self, capacity):\n",
    "        return \"Name : \"+ self.name_of_vehicle+\", Seating Capacity : \"+str(capacity) "
   ]
  },
  {
   "cell_type": "code",
   "execution_count": 3,
   "id": "418abe9a",
   "metadata": {},
   "outputs": [],
   "source": [
    "sedan = vehicle(\"Sedan\", 120, 40)"
   ]
  },
  {
   "cell_type": "code",
   "execution_count": 4,
   "id": "b13701e9",
   "metadata": {},
   "outputs": [],
   "source": [
    "c = car(\"Sedan\", 120, 40)"
   ]
  },
  {
   "cell_type": "code",
   "execution_count": 5,
   "id": "14ac1d94",
   "metadata": {},
   "outputs": [
    {
     "data": {
      "text/plain": [
       "'Name : Sedan, Seating Capacity : 5'"
      ]
     },
     "execution_count": 5,
     "metadata": {},
     "output_type": "execute_result"
    }
   ],
   "source": [
    "c.seating_capacity(5)"
   ]
  },
  {
   "cell_type": "markdown",
   "id": "f7b22d1f",
   "metadata": {},
   "source": [
    "Q3. What is multiple inheritance? Write a python code to demonstrate multiple inheritance."
   ]
  },
  {
   "cell_type": "markdown",
   "id": "69de6915",
   "metadata": {},
   "source": [
    "Multiple Inheritance: When child class is derived or inherited from more than one parent class."
   ]
  },
  {
   "cell_type": "code",
   "execution_count": 6,
   "id": "cdb80bdd",
   "metadata": {},
   "outputs": [
    {
     "name": "stdout",
     "output_type": "stream",
     "text": [
      "object oriented programming\n"
     ]
    }
   ],
   "source": [
    "class p1:\n",
    "    v1 = \"object\"\n",
    "class p2:\n",
    "    v2 = \"oriented\"\n",
    "class c1(p1,p2):\n",
    "    v3 = \"programming\"\n",
    "ch = c1()\n",
    "print(ch.v1+\" \"+ch.v2+\" \"+ch.v3)"
   ]
  },
  {
   "cell_type": "markdown",
   "id": "516d9811",
   "metadata": {},
   "source": [
    "Q4. What are getter and setter in python? Create a class and create a getter and a setter method in this\n",
    "class."
   ]
  },
  {
   "cell_type": "markdown",
   "id": "3f6039ea",
   "metadata": {},
   "source": [
    "getters & setters are used to add validation logic around getting and setting a value."
   ]
  },
  {
   "cell_type": "code",
   "execution_count": 7,
   "id": "9fa09507",
   "metadata": {},
   "outputs": [
    {
     "data": {
      "text/plain": [
       "20"
      ]
     },
     "execution_count": 7,
     "metadata": {},
     "output_type": "execute_result"
    }
   ],
   "source": [
    "class student:\n",
    "    \n",
    "    def __init__(self,age = 0):\n",
    "        self.age = age\n",
    "    \n",
    "    def get_age(self): #getting the age\n",
    "        return self.age\n",
    "    def set_age(self, x):\n",
    "        self.age = x #setting age\n",
    "\n",
    "stud = student()\n",
    "\n",
    "stud.set_age(20)\n",
    "\n",
    "stud.get_age()"
   ]
  },
  {
   "cell_type": "markdown",
   "id": "04d5c93f",
   "metadata": {},
   "source": [
    "Q5.What is method overriding in python? Write a python code to demonstrate method overriding."
   ]
  },
  {
   "cell_type": "markdown",
   "id": "8dd5adc3",
   "metadata": {},
   "source": [
    "Method Overriding : Method overriding is an ability of any object-oriented programming language that allows a subclass or child class to provide a specific implementation of a method that is already provided by one of its super-classes or parent classes. When a method in a subclass has the same name, same parameters or signature and same return type(or sub-type) as a method in its super-class, then the method in the subclass is said to override the method in the super-class."
   ]
  },
  {
   "cell_type": "code",
   "execution_count": 9,
   "id": "9f92b5ac",
   "metadata": {},
   "outputs": [],
   "source": [
    "class parent:\n",
    "    \n",
    "    def __init__(self):\n",
    "        self.value = \"Parent\"\n",
    "        \n",
    "    def getValue(self):\n",
    "        return self.value\n",
    "    \n",
    "class child(parent):\n",
    "    \n",
    "    def __init__(self):\n",
    "        self.value = \"Child\"\n",
    "        \n",
    "    def getValue(self):\n",
    "        return self.value\n",
    "    \n",
    "p = parent()\n",
    "c = child()"
   ]
  },
  {
   "cell_type": "code",
   "execution_count": 10,
   "id": "5d4b369f",
   "metadata": {},
   "outputs": [
    {
     "data": {
      "text/plain": [
       "'Parent'"
      ]
     },
     "execution_count": 10,
     "metadata": {},
     "output_type": "execute_result"
    }
   ],
   "source": [
    "p.getValue()"
   ]
  },
  {
   "cell_type": "code",
   "execution_count": 11,
   "id": "216cb9c5",
   "metadata": {},
   "outputs": [
    {
     "data": {
      "text/plain": [
       "'Child'"
      ]
     },
     "execution_count": 11,
     "metadata": {},
     "output_type": "execute_result"
    }
   ],
   "source": [
    "c.getValue()"
   ]
  },
  {
   "cell_type": "code",
   "execution_count": null,
   "id": "a8809e70",
   "metadata": {},
   "outputs": [],
   "source": []
  }
 ],
 "metadata": {
  "kernelspec": {
   "display_name": "Python 3",
   "language": "python",
   "name": "python3"
  },
  "language_info": {
   "codemirror_mode": {
    "name": "ipython",
    "version": 3
   },
   "file_extension": ".py",
   "mimetype": "text/x-python",
   "name": "python",
   "nbconvert_exporter": "python",
   "pygments_lexer": "ipython3",
   "version": "3.8.8"
  }
 },
 "nbformat": 4,
 "nbformat_minor": 5
}
